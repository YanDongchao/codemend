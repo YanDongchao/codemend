{
 "cells": [
  {
   "cell_type": "markdown",
   "metadata": {},
   "source": [
    "## Collecting Interesting Results of BiModal"
   ]
  },
  {
   "cell_type": "markdown",
   "metadata": {},
   "source": [
    "### Good Example of NL -> Code"
   ]
  },
  {
   "cell_type": "code",
   "execution_count": 1,
   "metadata": {
    "collapsed": false
   },
   "outputs": [
    {
     "name": "stdout",
     "output_type": "stream",
     "text": [
      "Restored from /Users/ronxin/Dropbox/git/codemend/codemend/experimental/code_suggest/output/backup/elem_pyplot_counts_0404.pickle\n",
      "CodeSuggest: Loading pyplot fu...\n",
      "CodeSuggest: read 131 fu pairs\n",
      "Restored from /Users/ronxin/Dropbox/git/codemend/codemend/experimental/code_suggest/output/backup/elem_pyplot_counts_0404.pickle\n",
      "Restored from /Users/ronxin/Dropbox/git/codemend/codemend/experimental/code_suggest/output/backup/elem_pyplot_counts_0404.pickle\n"
     ]
    }
   ],
   "source": [
    "from codemend.models.test_bimodal2 import load_model, eval_one"
   ]
  },
  {
   "cell_type": "code",
   "execution_count": 2,
   "metadata": {
    "collapsed": false
   },
   "outputs": [
    {
     "name": "stderr",
     "output_type": "stream",
     "text": [
      "WARNING:gensim.models.word2vec:consider setting layer size to a multiple of 4 for greater performance\n"
     ]
    },
    {
     "name": "stdout",
     "output_type": "stream",
     "text": [
      "Using customized model_id\n",
      "@@@ PLEASE CHECK WHICH FILE IS BEING TESTED ... @@@\n",
      "@@@ MODEL_FILE: models/output/bi2-0410-d.model @@@\n"
     ]
    }
   ],
   "source": [
    "w2v_model, model = load_model('-d')"
   ]
  },
  {
   "cell_type": "markdown",
   "metadata": {},
   "source": [
    "This part is mostly focused on the NL model itself. Can use several word2vec cases to illustrate this. Directly looking up stuff."
   ]
  },
  {
   "cell_type": "markdown",
   "metadata": {},
   "source": [
    "Can directly use word2vec to mention that `alpha` and `transparency`, etc. has great neighborhoods.\n",
    "\n",
    "thicknes has linewidth in neighbor; alpha has opacity, lightness, and saturation, transparency in neighbor; rotation has angle, orientation, counter-clockwise in neighbor;  <— can mention this in the paper)"
   ]
  },
  {
   "cell_type": "markdown",
   "metadata": {},
   "source": [
    "__An example of synonym handling.__"
   ]
  },
  {
   "cell_type": "code",
   "execution_count": 3,
   "metadata": {
    "collapsed": false
   },
   "outputs": [
    {
     "data": {
      "text/plain": [
       "[SuggestItem(elem='plt.pcolor', score=-0.78801955311526228),\n",
       " SuggestItem(elem='plt.subplot2grid@colspan', score=-0.93819437120457394),\n",
       " SuggestItem(elem='plt.tripcolor', score=-0.9552513038132151),\n",
       " SuggestItem(elem='plt.pcolor@0', score=-1.2975969477398355),\n",
       " SuggestItem(elem='plt.subplot2grid@rowspan', score=-1.3239172264709138),\n",
       " SuggestItem(elem='plt.subplots', score=-1.6594702872062252),\n",
       " SuggestItem(elem='plt.tripcolor@1', score=-2.1283936251059909),\n",
       " SuggestItem(elem='plt.pcolor@1', score=-2.1318526746985835),\n",
       " SuggestItem(elem='plt.tripcolor@0', score=-2.3153404226449865),\n",
       " SuggestItem(elem='plt.hist@0', score=-2.4542561397959584)]"
      ]
     },
     "execution_count": 3,
     "metadata": {},
     "output_type": "execute_result"
    }
   ],
   "source": [
    "rank, tmps, suggest_sorted = eval_one(\n",
    "    model, False, '', 'create a heatmap', [])\n",
    "suggest_sorted[:10]\n",
    "\n",
    "# the doc says: create a pseudocolor plot of a 2-d array"
   ]
  },
  {
   "cell_type": "markdown",
   "metadata": {},
   "source": [
    "__An example of looking up parameters.__"
   ]
  },
  {
   "cell_type": "code",
   "execution_count": 4,
   "metadata": {
    "collapsed": false
   },
   "outputs": [
    {
     "data": {
      "text/plain": [
       "[SuggestItem(elem='plt.legend@shadow', score=4.2475464094978257),\n",
       " SuggestItem(elem='plt.text@bbox@boxstyle', score=2.2598484531057892),\n",
       " SuggestItem(elem='plt.boxplot', score=0.44598851355077951),\n",
       " SuggestItem(elem='plt.boxplot@vert', score=0.38773439775204466),\n",
       " SuggestItem(elem='plt.text@bbox', score=0.37785737461653923),\n",
       " SuggestItem(elem='plt.pie@shadow', score=0.021525115355863988),\n",
       " SuggestItem(elem='plt.gca.bxp', score=-0.1762438778108848),\n",
       " SuggestItem(elem='plt.legend', score=-0.25761080993347818),\n",
       " SuggestItem(elem='plt.boxplot@patch_artist', score=-0.26149642142026153),\n",
       " SuggestItem(elem='plt.annotate@bbox@boxstyle', score=-0.32634974653815263)]"
      ]
     },
     "execution_count": 4,
     "metadata": {},
     "output_type": "execute_result"
    }
   ],
   "source": [
    "rank, tmps, suggest_sorted = eval_one(\n",
    "    model, False, '', 'add shadow to legend box', [])\n",
    "suggest_sorted[:10]"
   ]
  },
  {
   "cell_type": "markdown",
   "metadata": {},
   "source": [
    "### Code -> Code"
   ]
  },
  {
   "cell_type": "markdown",
   "metadata": {},
   "source": [
    "__An example of code prediction: recommending function.__"
   ]
  },
  {
   "cell_type": "code",
   "execution_count": 35,
   "metadata": {
    "collapsed": false
   },
   "outputs": [
    {
     "name": "stdout",
     "output_type": "stream",
     "text": [
      "Suggested n-gram,Score (Unormalized)\n",
      "plt.bar@1,-3.510\n",
      "plt.legend,-3.715\n",
      "plt.bar@0,-4.478\n",
      "plt.bar@hatch,-4.556\n",
      "plt.bar@log,-5.512\n",
      "plt.bar@capsize,-5.573\n",
      "plt.legend@loc,-5.715\n",
      "plt.legend@0,-6.027\n",
      "plt.legend@1,-6.096\n",
      "plt.bar@2,-6.360\n"
     ]
    }
   ],
   "source": [
    "rank, tmps, suggest_sorted = eval_one(\n",
    "    model, False, '', '', ['plt.bar','plt.title','plt.bar@label'])\n",
    "\n",
    "suggest_sorted = filter(lambda x:(x.elem.startswith('plt.bar@') and not 'error_kw' in x.elem) or x.elem.startswith('plt.legend'), suggest_sorted)\n",
    "print 'Suggested n-gram,Score (Unormalized)'\n",
    "for x,y in suggest_sorted[:10]:\n",
    "    print '%s,%.3f'%(x,y)\n",
    "\n",
    "# Can ignore the obvious ones, and focus on plt.legend."
   ]
  },
  {
   "cell_type": "code",
   "execution_count": 6,
   "metadata": {
    "collapsed": false
   },
   "outputs": [
    {
     "data": {
      "text/plain": [
       "[SuggestItem(elem='plt.plot@2', score=-2.7624459),\n",
       " SuggestItem(elem='plt.xlabel', score=-3.6175334),\n",
       " SuggestItem(elem='plt.figure', score=-3.6680682),\n",
       " SuggestItem(elem='plt.show', score=-3.7916179),\n",
       " SuggestItem(elem='plt.gca', score=-3.9611392),\n",
       " SuggestItem(elem='plt.figure.add_subplot@0', score=-4.2267737),\n",
       " SuggestItem(elem='plt.ylabel', score=-4.3605466),\n",
       " SuggestItem(elem='plt.figure.add_subplot@sharex', score=-4.4766192),\n",
       " SuggestItem(elem='plt.clabel@inline_spacing', score=-4.9024892),\n",
       " SuggestItem(elem='plt.figure.add_subplot@1', score=-4.9343376)]"
      ]
     },
     "execution_count": 6,
     "metadata": {},
     "output_type": "execute_result"
    }
   ],
   "source": [
    "rank, tmps, suggest_sorted = eval_one(\n",
    "    model, False, '', '', ['plt.contourf', 'plt.xlabel'])\n",
    "suggest_sorted[:10]\n",
    "\n",
    "# Can look at plt.clabe and plt.ylabel"
   ]
  },
  {
   "cell_type": "code",
   "execution_count": 7,
   "metadata": {
    "collapsed": false
   },
   "outputs": [
    {
     "data": {
      "text/plain": [
       "[SuggestItem(elem='plt.plot@1', score=-4.6351042),\n",
       " SuggestItem(elem='plt.plot@label', score=-5.1319871),\n",
       " SuggestItem(elem='plt.plot@lw', score=-5.3192649),\n",
       " SuggestItem(elem='plt.plot@0', score=-5.7902393),\n",
       " SuggestItem(elem='plt.plot@color', score=-5.9276853),\n",
       " SuggestItem(elem='plt.plot@solid_capstyle', score=-5.9779816),\n",
       " SuggestItem(elem='plt.plot@visible', score=-6.1596565),\n",
       " SuggestItem(elem='plt.plot@linewidth', score=-6.3119426),\n",
       " SuggestItem(elem='plt.plot@ls', score=-6.441226),\n",
       " SuggestItem(elem='plt.plot@c', score=-6.5080647),\n",
       " SuggestItem(elem='plt.plot@marker', score=-6.6695943),\n",
       " SuggestItem(elem='plt.plot@alpha', score=-6.878922),\n",
       " SuggestItem(elem='plt.plot@linestyle', score=-6.9828649),\n",
       " SuggestItem(elem='plt.plot@solid_joinstyle', score=-7.0469084),\n",
       " SuggestItem(elem='plt.plot@fillstyle', score=-7.1943598)]"
      ]
     },
     "execution_count": 7,
     "metadata": {},
     "output_type": "execute_result"
    }
   ],
   "source": [
    "rank, tmps, suggest_sorted = eval_one(\n",
    "    model, False, '', '', ['plt.plot','plt.plot@color'])\n",
    "\n",
    "suggest_sorted = filter(lambda x:x.elem.startswith('plt.plot@'), suggest_sorted)\n",
    "suggest_sorted[:15]\n",
    "\n",
    "# Can focus on @label, @linewidth, @marker"
   ]
  },
  {
   "cell_type": "markdown",
   "metadata": {},
   "source": [
    "### Code -> NL"
   ]
  },
  {
   "cell_type": "code",
   "execution_count": 8,
   "metadata": {
    "collapsed": true
   },
   "outputs": [],
   "source": [
    "from codemend import relative_path"
   ]
  },
  {
   "cell_type": "code",
   "execution_count": 9,
   "metadata": {
    "collapsed": true
   },
   "outputs": [],
   "source": [
    "with open(relative_path('models/output/mpl_so_goals.txt')) as reader:\n",
    "    id_goals = reader.read().decode('utf-8').split('\\n')"
   ]
  },
  {
   "cell_type": "code",
   "execution_count": 10,
   "metadata": {
    "collapsed": false
   },
   "outputs": [
    {
     "data": {
      "text/plain": [
       "3703"
      ]
     },
     "execution_count": 10,
     "metadata": {},
     "output_type": "execute_result"
    }
   ],
   "source": [
    "len(id_goals)"
   ]
  },
  {
   "cell_type": "code",
   "execution_count": 11,
   "metadata": {
    "collapsed": false
   },
   "outputs": [],
   "source": [
    "goals = []\n",
    "for x in id_goals:\n",
    "    if len(x.split('\\t')) == 2:\n",
    "        id_,goal = x.split('\\t')\n",
    "        goals.append(goal)"
   ]
  },
  {
   "cell_type": "code",
   "execution_count": 12,
   "metadata": {
    "collapsed": false
   },
   "outputs": [
    {
     "data": {
      "text/plain": [
       "3702"
      ]
     },
     "execution_count": 12,
     "metadata": {},
     "output_type": "execute_result"
    }
   ],
   "source": [
    "len(goals)"
   ]
  },
  {
   "cell_type": "code",
   "execution_count": 13,
   "metadata": {
    "collapsed": true
   },
   "outputs": [],
   "source": [
    "import numpy as np\n",
    "from codemend.models.bimodal2 import get_l_idxs\n",
    "# Index all goal vectors\n",
    "vecs = []\n",
    "indexed_goals = []\n",
    "for goal in goals:\n",
    "    goal_original = goal\n",
    "    goal = goal.replace('matplotlib', ' ')\n",
    "    goal = goal.replace('python', ' ')\n",
    "    goal = goal.replace('error', ' ')\n",
    "    if not goal: continue\n",
    "    l_idxs = get_l_idxs(model, goal)\n",
    "    if not l_idxs: continue\n",
    "    l_vec = model.syn0l[l_idxs].mean(0)\n",
    "    vecs.append(l_vec)\n",
    "    indexed_goals.append(goal_original)\n",
    "vecmat = np.array(vecs)"
   ]
  },
  {
   "cell_type": "code",
   "execution_count": 14,
   "metadata": {
    "collapsed": false
   },
   "outputs": [
    {
     "data": {
      "text/plain": [
       "(3688, 150)"
      ]
     },
     "execution_count": 14,
     "metadata": {},
     "output_type": "execute_result"
    }
   ],
   "source": [
    "vecmat.shape"
   ]
  },
  {
   "cell_type": "code",
   "execution_count": 15,
   "metadata": {
    "collapsed": true
   },
   "outputs": [],
   "source": [
    "lower_rvecs = model.syn1r[:,model.vector_size:]"
   ]
  },
  {
   "cell_type": "code",
   "execution_count": 16,
   "metadata": {
    "collapsed": false
   },
   "outputs": [
    {
     "data": {
      "text/plain": [
       "(9569, 150)"
      ]
     },
     "execution_count": 16,
     "metadata": {},
     "output_type": "execute_result"
    }
   ],
   "source": [
    "lower_rvecs.shape"
   ]
  },
  {
   "cell_type": "code",
   "execution_count": 17,
   "metadata": {
    "collapsed": false
   },
   "outputs": [],
   "source": [
    "all_sim = vecmat.dot(lower_rvecs.T)"
   ]
  },
  {
   "cell_type": "code",
   "execution_count": 18,
   "metadata": {
    "collapsed": false
   },
   "outputs": [
    {
     "data": {
      "text/plain": [
       "(39.69572279036101, -54.035363683362064)"
      ]
     },
     "execution_count": 18,
     "metadata": {},
     "output_type": "execute_result"
    }
   ],
   "source": [
    "np.max(all_sim), np.min(all_sim)"
   ]
  },
  {
   "cell_type": "code",
   "execution_count": 19,
   "metadata": {
    "collapsed": false
   },
   "outputs": [
    {
     "name": "stdout",
     "output_type": "stream",
     "text": [
      "18.00 -- on lion installation -- plt.xlabel\n",
      "16.34 -- color and line writing  -- plt.plot@color\n",
      "15.24 -- questions -- plt.gca.set_aspect\n",
      "19.43 -- change a patch in patchcollection -- plt.gca.add_patch\n",
      "19.69 -- change a patch in patchcollection -- plt.gca.add_patch@0\n",
      "16.32 -- subprocess/backend issue -- plt.plot@0\n",
      "16.46 -- subprocess/backend issue -- plt.plot@1\n",
      "15.44 -- subprocess/backend issue -- plt.xlim\n",
      "18.38 -- with dates -- plt.plot_date.__doc__\n",
      "19.86 -- with dates -- plt.plot_date@2\n",
      "15.10 -- with dates -- plt.plot_date@fmt\n",
      "18.55 -- with dates -- plt.plot_date@tz\n",
      "16.47 -- with dates -- plt.plot_date@xdate\n",
      "16.39 -- with dates -- plt.plot_date@ydate\n",
      "15.87 -- turn a numpy array into a matplotlib colormap -- plt.pcolor@cmap\n",
      "15.59 -- turn a numpy array into a matplotlib colormap -- plt.pcolormesh@cmap\n",
      "15.12 -- update lines  -- plt.plot@color\n",
      "19.29 -- save matplotlib file to a directory -- plt.xticks\n",
      "15.19 -- save matplotlib file to a directory -- plt.xticks@0\n",
      "15.48 -- change the font size of the scale? (matplotlib) -- plt.legend@prop@size\n",
      "15.53 -- change the font size of the scale? (matplotlib) -- plt.text@size\n",
      "18.42 -- draw candlesticks(matploblit) -- plt.draw\n",
      "15.70 -- draw candlesticks(matploblit) -- plt.draw@0\n",
      "18.99 -- draw candlesticks(matploblit) -- plt.legend.draw\n",
      "15.19 -- add padding to the top and bottom of a pyplot -- plt.gca.get_ylim\n",
      "18.63 -- change markerfacecolor for some of the markers  -- plt.errorbar@marker\n",
      "17.81 -- change markerfacecolor for some of the markers  -- plt.plot@markeredgecolor\n",
      "15.84 -- change markerfacecolor for some of the markers  -- plt.plot@markeredgewidth\n",
      "17.43 -- change markerfacecolor for some of the markers  -- plt.plot@markerfacecolor\n",
      "15.86 -- change markerfacecolor for some of the markers  -- plt.plot@markersize\n",
      "19.00 -- change markerfacecolor for some of the markers  -- plt.plot_date@marker\n",
      "15.29 -- import matplotlib  -- plt.plot@1\n",
      "16.98 -- date index formatting -- plt.gca.xaxis_date\n",
      "16.88 -- legends not working -- plt.figlegend@1\n",
      "17.41 -- legends not working -- plt.legend\n",
      "17.25 -- legends not working -- plt.legend.draw@0\n",
      "15.02 -- legends not working -- plt.legend.set_zorder\n",
      "15.73 -- install failure on mac osx 10.8 mountain lion -- plt.xlabel@0\n",
      "15.80 -- table: individual column width -- plt.subplots@ncols\n",
      "15.27 -- draw a rectangle on the legend  -- plt.legend.draw\n",
      "15.91 -- call member functions and pass arguments with map function  -- plt.subplots@subplot_kw\n",
      "15.02 -- subplots with same 'settings' -- plt.subplots\n",
      "19.00 -- get current plot's clim  -- plt.gca\n",
      "15.42 -- get current plot's clim  -- plt.sci\n",
      "15.20 -- get current plot's clim  -- plt.sci@0\n",
      "16.95 -- get current plot's clim  -- plt.xlabel\n",
      "19.44 -- get current plot's clim  -- plt.ylabel\n",
      "17.87 -- get current plot's clim  -- plt.ylim\n",
      "18.50 -- get different point in ipython -- plt.plot@linewidth\n",
      "17.11 -- clear only part of matplotlib figure -- plt.clf\n",
      "16.01 -- imshow twiny() problems -- plt.imshow.set_clim@0\n",
      "18.73 -- imshow twiny() problems -- plt.imshow@0\n",
      "16.01 -- runtime error -- plt.gca.set_aspect\n",
      "15.55 -- get matplotlib color cycle state -- plt.gca.set_color_cycle\n",
      "17.04 -- render canvas in django templates -- plt.gca.draw_artist\n",
      "17.16 -- custom marker/symbol -- plt.colorbar@extend\n",
      "18.22 -- custom marker/symbol -- plt.legend@handler_map\n",
      "15.26 -- python change axis -- plt.twiny.set_frame_on\n",
      "18.01 -- label doesn't work -- plt.barh@label\n",
      "19.21 -- label doesn't work -- plt.clabel@0\n",
      "16.00 -- label doesn't work -- plt.clabel@1\n",
      "16.90 -- label doesn't work -- plt.errorbar@label\n",
      "15.84 -- label doesn't work -- plt.plot_date@label\n",
      "15.12 -- label doesn't work -- plt.scatter@label\n",
      "17.31 -- label doesn't work -- plt.semilogy@label\n",
      "15.50 -- label doesn't work -- plt.vlines@label\n",
      "17.10 -- change the size of the rows and columns of a matrix  -- plt.subplots@nrows\n",
      "16.11 -- hooking in to home/back/forward button events -- plt.plot@picker\n",
      "15.45 -- return a value from button_press_event matplotlib -- plt.contourf@vmax\n",
      "15.78 -- return a value from button_press_event matplotlib -- plt.contourf@vmin\n",
      "15.61 -- return a value from button_press_event matplotlib -- plt.gca.get_images\n",
      "18.85 -- return a value from button_press_event matplotlib -- plt.gca.get_xticks\n",
      "16.76 -- return a value from button_press_event matplotlib -- plt.gca.get_yticks\n",
      "16.61 -- subplot axes -- plt.legend.__doc__\n",
      "16.75 -- title upon one `colobar` -- plt.suptitle\n",
      "15.28 -- title upon one `colobar` -- plt.suptitle@0\n",
      "15.81 -- change the table's fontsize with matplotlib.pyplot -- plt.text@fontsize\n",
      "15.58 -- plot nothing but the legend in matplotlib subplot -- plt.legend.__doc__\n",
      "19.75 -- use x11 as backend for matplotlib on mountain lion of mac osx -- plt.xlabel\n",
      "15.62 -- use of //  -- plt.gca\n",
      "15.46 -- change shapes/colours for 3d points with matplot3d -- plt.plot@markersize\n",
      "16.89 -- border width -- plt.barh@linewidth\n",
      "16.10 -- border width -- plt.legend@borderpad\n",
      "15.01 -- color each errorbar with different color -- plt.bar@color\n",
      "15.11 -- color each errorbar with different color -- plt.barh@color\n",
      "18.92 -- graphing -- plt.errorbar\n",
      "19.36 -- graphing -- plt.errorbar@0\n",
      "16.92 -- graphing -- plt.errorbar@1\n",
      "15.87 -- make matplotlib colormap from numpy array -- plt.pcolor@cmap\n",
      "15.59 -- make matplotlib colormap from numpy array -- plt.pcolormesh@cmap\n",
      "15.76 -- copy axes instance -- plt.gca.add_collection\n",
      "15.62 -- copy axes instance -- plt.gca.add_collection@0\n",
      "15.65 -- copy axes instance -- plt.gca.get_position\n",
      "16.88 -- import matplotlib.pyplot hangs -- plt.plot\n",
      "16.88 -- import matplotlib.pyplot hangs -- plt.plot@0\n",
      "18.24 -- import matplotlib.pyplot hangs -- plt.plot@1\n",
      "15.84 -- import matplotlib.pyplot hangs -- plt.plot@2\n",
      "15.23 -- import matplotlib.pyplot hangs -- plt.xlim\n",
      "16.97 -- not continuing lines after nan's -- plt.plot\n",
      "17.31 -- not continuing lines after nan's -- plt.plot@0\n",
      "17.22 -- not continuing lines after nan's -- plt.plot@1\n",
      "15.94 -- not continuing lines after nan's -- plt.plot@color\n",
      "18.58 -- not continuing lines after nan's -- plt.plot@linewidth\n",
      "19.33 -- not continuing lines after nan's -- plt.plot@marker\n",
      "15.12 -- how to convert dates from sqlite to matplotlib firmat -- plt.gca.xaxis_date\n",
      "15.86 -- get numpy array of matplotlib tricontourf -- plt.barh@xerr\n",
      "16.13 -- get numpy array of matplotlib tricontourf -- plt.boxplot@conf_intervals\n",
      "15.10 -- get numpy array of matplotlib tricontourf -- plt.boxplot@usermedians\n",
      "18.30 -- get numpy array of matplotlib tricontourf -- plt.errorbar@xerr\n",
      "15.83 -- get numpy array of matplotlib tricontourf -- plt.imread\n",
      "17.42 -- get numpy array of matplotlib tricontourf -- plt.matshow\n",
      "18.20 -- get numpy array of matplotlib tricontourf -- plt.matshow@0\n",
      "15.44 -- get numpy array of matplotlib tricontourf -- plt.matshow@vmin\n",
      "16.38 -- get numpy array of matplotlib tricontourf -- plt.pcolor.__doc__\n",
      "19.21 -- get numpy array of matplotlib tricontourf -- plt.pcolormesh@cmap\n",
      "16.22 -- get numpy array of matplotlib tricontourf -- plt.pcolormesh@norm\n",
      "15.70 -- font families: using arno pro or other fonts -- plt.text@family\n",
      "17.40 -- bar3d clipping problems -- plt.text@clip_on\n",
      "16.81 -- use matplotlib in django -- plt.contourf@cmap\n",
      "15.75 -- change the line colour for different lines in a subplot -- plt.plot@color\n",
      "15.29 -- import error python -- plt.plot@1\n",
      "15.67 -- change the count in a python histogram bin -- plt.hist@bins\n",
      "15.84 -- change the count in a python histogram bin -- plt.hist@cumulative\n",
      "19.58 -- change the colorbar in healpy.mollview -- plt.colorbar\n",
      "15.98 -- change the colorbar in healpy.mollview -- plt.colorbar.ax.set_aspect@0\n",
      "15.48 -- change the colorbar in healpy.mollview -- plt.colorbar.set_ticklabels@0\n",
      "15.86 -- change the colorbar in healpy.mollview -- plt.colorbar@aspect\n",
      "15.64 -- run python script in canopy in new python shell -- plt.xlim\n",
      "15.82 -- pyplot.title(string) returns error -- plt.csd@return_line\n",
      "15.16 -- pyplot.title(string) returns error -- plt.gca.bxp@meanline\n",
      "16.77 -- pyplot.title(string) returns error -- plt.gca.get_axes_locator\n",
      "15.48 -- pyplot.title(string) returns error -- plt.gca.get_axis_bgcolor\n",
      "18.21 -- pyplot.title(string) returns error -- plt.gca.get_images\n",
      "15.15 -- pyplot.title(string) returns error -- plt.gca.get_lines\n",
      "17.18 -- pyplot.title(string) returns error -- plt.gca.get_position\n",
      "15.25 -- pyplot.title(string) returns error -- plt.gca.get_xaxis.set_major_formatter@0\n",
      "17.62 -- pyplot.title(string) returns error -- plt.gca.get_yticks\n",
      "15.69 -- pyplot.title(string) returns error -- plt.gca.ishold\n",
      "15.85 -- pyplot.title(string) returns error -- plt.get_fignums\n",
      "15.41 -- pyplot.title(string) returns error -- plt.hist@bins\n",
      "17.72 -- pyplot.title(string) returns error -- plt.hist@normed\n",
      "15.45 -- pyplot.title(string) returns error -- plt.ishold\n",
      "15.37 -- clear surface -- plt.clf\n",
      "18.80 -- clear surface -- plt.gca.clear\n",
      "15.59 -- delet an axvspan line -- plt.axhline@color\n",
      "16.25 -- delet an axvspan line -- plt.axhline@linewidth\n",
      "16.77 -- delet an axvspan line -- plt.axvline@color\n",
      "17.67 -- delet an axvspan line -- plt.plot@2\n",
      "15.33 -- delet an axvspan line -- plt.plot@linestyle\n",
      "19.84 -- delet an axvspan line -- plt.vlines\n",
      "17.48 -- delet an axvspan line -- plt.vlines@0\n",
      "17.06 -- delet an axvspan line -- plt.vlines@1\n",
      "17.32 -- delet an axvspan line -- plt.vlines@2\n",
      "16.45 -- delet an axvspan line -- plt.vlines@color\n",
      "15.50 -- float to hh:mm -- plt.clabel@fmt\n",
      "16.21 -- float to hh:mm -- plt.errorbar@yerr\n",
      "15.35 -- float to hh:mm -- plt.figure@num\n",
      "15.27 -- table columns with different colormap -- plt.subplots@ncols\n",
      "17.65 -- make markers on lines smaller  -- plt.plot@marker\n",
      "16.24 -- mark a point  -- plt.plot@markersize\n",
      "16.88 -- stackplot legend error -- plt.figlegend@1\n",
      "17.41 -- stackplot legend error -- plt.legend\n",
      "17.25 -- stackplot legend error -- plt.legend.draw@0\n",
      "15.02 -- stackplot legend error -- plt.legend.set_zorder\n",
      "15.45 -- use the return value from pandas.dataframe.boxplot -- plt.contourf@vmax\n",
      "15.78 -- use the return value from pandas.dataframe.boxplot -- plt.contourf@vmin\n",
      "15.61 -- use the return value from pandas.dataframe.boxplot -- plt.gca.get_images\n",
      "18.85 -- use the return value from pandas.dataframe.boxplot -- plt.gca.get_xticks\n",
      "16.76 -- use the return value from pandas.dataframe.boxplot -- plt.gca.get_yticks\n",
      "17.05 -- extract columns using \"genfromtxt\" -- plt.subplots@ncols\n",
      "15.31 -- plot/scatter columns of matrices -- plt.matshow\n",
      "16.63 -- plot/scatter columns of matrices -- plt.subplots@nrows\n",
      "15.50 -- get python shell to find matplotlib -- plt.gca\n",
      "15.06 -- get python shell to find matplotlib -- plt.gca.set_autoscale_on@0\n",
      "18.56 -- get python shell to find matplotlib -- plt.gca.set_color_cycle\n",
      "17.96 -- get python shell to find matplotlib -- plt.plot@linewidth\n",
      "17.11 -- clear triplot from figure -- plt.clf\n",
      "15.52 -- django templates -- plt.gca.draw_artist\n",
      "15.05 -- django templates -- plt.subplot@projection\n",
      "15.30 -- basemap animation -- plt.plot@animated\n",
      "16.01 -- imshow() error -- plt.imshow.set_clim@0\n",
      "18.73 -- imshow() error -- plt.imshow@0\n",
      "19.11 -- transform transformed object in matplotlib without recursion -- plt.plot@transform\n",
      "16.20 -- change fonts in matplotlib (python) -- plt.annotate@family\n",
      "17.26 -- change fonts in matplotlib (python) -- plt.annotate@fontproperties\n",
      "16.42 -- change fonts in matplotlib (python) -- plt.annotate@size\n",
      "19.26 -- change fonts in matplotlib (python) -- plt.legend@fontsize\n",
      "15.73 -- change fonts in matplotlib (python) -- plt.legend@handlelength\n",
      "15.42 -- change fonts in matplotlib (python) -- plt.legend@handletextpad\n",
      "19.29 -- change fonts in matplotlib (python) -- plt.text@family\n",
      "18.26 -- change fonts in matplotlib (python) -- plt.text@fontproperties\n",
      "16.24 -- change fonts in matplotlib (python) -- plt.text@style\n",
      "15.99 -- change fonts in matplotlib (python) -- plt.title@size\n",
      "15.35 -- install python-matplotlib in ubuntu 12.04 -- plt.xlabel\n",
      "15.46 -- doesn't show lines -- plt.plot@color\n",
      "17.56 -- in python on a mac opens a new window -- plt.xlabel\n",
      "15.01 -- index masked element array -- plt.boxplot@conf_intervals\n",
      "15.38 -- index masked element array -- plt.pcolormesh@cmap\n",
      "16.88 -- change legend fontname  -- plt.figlegend@1\n",
      "17.41 -- change legend fontname  -- plt.legend\n",
      "17.25 -- change legend fontname  -- plt.legend.draw@0\n",
      "15.02 -- change legend fontname  -- plt.legend.set_zorder\n",
      "17.16 -- fatal error ft2 -- plt.xlabel\n",
      "17.89 -- fatal error ft2 -- plt.xlim\n",
      "15.29 -- fatal error ft2 -- plt.xticks\n",
      "15.39 -- exiting error -- plt.ginput\n",
      "16.02 -- exiting error -- plt.show@block\n",
      "15.75 -- pylab loadtxt error -- plt.plot\n",
      "15.45 -- pylab loadtxt error -- plt.plot@0\n",
      "16.87 -- pylab loadtxt error -- plt.plot@1\n",
      "15.82 -- requires pyparsing -- plt.gca\n",
      "19.45 -- text (and figtext) error -- plt.figtext@0\n",
      "18.07 -- text (and figtext) error -- plt.figtext@1\n",
      "16.07 -- text (and figtext) error -- plt.figtext@2\n",
      "15.80 -- text (and figtext) error -- plt.text.set_text@0\n",
      "19.66 -- text (and figtext) error -- plt.text@0\n",
      "19.71 -- text (and figtext) error -- plt.text@2\n",
      "15.29 -- text (and figtext) error -- plt.text@transform\n",
      "15.24 -- text (and figtext) error -- plt.text@zorder\n",
      "16.93 -- convert poly1d to string ipython -- plt.annotate@textcoords\n",
      "16.98 -- convert poly1d to string ipython -- plt.clabel@fmt\n",
      "16.91 -- convert poly1d to string ipython -- plt.gca.format_coord\n",
      "19.23 -- convert poly1d to string ipython -- plt.gca.set_yticklabels@0\n",
      "15.28 -- convert poly1d to string ipython -- plt.pie@autopct\n",
      "16.36 -- convert poly1d to string ipython -- plt.plot@transform\n",
      "16.30 -- convert poly1d to string ipython -- plt.plot_date@fmt\n",
      "16.54 -- convert poly1d to string ipython -- plt.scatter@c\n",
      "15.08 -- plot arrays of different lengths -- plt.boxplot@conf_intervals\n",
      "15.12 -- figures -- plt.figure.canvas.manager.destroy\n",
      "15.97 -- figures -- plt.figure.read.split@0\n",
      "17.98 -- take word repetition out of a list -- plt.gca.add_line\n",
      "15.62 -- take word repetition out of a list -- plt.gca.add_line@0\n",
      "15.32 -- take word repetition out of a list -- plt.gca.get_xticklabels\n",
      "17.04 -- take word repetition out of a list -- plt.gca.set_xticklabels\n",
      "17.44 -- take word repetition out of a list -- plt.gca.set_xticklabels@0\n",
      "18.50 -- take word repetition out of a list -- plt.gca.set_yticklabels\n",
      "15.81 -- take word repetition out of a list -- plt.gca.set_yticklabels@0\n",
      "19.77 -- histogram error -- plt.hist\n",
      "17.19 -- histogram error -- plt.hist@0\n",
      "16.02 -- histogram error -- plt.hist@11\n",
      "15.24 -- histogram error -- plt.hist@edgecolor\n",
      "17.04 -- histogram error -- plt.hist@facecolor\n",
      "15.51 -- histogram error -- plt.hist@histtype\n",
      "19.95 -- on mac doesn't display -- plt.xlabel\n",
      "16.09 -- get all bars in a matplotlib bar chart -- plt.bar\n",
      "15.35 -- plot list of 16 lists -- plt.gca.add_line\n",
      "17.02 -- make histogram in python with list -- plt.gca.add_line\n",
      "17.29 -- fill between -- plt.fill_between@where\n",
      "17.57 -- excessive memory use -- plt.scatter@s\n",
      "19.77 -- histogram allignment -- plt.hist\n",
      "17.19 -- histogram allignment -- plt.hist@0\n",
      "16.02 -- histogram allignment -- plt.hist@11\n",
      "15.24 -- histogram allignment -- plt.hist@edgecolor\n",
      "17.04 -- histogram allignment -- plt.hist@facecolor\n",
      "15.51 -- histogram allignment -- plt.hist@histtype\n",
      "19.16 -- string to dates -- plt.gca.set_xticklabels\n",
      "17.53 -- string to dates -- plt.gca.set_xticklabels@0\n",
      "16.43 -- string to dates -- plt.gca.set_yticklabels\n",
      "15.56 -- string to dates -- plt.gca.set_yticklabels@0\n",
      "19.97 -- string to dates -- plt.gca.xaxis_date\n",
      "15.22 -- string to dates -- plt.plot_date@fmt\n",
      "15.95 -- use matplotlib in plone -- plt.contourf@cmap\n",
      "17.28 -- tripcolor - removing edges -- plt.plot@markeredgecolor\n",
      "17.52 -- make matplotlib redraw faster -- plt.draw\n",
      "19.62 -- rendering -- plt.gca.draw_artist@0\n",
      "15.59 -- line overlap/resolution -- plt.axhline@color\n",
      "16.25 -- line overlap/resolution -- plt.axhline@linewidth\n",
      "16.77 -- line overlap/resolution -- plt.axvline@color\n",
      "17.67 -- line overlap/resolution -- plt.plot@2\n",
      "15.33 -- line overlap/resolution -- plt.plot@linestyle\n",
      "19.84 -- line overlap/resolution -- plt.vlines\n",
      "17.48 -- line overlap/resolution -- plt.vlines@0\n",
      "17.06 -- line overlap/resolution -- plt.vlines@1\n",
      "17.32 -- line overlap/resolution -- plt.vlines@2\n",
      "16.45 -- line overlap/resolution -- plt.vlines@color\n",
      "15.57 -- get all legends from a plot -- plt.legend.__doc__\n",
      "17.71 -- remove whitespace from matplotlib heatplot -- plt.delaxes\n",
      "16.02 -- remove whitespace from matplotlib heatplot -- plt.delaxes@0\n",
      "17.34 -- remove whitespace from matplotlib heatplot -- plt.gca.set_xticklabels\n",
      "15.66 -- remove whitespace from matplotlib heatplot -- plt.gca.set_xticklabels@0\n",
      "15.90 -- remove whitespace from matplotlib heatplot -- plt.plot@marker\n",
      "16.66 -- crashes -- plt.loglog\n",
      "16.73 -- crashes -- plt.plot\n",
      "16.78 -- crashes -- plt.plot@0\n",
      "19.80 -- crashes -- plt.plot@1\n",
      "17.70 -- crashes -- plt.plot@2\n",
      "15.83 -- crashes -- plt.plot@label\n",
      "15.13 -- crashes -- plt.xlabel\n",
      "15.95 -- crashes -- plt.xlim\n",
      "19.58 -- use colorbar with hist2d in matplotlib.pyplot -- plt.colorbar\n",
      "15.98 -- use colorbar with hist2d in matplotlib.pyplot -- plt.colorbar.ax.set_aspect@0\n",
      "15.48 -- use colorbar with hist2d in matplotlib.pyplot -- plt.colorbar.set_ticklabels@0\n",
      "15.86 -- use colorbar with hist2d in matplotlib.pyplot -- plt.colorbar@aspect\n",
      "15.43 -- line collection and additional line -- plt.plot@marker\n",
      "19.65 -- install numpy for python 3.3.5 on mac osx 10.9 -- plt.xlabel\n",
      "15.16 -- error with monospace fonts and formatterwarning -- plt.legend@prop\n",
      "15.27 -- error with monospace fonts and formatterwarning -- plt.legend@prop@size\n",
      "15.44 -- define aspect ratio when using twinx -- plt.gca.set_aspect\n",
      "17.84 -- define aspect ratio when using twinx -- plt.gca.set_aspect@0\n",
      "16.52 -- can not import pylab -- plt.plot\n",
      "15.93 -- can not import pylab -- plt.plot@0\n",
      "16.66 -- can not import pylab -- plt.plot@1\n",
      "16.66 -- target a list element of a matplotlib object that \"returns a list\" -- plt.gca.add_line\n",
      "15.43 -- target a list element of a matplotlib object that \"returns a list\" -- plt.gca.get_images\n",
      "17.06 -- target a list element of a matplotlib object that \"returns a list\" -- plt.gca.get_xticks\n",
      "15.31 -- target a list element of a matplotlib object that \"returns a list\" -- plt.gca.set_yticklabels\n",
      "15.29 -- import error ft2font -- plt.plot@1\n",
      "15.13 -- use matplotlib, terminal, and sublime text (text editor) together -- plt.text\n",
      "15.17 -- get corresponding values in two lists -- plt.gca.get_xticks\n",
      "16.08 -- pass parameters to on_key in fig.canvas.mpl_connect('key_press_event', on_key) -- plt.subplots@subplot_kw\n",
      "16.35 -- inherit matplotlib  -- plt.colorbar@cax\n",
      "15.17 -- inherit matplotlib  -- plt.colorbar@extend\n",
      "15.45 -- inherit matplotlib  -- plt.gca.add_collection\n",
      "16.43 -- inherit matplotlib  -- plt.gca.add_collection@0\n",
      "16.42 -- not showing up in mac osx -- plt.xlabel@0\n",
      "17.93 -- save animation in gif error -- plt.plot@animated\n",
      "17.10 -- make a matplotlib animation, by clf()'ing each frame -- plt.plot@animated\n",
      "15.78 -- backend_tkagg tclerror -- plt.xlabel\n",
      "18.74 -- annotation not working -- plt.annotate\n",
      "16.09 -- annotation not working -- plt.annotate.set_visible\n",
      "15.56 -- annotation not working -- plt.annotate@0\n",
      "16.45 -- annotation not working -- plt.annotate@2\n",
      "16.50 -- handle an asymptote/discontinuity  -- plt.gca.get_legend_handles_labels\n",
      "19.67 -- plot_trisurf without edges -- plt.bar@align\n",
      "15.96 -- plot_trisurf without edges -- plt.barh@align\n",
      "17.68 -- plot_trisurf without edges -- plt.legend@fancybox\n",
      "16.44 -- plot_trisurf without edges -- plt.text@bbox@edgecolor\n",
      "18.01 -- labels are stripped/overlapped -- plt.barh@label\n",
      "19.21 -- labels are stripped/overlapped -- plt.clabel@0\n",
      "16.00 -- labels are stripped/overlapped -- plt.clabel@1\n",
      "16.90 -- labels are stripped/overlapped -- plt.errorbar@label\n",
      "15.84 -- labels are stripped/overlapped -- plt.plot_date@label\n",
      "15.12 -- labels are stripped/overlapped -- plt.scatter@label\n",
      "17.31 -- labels are stripped/overlapped -- plt.semilogy@label\n",
      "15.50 -- labels are stripped/overlapped -- plt.vlines@label\n",
      "15.43 -- get each level of a contour - matplotlib -- plt.contour@levels\n",
      "16.53 -- get each level of a contour - matplotlib -- plt.contourf@extend\n",
      "15.87 -- get each level of a contour - matplotlib -- plt.contourf@levels\n",
      "15.46 -- python3.4.1 win7 -- plt.xlabel\n",
      "17.88 -- subplot in a for loop -- plt.subplots\n",
      "15.89 -- plot in ccdf with a list -- plt.gca.add_line\n",
      "18.47 -- s an axessubplot  -- plt.scatter@s\n",
      "16.52 -- change the number of minorticks -- plt.contour@levels\n",
      "15.39 -- change the number of minorticks -- plt.contourf@levels\n",
      "15.50 -- change the number of minorticks -- plt.legend@ncol\n",
      "17.78 -- change the number of minorticks -- plt.legend@numpoints\n",
      "17.10 -- change the number of minorticks -- plt.subplots@nrows\n",
      "15.45 -- change the number of minorticks -- plt.xcorr@maxlags\n",
      "15.60 -- generate a random cluster of points around a given point python -- plt.plot@markersize\n",
      "16.66 -- crashing python -- plt.loglog\n",
      "16.73 -- crashing python -- plt.plot\n",
      "16.78 -- crashing python -- plt.plot@0\n",
      "19.80 -- crashing python -- plt.plot@1\n",
      "17.70 -- crashing python -- plt.plot@2\n",
      "15.83 -- crashing python -- plt.plot@label\n",
      "15.13 -- crashing python -- plt.xlabel\n",
      "15.95 -- crashing python -- plt.xlim\n",
      "17.90 -- clear the cache in matplotlib for python -- plt.clf\n",
      "17.23 -- clear the cache in matplotlib for python -- plt.gca.clear\n",
      "15.28 -- run a loop through 2 lists simultaneously so each item in the loops match up? [python] -- plt.gca.add_line\n",
      "19.82 -- mac osx yosemite 10.10.1 -- plt.xlim\n",
      "16.02 -- xkcd not working on mac -- plt.xlabel\n",
      "17.67 -- delete lines  -- plt.plot@marker\n",
      "15.87 -- hangs if avassetreader was used -- plt.plot\n",
      "16.40 -- hangs if avassetreader was used -- plt.plot@0\n",
      "16.45 -- hangs if avassetreader was used -- plt.plot@1\n",
      "18.34 -- divide ytics to a certain number  -- plt.subplots@ncols\n",
      "16.24 -- divide ytics to a certain number  -- plt.subplots@nrows\n",
      "17.97 -- plot a list of tuples  -- plt.gca.add_line\n",
      "15.11 -- plot a list of tuples  -- plt.gca.add_line@0\n",
      "16.20 -- find out which font matplotlib uses -- plt.annotate@family\n",
      "17.26 -- find out which font matplotlib uses -- plt.annotate@fontproperties\n",
      "16.42 -- find out which font matplotlib uses -- plt.annotate@size\n",
      "19.26 -- find out which font matplotlib uses -- plt.legend@fontsize\n",
      "15.73 -- find out which font matplotlib uses -- plt.legend@handlelength\n",
      "15.42 -- find out which font matplotlib uses -- plt.legend@handletextpad\n",
      "19.29 -- find out which font matplotlib uses -- plt.text@family\n",
      "18.26 -- find out which font matplotlib uses -- plt.text@fontproperties\n",
      "16.24 -- find out which font matplotlib uses -- plt.text@style\n",
      "15.99 -- find out which font matplotlib uses -- plt.title@size\n",
      "16.05 -- showing points only - not line -- plt.plot@linewidth\n",
      "16.88 -- whole legend leftaligned -- plt.figlegend@1\n",
      "17.41 -- whole legend leftaligned -- plt.legend\n",
      "17.25 -- whole legend leftaligned -- plt.legend.draw@0\n",
      "15.02 -- whole legend leftaligned -- plt.legend.set_zorder\n",
      "16.13 -- change aspect ratio of inset axes from `zoomed_inset_axes` -- plt.gca.set_aspect\n",
      "19.22 -- change aspect ratio of inset axes from `zoomed_inset_axes` -- plt.gca.set_aspect@0\n",
      "16.77 -- automate the number of columns and rows while plotting in python (matplotlib) -- plt.subplots@ncols\n",
      "17.11 -- get matplotlib legend location -- plt.legend@loc\n",
      "15.91 -- change the default latex font  -- plt.legend@prop\n",
      "18.20 -- use unicode symbols  -- plt.errorbar@fmt\n",
      "15.11 -- get the list of figures  -- plt.gca.add_line\n",
      "15.56 -- draw boxes -- plt.text@bbox\n",
      "15.20 -- draw boxes -- plt.text@bbox@boxstyle\n",
      "15.69 -- numbers in legend -- plt.legend@numpoints\n",
      "15.60 -- save a subplot  -- plt.legend.__doc__\n",
      "16.64 -- save a subplot  -- plt.subplots@0\n",
      "15.59 -- save a subplot  -- plt.subplots@1\n",
      "15.19 -- save a subplot  -- plt.subplots@tight_layout\n",
      "15.27 -- color palette -- plt.plot@color\n",
      "18.93 -- memoryerror on pcolorfast -- plt.clabel@fontsize\n",
      "17.76 -- memoryerror on pcolorfast -- plt.plot@markersize\n",
      "15.98 -- center origin  -- plt.suptitle\n",
      "15.08 -- center origin  -- plt.suptitle@0\n",
      "15.91 -- speed up matplotlib -- plt.scatter@s\n",
      "15.40 -- speed up matplotlib -- plt.xscale\n",
      "15.31 -- navigation toolbar -- plt.gca.set_navigate\n",
      "15.20 -- won't work on ubuntu 10.10 -- plt.xlabel@0\n",
      "19.39 -- won't work on ubuntu 10.10 -- plt.xlim\n",
      "19.77 -- scatter_hist with stepfilled histtype in histogram -- plt.hist\n",
      "17.19 -- scatter_hist with stepfilled histtype in histogram -- plt.hist@0\n",
      "16.02 -- scatter_hist with stepfilled histtype in histogram -- plt.hist@11\n",
      "15.24 -- scatter_hist with stepfilled histtype in histogram -- plt.hist@edgecolor\n",
      "17.04 -- scatter_hist with stepfilled histtype in histogram -- plt.hist@facecolor\n",
      "15.51 -- scatter_hist with stepfilled histtype in histogram -- plt.hist@histtype\n",
      "18.96 -- improve subplot size/spacing with many subplots  -- plt.subplots\n",
      "15.29 -- import matplotlib.pyplot not working -- plt.plot@1\n",
      "17.35 -- contour isn't working -- plt.contour._levels\n",
      "15.18 -- contour isn't working -- plt.contour.clabel\n",
      "16.94 -- contour isn't working -- plt.contour.filled\n",
      "15.52 -- contour isn't working -- plt.contour@extend3d\n",
      "15.56 -- contour isn't working -- plt.contour@extent\n",
      "15.50 -- contour isn't working -- plt.contourf.__doc__\n",
      "17.33 -- install matplotlib on mac 10.7 in virtualenv -- plt.xlabel\n",
      "17.95 -- use 'extent' in matplotlib.pyplot.ims -- plt.gca.set_aspect\n",
      "16.74 -- transform bbox -- plt.plot@transform\n",
      "16.36 -- errors result in a memory leak. how can i free up that memory -- plt.scatter@s\n",
      "16.74 -- coulored triangulars -- plt.tricontour\n",
      "18.09 -- coulored triangulars -- plt.tricontourf\n",
      "17.08 -- coulored triangulars -- plt.tricontourf@1\n",
      "18.86 -- coulored triangulars -- plt.tripcolor\n",
      "17.26 -- coulored triangulars -- plt.tripcolor@0\n",
      "16.18 -- coulored triangulars -- plt.tripcolor@1\n",
      "16.52 -- + pylab import error -- plt.plot\n",
      "15.93 -- + pylab import error -- plt.plot@0\n",
      "16.66 -- + pylab import error -- plt.plot@1\n",
      "15.12 -- change the page/plot two figures -- plt.figure.canvas.manager.destroy\n",
      "15.97 -- change the page/plot two figures -- plt.figure.read.split@0\n",
      "15.95 -- suddenly crashes after reinstalling xcode -- plt.xlabel\n",
      "18.31 -- make pyplot faster than gnuplot -- plt.plot\n",
      "18.12 -- make pyplot faster than gnuplot -- plt.plot@0\n",
      "18.58 -- make pyplot faster than gnuplot -- plt.plot@1\n",
      "15.90 -- make pyplot faster than gnuplot -- plt.plot@2\n",
      "18.06 -- make a log log histogram  -- plt.hist@log\n",
      "17.23 -- make a log log histogram  -- plt.loglog\n",
      "16.01 -- make a log log histogram  -- plt.loglog@1\n",
      "15.43 -- make a log log histogram  -- plt.semilogx\n",
      "15.98 -- make a log log histogram  -- plt.semilogy\n",
      "15.63 -- customize marker/symbol properties  -- plt.legend@handler_map\n",
      "18.99 -- set the aspect ratio  -- plt.gca.set_aspect\n",
      "19.45 -- autosize text in matplotlib python -- plt.figtext@0\n",
      "18.07 -- autosize text in matplotlib python -- plt.figtext@1\n",
      "16.07 -- autosize text in matplotlib python -- plt.figtext@2\n",
      "15.80 -- autosize text in matplotlib python -- plt.text.set_text@0\n",
      "19.66 -- autosize text in matplotlib python -- plt.text@0\n",
      "19.71 -- autosize text in matplotlib python -- plt.text@2\n",
      "15.29 -- autosize text in matplotlib python -- plt.text@transform\n",
      "15.24 -- autosize text in matplotlib python -- plt.text@zorder\n",
      "17.33 -- how to make a special marker -- plt.scatter@marker\n",
      "17.41 -- i want to use matplotlib in osx lion -- plt.xlim\n",
      "15.29 -- import matplotlib.pyplot -- plt.plot@1\n",
      "15.63 -- take snapshots every second using artist animation -- plt.gca.add_artist\n",
      "16.12 -- take snapshots every second using artist animation -- plt.gca.add_artist@0\n",
      "16.51 -- take snapshots every second using artist animation -- plt.plot@animated\n",
      "18.03 -- have matplotlib change line markers automatically -- plt.plot@marker\n",
      "18.92 -- graph within graph  -- plt.errorbar\n",
      "19.36 -- graph within graph  -- plt.errorbar@0\n",
      "16.92 -- graph within graph  -- plt.errorbar@1\n",
      "15.90 -- extract variable number of columns for a matrix -- plt.subplots@ncols\n",
      "15.34 -- use matplotlib with different axes -- plt.axes\n",
      "17.23 -- use matplotlib with different axes -- plt.axes@0\n",
      "15.24 -- use matplotlib with different axes -- plt.axes@ylim\n",
      "17.61 -- use matplotlib with different axes -- plt.legend.__doc__\n"
     ]
    }
   ],
   "source": [
    "x,y = np.nonzero(np.bitwise_and(all_sim >= 15, all_sim <= 20))\n",
    "# x is goal_idx; y is elem_idx\n",
    "for xi,yi in zip(x,y):\n",
    "    print '%.2f -- %s -- %s'%(\n",
    "        all_sim[xi,yi],indexed_goals[xi],model.all_elems[yi])"
   ]
  },
  {
   "cell_type": "markdown",
   "metadata": {},
   "source": [
    "__Good cases:__\n",
    "- 17.11 -- get matplotlib legend location -- plt.legend@loc\n",
    "- 15.56 -- draw boxes -- plt.text@bbox\n",
    "- 18.06 -- make a log log histogram  -- plt.hist@log\n",
    "- 17.23 -- make a log log histogram  -- plt.loglog"
   ]
  },
  {
   "cell_type": "code",
   "execution_count": 20,
   "metadata": {
    "collapsed": false
   },
   "outputs": [
    {
     "name": "stdout",
     "output_type": "stream",
     "text": [
      "51.33, get matplotlib legend location\n",
      "29.89, legend location default\n",
      "29.51, legend location numbers\n",
      "22.80, legends not working\n",
      "22.80, stackplot legend error\n",
      "22.80, change legend fontname \n",
      "22.80, whole legend leftaligned\n",
      "18.45, legend help\n",
      "16.52, add legend to ims() \n",
      "14.61, save matplotlib file to a directory\n"
     ]
    }
   ],
   "source": [
    "yi = model.elem_lookup['plt.legend@loc']\n",
    "items = zip(indexed_goals, all_sim[:,yi].tolist())\n",
    "items_ = []\n",
    "for item,score in items:\n",
    "    if 'legend' in item:\n",
    "        score *= 3\n",
    "    items_.append((item,score))\n",
    "items = items_\n",
    "items = sorted(items, \n",
    "       key=lambda x:x[1], reverse=True)\n",
    "for item,score in items[:10]:\n",
    "    print '%.2f, %s'%(score, item)"
   ]
  },
  {
   "cell_type": "code",
   "execution_count": 21,
   "metadata": {
    "collapsed": false
   },
   "outputs": [
    {
     "name": "stdout",
     "output_type": "stream",
     "text": [
      "51.69, make a log log histogram \n",
      "42.61, fit to a log scale\n",
      "35.21, create square log-log plots \n",
      "32.70, use log scale on polar axis \n",
      "31.77, annotate doesn't work on log scale\n",
      "31.07, plot lines in log-scale (python)\n",
      "29.70, log axis: display powers of 10 only\n",
      "28.09, log scales causes missing points\n",
      "26.19, make four-way logarithmic plot \n",
      "25.59, add a colorbar with log data in an image/matrix\n"
     ]
    }
   ],
   "source": [
    "yi = model.elem_lookup['plt.loglog']\n",
    "items = zip(indexed_goals, all_sim[:,yi].tolist())\n",
    "items_ = []\n",
    "for item,score in items:\n",
    "    if 'log' in item:\n",
    "        score *= 3\n",
    "    items_.append((item,score))\n",
    "items = items_\n",
    "items = sorted(items, \n",
    "       key=lambda x:x[1], reverse=True)\n",
    "for item,score in items[:10]:\n",
    "    print '%.2f, %s'%(score, item)"
   ]
  },
  {
   "cell_type": "code",
   "execution_count": 62,
   "metadata": {
    "collapsed": false
   },
   "outputs": [
    {
     "name": "stdout",
     "output_type": "stream",
     "text": [
      "make a log log histogram , 54.19\n",
      "fit to a log scale, 38.64\n",
      "annotate doesn't work on log scale, 33.93\n",
      "create square log-log plots , 30.79\n",
      "use log scale on polar axis , 29.55\n",
      "plot lines in log-scale (python), 28.50\n",
      "histogram with log laplacian pdf, 28.09\n",
      "make a particular axis which isn't linear or log, 26.40\n",
      "log scale with limit turns off the bottom/up plot spine, 26.15\n",
      "log axis: display powers of 10 only, 26.15\n"
     ]
    }
   ],
   "source": [
    "yi = model.elem_lookup['plt.hist@log']\n",
    "items = zip(indexed_goals, all_sim[:,yi].tolist())\n",
    "items_ = []\n",
    "for item,score in items:\n",
    "    if 'log' in item:\n",
    "        score *= 3\n",
    "    items_.append((item,score))\n",
    "items = items_\n",
    "items = sorted(items, \n",
    "       key=lambda x:x[1], reverse=True)\n",
    "for item,score in items[:10]:\n",
    "    print '%s, %.2f'%(item, score)"
   ]
  },
  {
   "cell_type": "markdown",
   "metadata": {},
   "source": [
    "### NL + Code -> Code"
   ]
  },
  {
   "cell_type": "code",
   "execution_count": 37,
   "metadata": {
    "collapsed": false,
    "scrolled": true
   },
   "outputs": [
    {
     "name": "stdout",
     "output_type": "stream",
     "text": [
      "\\code{plt.plot@label} & 6.143  \\\\\n",
      "\\code{plt.text} & 5.881  \\\\\n",
      "\\code{plt.clabel} & 5.638  \\\\\n",
      "\\code{plt.text@1} & 4.832  \\\\\n",
      "\\code{plt.clabel@0} & 4.215  \\\\\n",
      "\\code{plt.text@2} & 3.629  \\\\\n",
      "\\code{plt.text@0} & 3.536  \\\\\n",
      "\\code{plt.xlabel} & 3.142  \\\\\n",
      "\\code{plt.barh@label} & 3.140  \\\\\n",
      "\\code{plt.plot_date@label} & 2.793  \\\\\n"
     ]
    }
   ],
   "source": [
    "rank, tmps, suggest_sorted = eval_one(\n",
    "    model, False, '', 'add text label', [])\n",
    "for x,y in suggest_sorted[:10]:\n",
    "    print '\\\\code{%s} & %.3f  \\\\\\\\'%(x,y)"
   ]
  },
  {
   "cell_type": "code",
   "execution_count": 38,
   "metadata": {
    "collapsed": false
   },
   "outputs": [
    {
     "name": "stdout",
     "output_type": "stream",
     "text": [
      "\\code{plt.clabel} & 5.342  \\\\\n",
      "\\code{plt.plot@label} & 4.210  \\\\\n",
      "\\code{plt.clabel@0} & 4.154  \\\\\n",
      "\\code{plt.text} & 4.023  \\\\\n",
      "\\code{plt.xlabel} & 3.955  \\\\\n"
     ]
    }
   ],
   "source": [
    "rank, tmps, suggest_sorted = eval_one(\n",
    "    model, False, '', 'add text label', ['plt.contourf'])\n",
    "for x,y in suggest_sorted[:5]:\n",
    "    print '\\\\code{%s} & %.3f  \\\\\\\\'%(x,y)"
   ]
  },
  {
   "cell_type": "code",
   "execution_count": 25,
   "metadata": {
    "collapsed": false
   },
   "outputs": [
    {
     "data": {
      "text/plain": [
       "[SuggestItem(elem='plt.xlabel', score=7.9173418798064201),\n",
       " SuggestItem(elem='plt.xlabel@0', score=3.9881763016001521),\n",
       " SuggestItem(elem='plt.xlabel@fontsize', score=2.6750500125485956),\n",
       " SuggestItem(elem='plt.xlabel@size', score=0.74746701555696049),\n",
       " SuggestItem(elem='plt.annotate@s', score=0.40826928578608701),\n",
       " SuggestItem(elem='plt.contour@locator', score=0.19962734824989248),\n",
       " SuggestItem(elem='plt.gca.yaxis_date', score=-0.13943205745266596),\n",
       " SuggestItem(elem='plt.axis@ymax', score=-0.180439092837549),\n",
       " SuggestItem(elem='plt.ylabel@size', score=-0.29315324469916959),\n",
       " SuggestItem(elem='plt.contourf@corner_mask', score=-0.31532940917635877)]"
      ]
     },
     "execution_count": 25,
     "metadata": {},
     "output_type": "execute_result"
    }
   ],
   "source": [
    "rank, tmps, suggest_sorted = eval_one(\n",
    "    model, False, '', 'add x axis label', ['plt.contourf'])\n",
    "suggest_sorted[:10]"
   ]
  },
  {
   "cell_type": "markdown",
   "metadata": {},
   "source": [
    "### Analogy"
   ]
  },
  {
   "cell_type": "code",
   "execution_count": 26,
   "metadata": {
    "collapsed": true
   },
   "outputs": [],
   "source": [
    "r_words = ['plt.'+x for x in [\n",
    "        'xlabel','ylabel','xticks','yticks',\n",
    "        #'gca.set_xticklabels','gca.set_yticklabels',\n",
    "        'xlim', 'ylim',\n",
    "        'xscale', 'yscale',\n",
    "        #'gca.set_xlabel', 'gca.set_ylabel'\n",
    "    ]]\n",
    "r_idxs = [model.elem_lookup[x] for x in r_words]"
   ]
  },
  {
   "cell_type": "code",
   "execution_count": 27,
   "metadata": {
    "collapsed": false
   },
   "outputs": [
    {
     "data": {
      "text/plain": [
       "[9420, 9493, 9476, 9557, 9461, 9544, 9469, 9552]"
      ]
     },
     "execution_count": 27,
     "metadata": {},
     "output_type": "execute_result"
    }
   ],
   "source": [
    "r_idxs"
   ]
  },
  {
   "cell_type": "code",
   "execution_count": 28,
   "metadata": {
    "collapsed": true
   },
   "outputs": [],
   "source": [
    "r_vecs = model.syn1r[r_idxs]"
   ]
  },
  {
   "cell_type": "code",
   "execution_count": 29,
   "metadata": {
    "collapsed": true
   },
   "outputs": [],
   "source": [
    "from sklearn.decomposition import PCA"
   ]
  },
  {
   "cell_type": "code",
   "execution_count": 30,
   "metadata": {
    "collapsed": false
   },
   "outputs": [],
   "source": [
    "pca = PCA(2)\n",
    "r2 = pca.fit_transform(r_vecs)"
   ]
  },
  {
   "cell_type": "code",
   "execution_count": 59,
   "metadata": {
    "collapsed": false
   },
   "outputs": [
    {
     "data": {
      "image/png": "[encoded data removed]",
      "text/plain": [
       "<matplotlib.figure.Figure at 0x1408f9050>"
      ]
     },
     "metadata": {},
     "output_type": "display_data"
    }
   ],
   "source": [
    "import matplotlib.pyplot as plt\n",
    "import seaborn as sns\n",
    "sns.set(style='white')\n",
    "%matplotlib inline\n",
    "colors = map(lambda x:'#4878CF' if x[4] == 'x' else '#D65F5F', r_words)\n",
    "plt.scatter(r2[:,0],r2[:,1], s=30, color=colors)\n",
    "plt.xlim(-5,5)\n",
    "for i, w in enumerate(r_words):\n",
    "    plt.annotate(\n",
    "        w.decode('utf-8', 'ignore'),\n",
    "        xy = (r2[i,0], r2[i,1]), \n",
    "        xytext = (-3 if w[4]=='x' else 3, 3),\n",
    "        textcoords = 'offset points', \n",
    "        ha = 'left' if w[4] == 'y' else 'right',\n",
    "        va = 'top',\n",
    "        fontsize=12)\n",
    "plt.xticks([-5,0,5])\n",
    "plt.yticks([-4,0,3])\n",
    "\n",
    "from matplotlib.backends.backend_pdf import PdfPages\n",
    "from codemend import relative_path\n",
    "pp = PdfPages(relative_path('models/output/fig-analogy.pdf'))\n",
    "plt.savefig(pp, format='pdf')\n",
    "pp.close()"
   ]
  }
 ],
 "metadata": {
  "kernelspec": {
   "display_name": "Python 2",
   "language": "python",
   "name": "python2"
  },
  "language_info": {
   "codemirror_mode": {
    "name": "ipython",
    "version": 2
   },
   "file_extension": ".py",
   "mimetype": "text/x-python",
   "name": "python",
   "nbconvert_exporter": "python",
   "pygments_lexer": "ipython2",
   "version": "2.7.12"
  }
 },
 "nbformat": 4,
 "nbformat_minor": 0
}

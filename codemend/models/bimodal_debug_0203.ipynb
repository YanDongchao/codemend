{
 "cells": [
  {
   "cell_type": "markdown",
   "metadata": {},
   "source": [
    "# Task 1: Learn to Overfit One-Instance"
   ]
  },
  {
   "cell_type": "code",
   "execution_count": 709,
   "metadata": {
    "collapsed": false
   },
   "outputs": [],
   "source": [
    "import sys\n",
    "sys.path.append('../../models/')\n",
    "import bimodal"
   ]
  },
  {
   "cell_type": "code",
   "execution_count": 710,
   "metadata": {
    "collapsed": false
   },
   "outputs": [],
   "source": [
    "import numpy as np\n",
    "import matplotlib.pyplot as plt\n",
    "%matplotlib inline\n",
    "import ast\n",
    "import astunparse\n",
    "import myast"
   ]
  },
  {
   "cell_type": "code",
   "execution_count": 711,
   "metadata": {
    "collapsed": true
   },
   "outputs": [],
   "source": [
    "from numpy import multiply as np_mult, exp, dot, outer"
   ]
  },
  {
   "cell_type": "code",
   "execution_count": 664,
   "metadata": {
    "collapsed": false
   },
   "outputs": [],
   "source": [
    "MEMSIZE = 2\n",
    "code = \"f(x)\"\n",
    "node = ast.parse(code)\n",
    "myast_node = myast.MyAST(node=node)\n",
    "utter = 'blah'\n",
    "train_pairs = [(utter, myast_node)]\n",
    "\n",
    "def reset_model():\n",
    "    global model\n",
    "    \n",
    "    reload(bimodal);\n",
    "\n",
    "    model = bimodal.BiModal(\n",
    "        train_pairs = train_pairs,\n",
    "        size = 4,\n",
    "        min_count = None,\n",
    "        workers = 1,\n",
    "        iter_ = 100,\n",
    "        null_word=False,\n",
    "        sample = None,\n",
    "        additive = True,\n",
    "        memsize_k = MEMSIZE,\n",
    "        memsize_i = MEMSIZE,\n",
    "        alpha = 1,  # CAUTION!!!!!!!!!!!!\n",
    "        seed = 1,\n",
    "        train_on_init=False)\n",
    "\n",
    "    model.neg_labels = np.array([1, 0])\n",
    "\n",
    "reset_model()"
   ]
  },
  {
   "cell_type": "code",
   "execution_count": 5,
   "metadata": {
    "collapsed": false
   },
   "outputs": [
    {
     "data": {
      "text/plain": [
       "(([], [NODE_Name, FIELD_func], FIELD_id, f),\n",
       " ([f], [NODE_Name, FIELD_args], FIELD_id, x))"
      ]
     },
     "execution_count": 5,
     "metadata": {},
     "output_type": "execute_result"
    }
   ],
   "source": [
    "ptree1 = ([], \n",
    "          [myast.SimpleAstNode(node_type=ast.Name),\n",
    "           myast.SimpleAstNode(field_name='func')],\n",
    "          myast.SimpleAstNode(field_name='id'),\n",
    "          myast.SimpleAstNode(content='f'))\n",
    "ptree2 = ([myast.SimpleAstNode(content='f')], \n",
    "          [myast.SimpleAstNode(node_type=ast.Name),\n",
    "           myast.SimpleAstNode(field_name='args')],\n",
    "          myast.SimpleAstNode(field_name='id'),\n",
    "          myast.SimpleAstNode(content='x'))\n",
    "next_ptree = ptree1\n",
    "ptree1, ptree2\n",
    "# terminals, ancestors, parent, children\n",
    "\n",
    "# Linearly separable. we want the model to learn to distinguish \n",
    "# these two."
   ]
  },
  {
   "cell_type": "code",
   "execution_count": 6,
   "metadata": {
    "collapsed": true
   },
   "outputs": [],
   "source": [
    "def show_weights(model, i_idxs, k_idxs, l_idxs, r_idxs):\n",
    "    assert len(i_idxs) == model.hmati.shape[0]\n",
    "    assert len(k_idxs) == model.hmatk.shape[0]\n",
    "    assert len(l_idxs) > 0\n",
    "    assert len(r_idxs) > 1\n",
    "\n",
    "    hmati = model.hmati  # memsize_i * vector_size\n",
    "    hmatk = model.hmatk  # memsize_k * vector_size\n",
    "    i_vecs = model.syn0i[i_idxs]  # memsize_i * vector_size\n",
    "    k_vecs = model.syn0k[k_idxs]  # memsize_k * vector_size\n",
    "    l_vecs = model.syn0l[l_idxs]  # arbitrary * vector_size\n",
    "    r_vecs = model.syn1r[r_idxs]  # num_candidates * vector_size\n",
    "    b = model.syn1b[r_idxs]  # 1 * num_candidates\n",
    "\n",
    "    c = np.multiply(i_vecs, hmati).sum(0) + \\\n",
    "            np.multiply(k_vecs, hmatk).sum(0)  # 1 * vector_size\n",
    "    l = l_vecs.mean(0)  # 1 * vector_size\n",
    "\n",
    "    if model.additive:\n",
    "        h = c + l  # 1 * vector_size\n",
    "    else:\n",
    "        h = np.multiply(c, l)\n",
    "\n",
    "    # weights: outputs of the output-layer nodes\n",
    "    weights = np.exp(np.dot(h, r_vecs.T) + b)  # 1 * num_candidates\n",
    "    #     for r_idx, w in zip(r_idxs, weights):\n",
    "    #         print w, r_idx\n",
    "    return weights"
   ]
  },
  {
   "cell_type": "code",
   "execution_count": 229,
   "metadata": {
    "collapsed": false
   },
   "outputs": [],
   "source": [
    "def prepare_iklr(utter, ptree):\n",
    "    terminals, ancestors, parent, children = ptree\n",
    "    l_idxs = bimodal.get_l_idxs(model, utter)\n",
    "    # print 'l_idxs', l_idxs, utter\n",
    "\n",
    "    k_idxs = [model.vocab_k[x] for x in reversed(terminals)]\n",
    "    k_idxs += [0] * (model.memsize_k - len(k_idxs))  # padding\n",
    "    # print 'k_idxs', k_idxs, terminals\n",
    "\n",
    "    i_idxs = [model.vocab_i[x] for x in ancestors]\n",
    "    i_idxs += [0] * (model.memsize_i - len(i_idxs))  # padding\n",
    "    # print 'i_idxs', i_idxs, ancestors\n",
    "\n",
    "    r_pos_idx, r_neg_idxs = bimodal.find_r_idxs_train(\n",
    "        model, parent, children)\n",
    "    # print 'r_pos_idx', r_pos_idx\n",
    "    # print 'r_neg_idxs', r_neg_idxs\n",
    "\n",
    "    # print 'parent', parent\n",
    "    # print 'children', children\n",
    "\n",
    "    return i_idxs, k_idxs, l_idxs, r_pos_idx, r_neg_idxs\n",
    "\n",
    "iklr1 = prepare_iklr(utter, ptree1)\n",
    "iklr2 = prepare_iklr(utter, ptree2)\n",
    "def train_and_swap():\n",
    "    global next_ptree\n",
    "    next_ptree = ptree2 if next_ptree == ptree1 else ptree1\n",
    "    label = 'TRAINING X' if next_ptree == ptree2 else 'TRAINING F'\n",
    "    terminals, ancestors, parent, children = next_ptree\n",
    "    weights_before4 = show_weights(model, iklr1[0], iklr1[1], iklr1[2], [4,5])\n",
    "    weights_before5 = show_weights(model, iklr2[0], iklr2[1], iklr2[2], [4,5])\n",
    "    \n",
    "    i_idxs, k_idxs, l_idxs, r_pos_idx, r_neg_idxs = \\\n",
    "        prepare_iklr(utter, next_ptree)\n",
    "    print r_pos_idx, r_neg_idxs[0]\n",
    "    bimodal.train_a_pair(model, i_idxs, k_idxs, l_idxs, \n",
    "                         r_pos_idx, r_neg_idxs, model.alpha)\n",
    "    weights_after4 = show_weights(model, iklr1[0], iklr1[1], iklr1[2], [4,5])\n",
    "    weights_after5 = show_weights(model, iklr2[0], iklr2[1], iklr2[2], [4,5])\n",
    "\n",
    "    positions = np.array([1,2,4,5,8,9,11,12])\n",
    "    plt.bar(positions,\n",
    "            np.concatenate(\n",
    "            (weights_before4,weights_before5,\n",
    "             weights_after4,weights_after5)))\n",
    "    plt.xticks(positions+0.5, ['FF','FX','XF','XX']*2)\n",
    "    plt.title(label)"
   ]
  },
  {
   "cell_type": "code",
   "execution_count": 683,
   "metadata": {
    "collapsed": false
   },
   "outputs": [
    {
     "name": "stdout",
     "output_type": "stream",
     "text": [
      "5 4\n"
     ]
    },
    {
     "data": {
      "image/png": "[encoded data removed]",
      "text/plain": [
       "<matplotlib.figure.Figure at 0x10d9f1810>"
      ]
     },
     "metadata": {},
     "output_type": "display_data"
    }
   ],
   "source": [
    "train_and_swap()"
   ]
  },
  {
   "cell_type": "code",
   "execution_count": 288,
   "metadata": {
    "collapsed": true
   },
   "outputs": [],
   "source": [
    "i_idxs, k_idxs, l_idxs, r_pos_idx, r_neg_idxs = iklr1"
   ]
  },
  {
   "cell_type": "code",
   "execution_count": 98,
   "metadata": {
    "collapsed": true
   },
   "outputs": [],
   "source": [
    "i_idxs, k_idxs, l_idxs, r_pos_idx, r_neg_idxs = iklr2"
   ]
  },
  {
   "cell_type": "code",
   "execution_count": 447,
   "metadata": {
    "collapsed": false
   },
   "outputs": [
    {
     "name": "stdout",
     "output_type": "stream",
     "text": [
      "hmati\n",
      "[[ 0.49609876  0.29516587  0.4892112   0.43958676]\n",
      " [ 0.49988252  2.37215805  0.53028822  0.77694088]]\n",
      "hmatk\n",
      "[[ 0.50026083  1.03371394  0.5140211   0.80243039]\n",
      " [ 0.50128168  0.2684443   0.48784003  0.43515486]]\n"
     ]
    }
   ],
   "source": [
    "hmati = model.hmati  # memsize_i * vector_size\n",
    "hmatk = model.hmatk  # memsize_k * vector_size\n",
    "i_vecs = model.syn0i[i_idxs]  # memsize_i * vector_size\n",
    "k_vecs = model.syn0k[k_idxs]  # memsize_k * vector_size\n",
    "l_vecs = model.syn0l[l_idxs]  # arbitrary * vector_size\n",
    "print 'hmati'\n",
    "print hmati\n",
    "print 'hmatk'\n",
    "print hmatk"
   ]
  },
  {
   "cell_type": "code",
   "execution_count": 290,
   "metadata": {
    "collapsed": false
   },
   "outputs": [
    {
     "name": "stdout",
     "output_type": "stream",
     "text": [
      "c [  5.53919040e-02  -4.62169409e+00   1.28126517e-03  -4.76013452e-01]\n",
      "h [ 0.01018697 -4.76790237 -0.07225341 -0.53727841]\n"
     ]
    }
   ],
   "source": [
    "c = np_mult(i_vecs, hmati).sum(0) + \\\n",
    "    np_mult(k_vecs, hmatk).sum(0)  # 1 * vector_size\n",
    "l = l_vecs.mean(0)  # 1 * vector_size\n",
    "\n",
    "assert model.additive\n",
    "h = c + l  # 1 * vector_size\n",
    "\n",
    "print 'c', c\n",
    "print 'h', h"
   ]
  },
  {
   "cell_type": "code",
   "execution_count": 291,
   "metadata": {
    "collapsed": false
   },
   "outputs": [
    {
     "name": "stdout",
     "output_type": "stream",
     "text": [
      "r_vecs\n",
      "[[ 0.06446565 -1.58717561  0.05181413 -0.39819199]\n",
      " [ 0.05000554  1.58362257  0.20109867  0.48790494]]\n",
      "b\n",
      "[ 0.00802556 -0.02759348]\n"
     ]
    }
   ],
   "source": [
    "r_indices = [r_pos_idx] + r_neg_idxs\n",
    "r_vecs = model.syn1r[r_indices]  # (1 + negative) * vector_size\n",
    "b = model.syn1b[r_indices]  # 1 * (1 + negative)\n",
    "print 'r_vecs'\n",
    "print r_vecs\n",
    "print 'b'\n",
    "print b"
   ]
  },
  {
   "cell_type": "code",
   "execution_count": 301,
   "metadata": {
    "collapsed": false
   },
   "outputs": [
    {
     "name": "stdout",
     "output_type": "stream",
     "text": [
      "f [  9.99588907e-01   3.84326704e-04]\n"
     ]
    }
   ],
   "source": [
    "f = 1. / (1. + exp(- dot(h, r_vecs.T) - b))  # 1 * (1 + negative)\n",
    "print 'f', f"
   ]
  },
  {
   "cell_type": "code",
   "execution_count": 304,
   "metadata": {
    "collapsed": false
   },
   "outputs": [
    {
     "name": "stdout",
     "output_type": "stream",
     "text": [
      "weights\n",
      "[ 7.79635096 -7.86363316]\n",
      "exp(weights)\n",
      "[  2.43171240e+03   3.84474464e-04]\n"
     ]
    }
   ],
   "source": [
    "print 'weights'\n",
    "print dot(h, r_vecs.T) + b\n",
    "print ('exp(weights)')\n",
    "print exp(dot(h, r_vecs.T) + b)"
   ]
  },
  {
   "cell_type": "code",
   "execution_count": 293,
   "metadata": {
    "collapsed": false
   },
   "outputs": [
    {
     "name": "stdout",
     "output_type": "stream",
     "text": [
      "g [ 0.00041515 -0.00038792]\n",
      "alpha 1.0\n"
     ]
    }
   ],
   "source": [
    "g = (model.neg_labels[:len(r_indices)] - f) * model.alpha  # 1 * (1 + negative)\n",
    "print 'g', g\n",
    "print 'alpha', model.alpha"
   ]
  },
  {
   "cell_type": "code",
   "execution_count": 294,
   "metadata": {
    "collapsed": false
   },
   "outputs": [
    {
     "name": "stdout",
     "output_type": "stream",
     "text": [
      "EH [  7.36432577e-06  -1.27323550e-03  -5.65005694e-05  -3.54578026e-04]\n"
     ]
    }
   ],
   "source": [
    "neu1e = dot(g, r_vecs)  # 1 * vector_size\n",
    "print 'EH', neu1e"
   ]
  },
  {
   "cell_type": "code",
   "execution_count": 295,
   "metadata": {
    "collapsed": false
   },
   "outputs": [
    {
     "name": "stdout",
     "output_type": "stream",
     "text": [
      "outer(g,h)\n",
      "[[  4.22908197e-06  -1.97937727e-03  -2.99957379e-05  -2.23049173e-04]\n",
      " [ -3.95176964e-06   1.84958416e-03   2.80288363e-05   2.08423236e-04]]\n"
     ]
    }
   ],
   "source": [
    "print 'outer(g,h)'\n",
    "print outer(g,h)"
   ]
  },
  {
   "cell_type": "code",
   "execution_count": 296,
   "metadata": {
    "collapsed": false
   },
   "outputs": [
    {
     "name": "stdout",
     "output_type": "stream",
     "text": [
      "b\n",
      "[ 0.00844071 -0.02798141]\n"
     ]
    }
   ],
   "source": [
    "model.syn1b[r_indices] += g\n",
    "\n",
    "b = model.syn1b[r_indices]  # 1 * (1 + negative)\n",
    "print 'b'\n",
    "print b"
   ]
  },
  {
   "cell_type": "code",
   "execution_count": 297,
   "metadata": {
    "collapsed": false
   },
   "outputs": [
    {
     "name": "stdout",
     "output_type": "stream",
     "text": [
      "r_vecs\n",
      "[[ 0.06446988 -1.58915496  0.05178413 -0.39841503]\n",
      " [ 0.05000159  1.58547211  0.20112669  0.48811337]]\n"
     ]
    }
   ],
   "source": [
    "model.syn1r[r_indices] += outer(g, h)\n",
    "r_vecs = model.syn1r[r_indices]  # (1 + negative) * vector_size\n",
    "print 'r_vecs'\n",
    "print r_vecs"
   ]
  },
  {
   "cell_type": "code",
   "execution_count": 298,
   "metadata": {
    "collapsed": true
   },
   "outputs": [],
   "source": [
    "assert model.additive\n",
    "neu1e_c = neu1e\n",
    "neu1e_l = neu1e"
   ]
  },
  {
   "cell_type": "code",
   "execution_count": 299,
   "metadata": {
    "collapsed": true
   },
   "outputs": [],
   "source": [
    "model.syn0i[i_idxs] += np_mult(hmati, neu1e_c)\n",
    "model.syn0k[k_idxs] += np_mult(hmatk, neu1e_c)\n",
    "model.hmati += np_mult(i_vecs, neu1e_c)\n",
    "model.hmatk += np_mult(k_vecs, neu1e_c)\n",
    "model.syn0l[l_idxs] += neu1e_l / len(l_idxs)"
   ]
  },
  {
   "cell_type": "markdown",
   "metadata": {},
   "source": [
    "# Conclusion\n",
    "- Initialization matters\n",
    "  - when I change the initialization of `hmati` and `hmatk` and `syn1b` to the way dictated by the paper, I was able to make the training process coverge to a desired state.\n",
    "    - Actually, only the change of the initializations of `hmati` and `hmatk` is necessary.\n",
    "    - Anyway, the changes have been adapted to the current implementation now.\n",
    "- Learning rate matters\n",
    "  - setting `alpha` to 1 works great.\n",
    "  - 0.25 works fine\n",
    "  - setting `alpha` to 0.025 (gensim's default learning rate) doesn't.\n",
    "- Overflow in np.exp and np.multiply are dangerous.\n",
    "  - The `exp(h.dot(r_vecs.T))` value goes up and up and won't stop. Do something about it??"
   ]
  },
  {
   "cell_type": "markdown",
   "metadata": {},
   "source": [
    "# Task 2: Test NL-PL Matching\n",
    "\n",
    "Do not need the above code."
   ]
  },
  {
   "cell_type": "markdown",
   "metadata": {},
   "source": [
    "## 2.1 One-to-one mapping"
   ]
  },
  {
   "cell_type": "code",
   "execution_count": 714,
   "metadata": {
    "collapsed": false
   },
   "outputs": [
    {
     "name": "stderr",
     "output_type": "stream",
     "text": [
      "WARNING:bimodal:under 10 jobs per worker: consider setting a smaller `batch_ptrees' for smoother alpha decay\n"
     ]
    },
    {
     "name": "stdout",
     "output_type": "stream",
     "text": [
      "utter=f, code=f(x)\n",
      "utter=g, code=g(x)\n",
      "utter=h, code=h(x)\n",
      "utter=r, code=r(x)\n",
      "utter=t, code=t(x)\n"
     ]
    }
   ],
   "source": [
    "import sys\n",
    "sys.path.append('../../models/')\n",
    "import bimodal\n",
    "\n",
    "import numpy as np\n",
    "import matplotlib.pyplot as plt\n",
    "%matplotlib inline\n",
    "import ast\n",
    "import astunparse\n",
    "import myast\n",
    "\n",
    "from numpy import multiply as np_mult, exp, dot, outer\n",
    "\n",
    "MEMSIZE = 10\n",
    "\n",
    "codes = [\"f(x)\", \"g(x)\", \"h(x)\", \"r(x)\", \"t(x)\"]\n",
    "utters = ['f', 'g', 'h', 'r', 't']\n",
    "nodes = [ast.parse(x) for x in codes]\n",
    "myasts = [myast.MyAST(node=x) for x in nodes]\n",
    "train_pairs = zip(utters, myasts)\n",
    "\n",
    "reload(bimodal);\n",
    "\n",
    "model = bimodal.BiModal(\n",
    "    train_pairs = train_pairs,\n",
    "    size = 20,\n",
    "    min_count = None,\n",
    "    workers = 1,\n",
    "    iter_ = 100,\n",
    "    null_word = False,\n",
    "    sample = None,\n",
    "    additive = True,\n",
    "    memsize_k = MEMSIZE,\n",
    "    memsize_i = MEMSIZE,\n",
    "    alpha = 0.25,  # CAUTION!!!!!!!!!!!!\n",
    "    seed = 1,\n",
    "    train_on_init=True)\n",
    "\n",
    "for utter in utters:\n",
    "    my_callback = model.getSampleCallback(utter)\n",
    "    myast_sampled = myast.MyAST.sample_from_root(\n",
    "        memsize_k=MEMSIZE, memsize_i=MEMSIZE, callback=my_callback)\n",
    "\n",
    "    code_sampled = astunparse.unparse(myast_sampled.node)\n",
    "    print 'utter=%s, code=%s'%(utter, code_sampled.strip())"
   ]
  },
  {
   "cell_type": "markdown",
   "metadata": {},
   "source": [
    "## 2.2 Many-to-one Mapping"
   ]
  },
  {
   "cell_type": "code",
   "execution_count": 719,
   "metadata": {
    "collapsed": false
   },
   "outputs": [
    {
     "name": "stderr",
     "output_type": "stream",
     "text": [
      "WARNING:bimodal:under 10 jobs per worker: consider setting a smaller `batch_ptrees' for smoother alpha decay\n"
     ]
    },
    {
     "name": "stdout",
     "output_type": "stream",
     "text": [
      "utter=f1, code=f(x)\n",
      "utter=g1, code=g(x)\n",
      "utter=h1, code=h(x)\n",
      "utter=r1, code=r(x)\n",
      "utter=t1, code=t(x)\n",
      "utter=f2, code=f(x)\n",
      "utter=g2, code=g(x)\n",
      "utter=h2, code=h(x)\n",
      "utter=r2, code=r(x)\n",
      "utter=t2, code=t(x)\n",
      "utter=f3, code=f(x)\n",
      "utter=g3, code=g(x)\n",
      "utter=h3, code=h(x)\n",
      "utter=r3, code=r(x)\n",
      "utter=t3, code=t(x)\n"
     ]
    }
   ],
   "source": [
    "import sys\n",
    "sys.path.append('../../models/')\n",
    "import bimodal\n",
    "\n",
    "import numpy as np\n",
    "import matplotlib.pyplot as plt\n",
    "%matplotlib inline\n",
    "import ast\n",
    "import astunparse\n",
    "import myast\n",
    "\n",
    "from numpy import multiply as np_mult, exp, dot, outer\n",
    "\n",
    "MEMSIZE = 10\n",
    "\n",
    "codes = [\"f(x)\", \"g(x)\", \"h(x)\", \"r(x)\", \"t(x)\"]\n",
    "utters = ['f', 'g', 'h', 'r', 't']\n",
    "utters1 = [x+'1' for x in utters]\n",
    "utters2 = [x+'2' for x in utters]\n",
    "utters3 = [x+'3' for x in utters]\n",
    "nodes = [ast.parse(x) for x in codes]\n",
    "myasts = [myast.MyAST(node=x) for x in nodes]\n",
    "train_pairs = zip(utters1, myasts) + zip(utters2, myasts) + zip(utters3, myasts)\n",
    "\n",
    "reload(bimodal);\n",
    "\n",
    "model = bimodal.BiModal(\n",
    "    train_pairs = train_pairs,\n",
    "    size = 20,\n",
    "    min_count = None,\n",
    "    workers = 1,\n",
    "    iter_ = 100,\n",
    "    null_word = False,\n",
    "    sample = None,\n",
    "    additive = True,\n",
    "    memsize_k = MEMSIZE,\n",
    "    memsize_i = MEMSIZE,\n",
    "    alpha = 0.25,  # CAUTION!!!!!!!!!!!!\n",
    "    seed = 1,\n",
    "    train_on_init=True)\n",
    "\n",
    "for utter, _ in train_pairs:\n",
    "    my_callback = model.getSampleCallback(utter)\n",
    "    myast_sampled = myast.MyAST.sample_from_root(\n",
    "        memsize_k=MEMSIZE, memsize_i=MEMSIZE, callback=my_callback)\n",
    "\n",
    "    code_sampled = astunparse.unparse(myast_sampled.node)\n",
    "    print 'utter=%s, code=%s'%(utter, code_sampled.strip())"
   ]
  },
  {
   "cell_type": "markdown",
   "metadata": {},
   "source": [
    "## 2.3 Unseen Words"
   ]
  },
  {
   "cell_type": "code",
   "execution_count": 733,
   "metadata": {
    "collapsed": false
   },
   "outputs": [
    {
     "name": "stderr",
     "output_type": "stream",
     "text": [
      "WARNING:bimodal:under 10 jobs per worker: consider setting a smaller `batch_ptrees' for smoother alpha decay\n"
     ]
    },
    {
     "name": "stdout",
     "output_type": "stream",
     "text": [
      "utter=f1, code=f(x)\n",
      "utter=g1, code=g(x)\n",
      "utter=h1, code=h(x)\n",
      "utter=r1, code=r(x)\n",
      "utter=t1, code=t(x)\n",
      "utter=f2, code=f(x)\n",
      "utter=g2, code=g(x)\n",
      "utter=h2, code=h(x)\n",
      "utter=r2, code=r(x)\n",
      "utter=t2, code=t(x)\n",
      "utter=f3, code=f(x)\n",
      "utter=g3, code=g(x)\n",
      "utter=h3, code=h(x)\n",
      "utter=r3, code=r(x)\n",
      "utter=t3, code=t(x)\n",
      "utter=f1 Unknown Word, code=f(x)\n",
      "utter=xxx, code=f(x)\n"
     ]
    }
   ],
   "source": [
    "import sys\n",
    "sys.path.append('../../models/')\n",
    "import bimodal\n",
    "\n",
    "import numpy as np\n",
    "import matplotlib.pyplot as plt\n",
    "%matplotlib inline\n",
    "import ast\n",
    "import astunparse\n",
    "import myast\n",
    "\n",
    "from numpy import multiply as np_mult, exp, dot, outer\n",
    "\n",
    "MEMSIZE = 10\n",
    "\n",
    "codes = [\"f(x)\", \"g(x)\", \"h(x)\", \"r(x)\", \"t(x)\"]\n",
    "utters = ['f', 'g', 'h', 'r', 't']\n",
    "utters1 = [x+'1' for x in utters]\n",
    "utters2 = [x+'2' for x in utters]\n",
    "utters3 = [x+'3' for x in utters]\n",
    "nodes = [ast.parse(x) for x in codes]\n",
    "myasts = [myast.MyAST(node=x) for x in nodes]\n",
    "train_pairs = zip(utters1, myasts) + zip(utters2, myasts) + zip(utters3, myasts)\n",
    "\n",
    "reload(bimodal);\n",
    "\n",
    "model = bimodal.BiModal(\n",
    "    train_pairs = train_pairs,\n",
    "    size = 20,\n",
    "    min_count = None,\n",
    "    workers = 1,\n",
    "    iter_ = 100,\n",
    "    null_word = True,  # <-- this is changed!!\n",
    "    sample = None,\n",
    "    additive = True,\n",
    "    memsize_k = MEMSIZE,\n",
    "    memsize_i = MEMSIZE,\n",
    "    alpha = 0.25,  # CAUTION!!!!!!!!!!!!\n",
    "    seed = 1,\n",
    "    train_on_init=True)\n",
    "\n",
    "utters_trained = [x[0] for x in train_pairs]\n",
    "for utter in utters_trained + ['f1 Unknown Word', 'xxx']:\n",
    "    my_callback = model.getSampleCallback(utter)\n",
    "    myast_sampled = myast.MyAST.sample_from_root(\n",
    "        memsize_k=MEMSIZE, memsize_i=MEMSIZE, callback=my_callback)\n",
    "\n",
    "    code_sampled = astunparse.unparse(myast_sampled.node)\n",
    "    print 'utter=%s, code=%s'%(utter, code_sampled.strip())"
   ]
  }
 ],
 "metadata": {
  "kernelspec": {
   "display_name": "Python 2",
   "language": "python",
   "name": "python2"
  },
  "language_info": {
   "codemirror_mode": {
    "name": "ipython",
    "version": 2
   },
   "file_extension": ".py",
   "mimetype": "text/x-python",
   "name": "python",
   "nbconvert_exporter": "python",
   "pygments_lexer": "ipython2",
   "version": "2.7.11"
  }
 },
 "nbformat": 4,
 "nbformat_minor": 0
}

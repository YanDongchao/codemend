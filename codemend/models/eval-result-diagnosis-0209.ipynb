{
 "cells": [
  {
   "cell_type": "markdown",
   "metadata": {},
   "source": [
    "## Interpreting the evaluation results of 0208"
   ]
  },
  {
   "cell_type": "markdown",
   "metadata": {},
   "source": [
    "The first benchmark"
   ]
  },
  {
   "cell_type": "code",
   "execution_count": 46,
   "metadata": {
    "collapsed": false,
    "scrolled": true
   },
   "outputs": [],
   "source": [
    "import pandas as pd\n",
    "import numpy as np\n",
    "import matplotlib.pyplot as plt\n",
    "%matplotlib inline"
   ]
  },
  {
   "cell_type": "code",
   "execution_count": 47,
   "metadata": {
    "collapsed": false
   },
   "outputs": [],
   "source": [
    "# Read the log\n",
    "df = pd.read_csv('../../models/output/eval-log.csv')\n",
    "df['query'] = df['code_sample_idx'].apply(str) + '. ' + df['query']"
   ]
  },
  {
   "cell_type": "code",
   "execution_count": 62,
   "metadata": {
    "collapsed": false
   },
   "outputs": [],
   "source": [
    "from __future__ import division\n",
    "df['prank'] = (df['rank'] - 1) / df['num_alt']"
   ]
  },
  {
   "cell_type": "code",
   "execution_count": 60,
   "metadata": {
    "collapsed": false
   },
   "outputs": [
    {
     "data": {
      "text/plain": [
       "(8305, 10)"
      ]
     },
     "execution_count": 60,
     "metadata": {},
     "output_type": "execute_result"
    }
   ],
   "source": [
    "df.shape"
   ]
  },
  {
   "cell_type": "code",
   "execution_count": 63,
   "metadata": {
    "collapsed": false
   },
   "outputs": [
    {
     "data": {
      "text/html": [
       "<div>\n",
       "<table border=\"1\" class=\"dataframe\">\n",
       "  <thead>\n",
       "    <tr style=\"text-align: right;\">\n",
       "      <th></th>\n",
       "      <th>code_sample_idx</th>\n",
       "      <th>query</th>\n",
       "      <th>func</th>\n",
       "      <th>baseline</th>\n",
       "      <th>candidate</th>\n",
       "      <th>rank</th>\n",
       "      <th>is_gt</th>\n",
       "      <th>score</th>\n",
       "      <th>num_alt</th>\n",
       "      <th>prank</th>\n",
       "    </tr>\n",
       "  </thead>\n",
       "  <tbody>\n",
       "    <tr>\n",
       "      <th>0</th>\n",
       "      <td>1</td>\n",
       "      <td>1. change the texture patterns of the bar</td>\n",
       "      <td>NaN</td>\n",
       "      <td>BM25</td>\n",
       "      <td>bar</td>\n",
       "      <td>1</td>\n",
       "      <td>0</td>\n",
       "      <td>10.633178</td>\n",
       "      <td>9</td>\n",
       "      <td>0.000000</td>\n",
       "    </tr>\n",
       "    <tr>\n",
       "      <th>1</th>\n",
       "      <td>1</td>\n",
       "      <td>1. change the texture patterns of the bar</td>\n",
       "      <td>NaN</td>\n",
       "      <td>BM25</td>\n",
       "      <td>set_hatch</td>\n",
       "      <td>2</td>\n",
       "      <td>1</td>\n",
       "      <td>7.838210</td>\n",
       "      <td>9</td>\n",
       "      <td>0.111111</td>\n",
       "    </tr>\n",
       "    <tr>\n",
       "      <th>2</th>\n",
       "      <td>1</td>\n",
       "      <td>1. change the texture patterns of the bar</td>\n",
       "      <td>NaN</td>\n",
       "      <td>BM25</td>\n",
       "      <td>get_cmap</td>\n",
       "      <td>3</td>\n",
       "      <td>0</td>\n",
       "      <td>0.000000</td>\n",
       "      <td>9</td>\n",
       "      <td>0.222222</td>\n",
       "    </tr>\n",
       "    <tr>\n",
       "      <th>3</th>\n",
       "      <td>1</td>\n",
       "      <td>1. change the texture patterns of the bar</td>\n",
       "      <td>NaN</td>\n",
       "      <td>BM25</td>\n",
       "      <td>set_width</td>\n",
       "      <td>4</td>\n",
       "      <td>0</td>\n",
       "      <td>0.000000</td>\n",
       "      <td>9</td>\n",
       "      <td>0.333333</td>\n",
       "    </tr>\n",
       "    <tr>\n",
       "      <th>4</th>\n",
       "      <td>1</td>\n",
       "      <td>1. change the texture patterns of the bar</td>\n",
       "      <td>NaN</td>\n",
       "      <td>BM25</td>\n",
       "      <td>set_label</td>\n",
       "      <td>5</td>\n",
       "      <td>0</td>\n",
       "      <td>0.000000</td>\n",
       "      <td>9</td>\n",
       "      <td>0.444444</td>\n",
       "    </tr>\n",
       "  </tbody>\n",
       "</table>\n",
       "</div>"
      ],
      "text/plain": [
       "   code_sample_idx                                      query func baseline  \\\n",
       "0                1  1. change the texture patterns of the bar  NaN     BM25   \n",
       "1                1  1. change the texture patterns of the bar  NaN     BM25   \n",
       "2                1  1. change the texture patterns of the bar  NaN     BM25   \n",
       "3                1  1. change the texture patterns of the bar  NaN     BM25   \n",
       "4                1  1. change the texture patterns of the bar  NaN     BM25   \n",
       "\n",
       "   candidate  rank  is_gt      score  num_alt     prank  \n",
       "0        bar     1      0  10.633178        9  0.000000  \n",
       "1  set_hatch     2      1   7.838210        9  0.111111  \n",
       "2   get_cmap     3      0   0.000000        9  0.222222  \n",
       "3  set_width     4      0   0.000000        9  0.333333  \n",
       "4  set_label     5      0   0.000000        9  0.444444  "
      ]
     },
     "execution_count": 63,
     "metadata": {},
     "output_type": "execute_result"
    }
   ],
   "source": [
    "df.head()"
   ]
  },
  {
   "cell_type": "markdown",
   "metadata": {},
   "source": [
    "### Question 1: Are all the systems failing on the same questions?"
   ]
  },
  {
   "cell_type": "markdown",
   "metadata": {},
   "source": [
    "### func"
   ]
  },
  {
   "cell_type": "code",
   "execution_count": 64,
   "metadata": {
    "collapsed": false
   },
   "outputs": [],
   "source": [
    "df_func_gt = df[df.func.isnull() & df.is_gt == 1]"
   ]
  },
  {
   "cell_type": "code",
   "execution_count": 65,
   "metadata": {
    "collapsed": false
   },
   "outputs": [],
   "source": [
    "df_func_gt_pivot = df_func_gt[['query','baseline', 'rank']].pivot_table(\n",
    "    index='query',columns='baseline',aggfunc=min)"
   ]
  },
  {
   "cell_type": "code",
   "execution_count": 66,
   "metadata": {
    "collapsed": true
   },
   "outputs": [],
   "source": [
    "df_func_gt_norm_pivot = df_func_gt[['query','baseline', 'prank']].pivot_table(\n",
    "    index='query',columns='baseline',aggfunc=min)"
   ]
  },
  {
   "cell_type": "markdown",
   "metadata": {},
   "source": [
    "### arg"
   ]
  },
  {
   "cell_type": "code",
   "execution_count": 81,
   "metadata": {
    "collapsed": false
   },
   "outputs": [],
   "source": [
    "df_arg_gt = df[~df.func.isnull() & df.is_gt == 1]\n",
    "\n",
    "df_arg_gt_pivot = df_arg_gt[['query','func','baseline', 'rank']].pivot_table(\n",
    "    index=['query','func'],columns='baseline',aggfunc=min)\n",
    "\n",
    "df_arg_gt_norm_pivot = df_arg_gt[['query','func','baseline', 'prank']].pivot_table(\n",
    "    index=['query','func'],columns='baseline',aggfunc=min)"
   ]
  },
  {
   "cell_type": "code",
   "execution_count": 84,
   "metadata": {
    "collapsed": true
   },
   "outputs": [],
   "source": [
    "writer = pd.ExcelWriter('funcarg_gt_pivot.xls')\n",
    "df_func_gt_pivot.to_excel(writer, 'func')\n",
    "df_func_gt_norm_pivot.to_excel(writer, 'func_norm')\n",
    "df_arg_gt_pivot.to_excel(writer, 'arg')\n",
    "df_arg_gt_norm_pivot.to_excel(writer, 'arg_norm')\n",
    "writer.save()"
   ]
  },
  {
   "cell_type": "markdown",
   "metadata": {},
   "source": [
    "## Dig Deeper: Why n-gram word2vec is performing worse??"
   ]
  },
  {
   "cell_type": "markdown",
   "metadata": {},
   "source": [
    "### query: \"1. set the color of the bar\""
   ]
  },
  {
   "cell_type": "code",
   "execution_count": 91,
   "metadata": {
    "collapsed": false
   },
   "outputs": [
    {
     "data": {
      "text/html": [
       "<div>\n",
       "<table border=\"1\" class=\"dataframe\">\n",
       "  <thead>\n",
       "    <tr style=\"text-align: right;\">\n",
       "      <th></th>\n",
       "      <th>code_sample_idx</th>\n",
       "      <th>query</th>\n",
       "      <th>func</th>\n",
       "      <th>baseline</th>\n",
       "      <th>candidate</th>\n",
       "      <th>rank</th>\n",
       "      <th>is_gt</th>\n",
       "      <th>score</th>\n",
       "      <th>num_alt</th>\n",
       "      <th>prank</th>\n",
       "    </tr>\n",
       "  </thead>\n",
       "  <tbody>\n",
       "    <tr>\n",
       "      <th>924</th>\n",
       "      <td>1</td>\n",
       "      <td>1. set the color of the bar</td>\n",
       "      <td>NaN</td>\n",
       "      <td>BM25</td>\n",
       "      <td>bar</td>\n",
       "      <td>1</td>\n",
       "      <td>1</td>\n",
       "      <td>10.633178</td>\n",
       "      <td>9</td>\n",
       "      <td>0.000000</td>\n",
       "    </tr>\n",
       "    <tr>\n",
       "      <th>925</th>\n",
       "      <td>1</td>\n",
       "      <td>1. set the color of the bar</td>\n",
       "      <td>NaN</td>\n",
       "      <td>BM25</td>\n",
       "      <td>set_width</td>\n",
       "      <td>2</td>\n",
       "      <td>0</td>\n",
       "      <td>4.178821</td>\n",
       "      <td>9</td>\n",
       "      <td>0.111111</td>\n",
       "    </tr>\n",
       "    <tr>\n",
       "      <th>926</th>\n",
       "      <td>1</td>\n",
       "      <td>1. set the color of the bar</td>\n",
       "      <td>NaN</td>\n",
       "      <td>BM25</td>\n",
       "      <td>set_hatch</td>\n",
       "      <td>3</td>\n",
       "      <td>0</td>\n",
       "      <td>4.178821</td>\n",
       "      <td>9</td>\n",
       "      <td>0.222222</td>\n",
       "    </tr>\n",
       "    <tr>\n",
       "      <th>927</th>\n",
       "      <td>1</td>\n",
       "      <td>1. set the color of the bar</td>\n",
       "      <td>NaN</td>\n",
       "      <td>BM25</td>\n",
       "      <td>set_label</td>\n",
       "      <td>4</td>\n",
       "      <td>0</td>\n",
       "      <td>3.973527</td>\n",
       "      <td>9</td>\n",
       "      <td>0.333333</td>\n",
       "    </tr>\n",
       "    <tr>\n",
       "      <th>928</th>\n",
       "      <td>1</td>\n",
       "      <td>1. set the color of the bar</td>\n",
       "      <td>NaN</td>\n",
       "      <td>BM25</td>\n",
       "      <td>title</td>\n",
       "      <td>5</td>\n",
       "      <td>0</td>\n",
       "      <td>3.973527</td>\n",
       "      <td>9</td>\n",
       "      <td>0.444444</td>\n",
       "    </tr>\n",
       "    <tr>\n",
       "      <th>929</th>\n",
       "      <td>1</td>\n",
       "      <td>1. set the color of the bar</td>\n",
       "      <td>NaN</td>\n",
       "      <td>BM25</td>\n",
       "      <td>xlim</td>\n",
       "      <td>6</td>\n",
       "      <td>0</td>\n",
       "      <td>3.793140</td>\n",
       "      <td>9</td>\n",
       "      <td>0.555556</td>\n",
       "    </tr>\n",
       "    <tr>\n",
       "      <th>930</th>\n",
       "      <td>1</td>\n",
       "      <td>1. set the color of the bar</td>\n",
       "      <td>NaN</td>\n",
       "      <td>BM25</td>\n",
       "      <td>xticks</td>\n",
       "      <td>7</td>\n",
       "      <td>0</td>\n",
       "      <td>3.490922</td>\n",
       "      <td>9</td>\n",
       "      <td>0.666667</td>\n",
       "    </tr>\n",
       "    <tr>\n",
       "      <th>931</th>\n",
       "      <td>1</td>\n",
       "      <td>1. set the color of the bar</td>\n",
       "      <td>NaN</td>\n",
       "      <td>BM25</td>\n",
       "      <td>get_cmap</td>\n",
       "      <td>8</td>\n",
       "      <td>0</td>\n",
       "      <td>0.000000</td>\n",
       "      <td>9</td>\n",
       "      <td>0.777778</td>\n",
       "    </tr>\n",
       "    <tr>\n",
       "      <th>932</th>\n",
       "      <td>1</td>\n",
       "      <td>1. set the color of the bar</td>\n",
       "      <td>NaN</td>\n",
       "      <td>BM25</td>\n",
       "      <td>legend</td>\n",
       "      <td>9</td>\n",
       "      <td>0</td>\n",
       "      <td>0.000000</td>\n",
       "      <td>9</td>\n",
       "      <td>0.888889</td>\n",
       "    </tr>\n",
       "  </tbody>\n",
       "</table>\n",
       "</div>"
      ],
      "text/plain": [
       "     code_sample_idx                        query func baseline  candidate  \\\n",
       "924                1  1. set the color of the bar  NaN     BM25        bar   \n",
       "925                1  1. set the color of the bar  NaN     BM25  set_width   \n",
       "926                1  1. set the color of the bar  NaN     BM25  set_hatch   \n",
       "927                1  1. set the color of the bar  NaN     BM25  set_label   \n",
       "928                1  1. set the color of the bar  NaN     BM25      title   \n",
       "929                1  1. set the color of the bar  NaN     BM25       xlim   \n",
       "930                1  1. set the color of the bar  NaN     BM25     xticks   \n",
       "931                1  1. set the color of the bar  NaN     BM25   get_cmap   \n",
       "932                1  1. set the color of the bar  NaN     BM25     legend   \n",
       "\n",
       "     rank  is_gt      score  num_alt     prank  \n",
       "924     1      1  10.633178        9  0.000000  \n",
       "925     2      0   4.178821        9  0.111111  \n",
       "926     3      0   4.178821        9  0.222222  \n",
       "927     4      0   3.973527        9  0.333333  \n",
       "928     5      0   3.973527        9  0.444444  \n",
       "929     6      0   3.793140        9  0.555556  \n",
       "930     7      0   3.490922        9  0.666667  \n",
       "931     8      0   0.000000        9  0.777778  \n",
       "932     9      0   0.000000        9  0.888889  "
      ]
     },
     "execution_count": 91,
     "metadata": {},
     "output_type": "execute_result"
    }
   ],
   "source": [
    "df[df.func.isnull() & (df.baseline=='BM25') & (df['query'] == '1. set the color of the bar')]"
   ]
  },
  {
   "cell_type": "code",
   "execution_count": 92,
   "metadata": {
    "collapsed": false
   },
   "outputs": [
    {
     "data": {
      "text/html": [
       "<div>\n",
       "<table border=\"1\" class=\"dataframe\">\n",
       "  <thead>\n",
       "    <tr style=\"text-align: right;\">\n",
       "      <th></th>\n",
       "      <th>code_sample_idx</th>\n",
       "      <th>query</th>\n",
       "      <th>func</th>\n",
       "      <th>baseline</th>\n",
       "      <th>candidate</th>\n",
       "      <th>rank</th>\n",
       "      <th>is_gt</th>\n",
       "      <th>score</th>\n",
       "      <th>num_alt</th>\n",
       "      <th>prank</th>\n",
       "    </tr>\n",
       "  </thead>\n",
       "  <tbody>\n",
       "    <tr>\n",
       "      <th>987</th>\n",
       "      <td>1</td>\n",
       "      <td>1. set the color of the bar</td>\n",
       "      <td>NaN</td>\n",
       "      <td>vectors-so-text-python-5gram.bin_func_as_seq</td>\n",
       "      <td>xlim</td>\n",
       "      <td>1</td>\n",
       "      <td>0</td>\n",
       "      <td>0.787440</td>\n",
       "      <td>9</td>\n",
       "      <td>0.000000</td>\n",
       "    </tr>\n",
       "    <tr>\n",
       "      <th>988</th>\n",
       "      <td>1</td>\n",
       "      <td>1. set the color of the bar</td>\n",
       "      <td>NaN</td>\n",
       "      <td>vectors-so-text-python-5gram.bin_func_as_seq</td>\n",
       "      <td>xticks</td>\n",
       "      <td>2</td>\n",
       "      <td>0</td>\n",
       "      <td>0.735804</td>\n",
       "      <td>9</td>\n",
       "      <td>0.111111</td>\n",
       "    </tr>\n",
       "    <tr>\n",
       "      <th>989</th>\n",
       "      <td>1</td>\n",
       "      <td>1. set the color of the bar</td>\n",
       "      <td>NaN</td>\n",
       "      <td>vectors-so-text-python-5gram.bin_func_as_seq</td>\n",
       "      <td>title</td>\n",
       "      <td>3</td>\n",
       "      <td>0</td>\n",
       "      <td>0.729406</td>\n",
       "      <td>9</td>\n",
       "      <td>0.222222</td>\n",
       "    </tr>\n",
       "    <tr>\n",
       "      <th>990</th>\n",
       "      <td>1</td>\n",
       "      <td>1. set the color of the bar</td>\n",
       "      <td>NaN</td>\n",
       "      <td>vectors-so-text-python-5gram.bin_func_as_seq</td>\n",
       "      <td>set_hatch</td>\n",
       "      <td>4</td>\n",
       "      <td>0</td>\n",
       "      <td>0.694642</td>\n",
       "      <td>9</td>\n",
       "      <td>0.333333</td>\n",
       "    </tr>\n",
       "    <tr>\n",
       "      <th>991</th>\n",
       "      <td>1</td>\n",
       "      <td>1. set the color of the bar</td>\n",
       "      <td>NaN</td>\n",
       "      <td>vectors-so-text-python-5gram.bin_func_as_seq</td>\n",
       "      <td>set_width</td>\n",
       "      <td>5</td>\n",
       "      <td>0</td>\n",
       "      <td>0.691684</td>\n",
       "      <td>9</td>\n",
       "      <td>0.444444</td>\n",
       "    </tr>\n",
       "    <tr>\n",
       "      <th>992</th>\n",
       "      <td>1</td>\n",
       "      <td>1. set the color of the bar</td>\n",
       "      <td>NaN</td>\n",
       "      <td>vectors-so-text-python-5gram.bin_func_as_seq</td>\n",
       "      <td>set_label</td>\n",
       "      <td>6</td>\n",
       "      <td>0</td>\n",
       "      <td>0.642508</td>\n",
       "      <td>9</td>\n",
       "      <td>0.555556</td>\n",
       "    </tr>\n",
       "    <tr>\n",
       "      <th>993</th>\n",
       "      <td>1</td>\n",
       "      <td>1. set the color of the bar</td>\n",
       "      <td>NaN</td>\n",
       "      <td>vectors-so-text-python-5gram.bin_func_as_seq</td>\n",
       "      <td>get_cmap</td>\n",
       "      <td>7</td>\n",
       "      <td>0</td>\n",
       "      <td>0.638531</td>\n",
       "      <td>9</td>\n",
       "      <td>0.666667</td>\n",
       "    </tr>\n",
       "    <tr>\n",
       "      <th>994</th>\n",
       "      <td>1</td>\n",
       "      <td>1. set the color of the bar</td>\n",
       "      <td>NaN</td>\n",
       "      <td>vectors-so-text-python-5gram.bin_func_as_seq</td>\n",
       "      <td>legend</td>\n",
       "      <td>8</td>\n",
       "      <td>0</td>\n",
       "      <td>0.549457</td>\n",
       "      <td>9</td>\n",
       "      <td>0.777778</td>\n",
       "    </tr>\n",
       "    <tr>\n",
       "      <th>995</th>\n",
       "      <td>1</td>\n",
       "      <td>1. set the color of the bar</td>\n",
       "      <td>NaN</td>\n",
       "      <td>vectors-so-text-python-5gram.bin_func_as_seq</td>\n",
       "      <td>bar</td>\n",
       "      <td>9</td>\n",
       "      <td>1</td>\n",
       "      <td>0.542181</td>\n",
       "      <td>9</td>\n",
       "      <td>0.888889</td>\n",
       "    </tr>\n",
       "  </tbody>\n",
       "</table>\n",
       "</div>"
      ],
      "text/plain": [
       "     code_sample_idx                        query func  \\\n",
       "987                1  1. set the color of the bar  NaN   \n",
       "988                1  1. set the color of the bar  NaN   \n",
       "989                1  1. set the color of the bar  NaN   \n",
       "990                1  1. set the color of the bar  NaN   \n",
       "991                1  1. set the color of the bar  NaN   \n",
       "992                1  1. set the color of the bar  NaN   \n",
       "993                1  1. set the color of the bar  NaN   \n",
       "994                1  1. set the color of the bar  NaN   \n",
       "995                1  1. set the color of the bar  NaN   \n",
       "\n",
       "                                         baseline  candidate  rank  is_gt  \\\n",
       "987  vectors-so-text-python-5gram.bin_func_as_seq       xlim     1      0   \n",
       "988  vectors-so-text-python-5gram.bin_func_as_seq     xticks     2      0   \n",
       "989  vectors-so-text-python-5gram.bin_func_as_seq      title     3      0   \n",
       "990  vectors-so-text-python-5gram.bin_func_as_seq  set_hatch     4      0   \n",
       "991  vectors-so-text-python-5gram.bin_func_as_seq  set_width     5      0   \n",
       "992  vectors-so-text-python-5gram.bin_func_as_seq  set_label     6      0   \n",
       "993  vectors-so-text-python-5gram.bin_func_as_seq   get_cmap     7      0   \n",
       "994  vectors-so-text-python-5gram.bin_func_as_seq     legend     8      0   \n",
       "995  vectors-so-text-python-5gram.bin_func_as_seq        bar     9      1   \n",
       "\n",
       "        score  num_alt     prank  \n",
       "987  0.787440        9  0.000000  \n",
       "988  0.735804        9  0.111111  \n",
       "989  0.729406        9  0.222222  \n",
       "990  0.694642        9  0.333333  \n",
       "991  0.691684        9  0.444444  \n",
       "992  0.642508        9  0.555556  \n",
       "993  0.638531        9  0.666667  \n",
       "994  0.549457        9  0.777778  \n",
       "995  0.542181        9  0.888889  "
      ]
     },
     "execution_count": 92,
     "metadata": {},
     "output_type": "execute_result"
    }
   ],
   "source": [
    "df[df.func.isnull() \n",
    "   & (df.baseline=='vectors-so-text-python-5gram.bin_func_as_seq') \n",
    "   & (df['query'] == '1. set the color of the bar')]"
   ]
  },
  {
   "cell_type": "code",
   "execution_count": 123,
   "metadata": {
    "collapsed": false
   },
   "outputs": [
    {
     "data": {
      "text/plain": [
       "['xlim',\n",
       " 'xticks',\n",
       " 'title',\n",
       " 'set_hatch',\n",
       " 'set_width',\n",
       " 'set_label',\n",
       " 'get_cmap',\n",
       " 'legend',\n",
       " 'bar']"
      ]
     },
     "execution_count": 123,
     "metadata": {},
     "output_type": "execute_result"
    }
   ],
   "source": [
    "funcs = \\\n",
    "df[df.func.isnull() \n",
    "   & (df.baseline=='vectors-so-text-python-5gram.bin_func_as_seq') \n",
    "   & (df['query'] == '1. set the color of the bar')].candidate.tolist()\n",
    "funcs"
   ]
  },
  {
   "cell_type": "code",
   "execution_count": 102,
   "metadata": {
    "collapsed": false
   },
   "outputs": [
    {
     "name": "stdout",
     "output_type": "stream",
     "text": [
      "/Users/ronxin/Dropbox/git/codemend/models\n"
     ]
    }
   ],
   "source": [
    "%cd ../../models"
   ]
  },
  {
   "cell_type": "code",
   "execution_count": 104,
   "metadata": {
    "collapsed": true
   },
   "outputs": [],
   "source": [
    "import sys\n",
    "sys.path.append('../models/')\n",
    "from annotate_code_with_api import get_fu_fau"
   ]
  },
  {
   "cell_type": "code",
   "execution_count": 105,
   "metadata": {
    "collapsed": false
   },
   "outputs": [],
   "source": [
    "fu, fau = get_fu_fau()"
   ]
  },
  {
   "cell_type": "code",
   "execution_count": 107,
   "metadata": {
    "collapsed": false
   },
   "outputs": [
    {
     "data": {
      "text/plain": [
       "'get or set the x limits of the current axes .'"
      ]
     },
     "execution_count": 107,
     "metadata": {},
     "output_type": "execute_result"
    }
   ],
   "source": [
    "fu['xlim']"
   ]
  },
  {
   "cell_type": "code",
   "execution_count": 108,
   "metadata": {
    "collapsed": false
   },
   "outputs": [
    {
     "data": {
      "text/plain": [
       "'make a bar plot .'"
      ]
     },
     "execution_count": 108,
     "metadata": {},
     "output_type": "execute_result"
    }
   ],
   "source": [
    "fu['bar']"
   ]
  },
  {
   "cell_type": "code",
   "execution_count": 109,
   "metadata": {
    "collapsed": true
   },
   "outputs": [],
   "source": [
    "from word2vec_baseline import Word2vecBaseline"
   ]
  },
  {
   "cell_type": "code",
   "execution_count": 112,
   "metadata": {
    "collapsed": false
   },
   "outputs": [],
   "source": [
    "w2v = Word2vecBaseline(\n",
    "                 'output/vectors-so-text-python-5gram.bin',\n",
    "                 maxngram=5,\n",
    "                 fu_fau=(fu,fau))"
   ]
  },
  {
   "cell_type": "code",
   "execution_count": 113,
   "metadata": {
    "collapsed": false
   },
   "outputs": [
    {
     "data": {
      "text/plain": [
       "['make', 'a', 'bar_plot', '.', 'bar']"
      ]
     },
     "execution_count": 113,
     "metadata": {},
     "output_type": "execute_result"
    }
   ],
   "source": [
    "[w2v.model.index2word[x] for x in w2v.get_word_indexes(fu['bar'] + ' bar')]"
   ]
  },
  {
   "cell_type": "code",
   "execution_count": 114,
   "metadata": {
    "collapsed": false
   },
   "outputs": [
    {
     "data": {
      "text/plain": [
       "['get',\n",
       " 'or',\n",
       " 'set',\n",
       " 'the',\n",
       " 'x_limits',\n",
       " 'of',\n",
       " 'the',\n",
       " 'current_axes',\n",
       " '.',\n",
       " 'xlim']"
      ]
     },
     "execution_count": 114,
     "metadata": {},
     "output_type": "execute_result"
    }
   ],
   "source": [
    "[w2v.model.index2word[x] for x in w2v.get_word_indexes(fu['xlim'] + ' xlim')]"
   ]
  },
  {
   "cell_type": "code",
   "execution_count": 115,
   "metadata": {
    "collapsed": false
   },
   "outputs": [
    {
     "data": {
      "text/plain": [
       "['set', 'the', 'color', 'of', 'the', 'bar']"
      ]
     },
     "execution_count": 115,
     "metadata": {},
     "output_type": "execute_result"
    }
   ],
   "source": [
    "[w2v.model.index2word[x] for x in w2v.get_word_indexes('set the color of the bar')]"
   ]
  },
  {
   "cell_type": "code",
   "execution_count": 116,
   "metadata": {
    "collapsed": false
   },
   "outputs": [
    {
     "data": {
      "text/plain": [
       "[75, 1, 911, 15, 1, 2077]"
      ]
     },
     "execution_count": 116,
     "metadata": {},
     "output_type": "execute_result"
    }
   ],
   "source": [
    "w2v.get_word_indexes('set the color of the bar')"
   ]
  },
  {
   "cell_type": "code",
   "execution_count": 118,
   "metadata": {
    "collapsed": false
   },
   "outputs": [
    {
     "data": {
      "text/plain": [
       "0.49544877"
      ]
     },
     "execution_count": 118,
     "metadata": {},
     "output_type": "execute_result"
    }
   ],
   "source": [
    "np.dot(w2v.get_bow_representation(fu['bar'] + ' bar'),\n",
    "       w2v.get_bow_representation('set the color of the bar').T)"
   ]
  },
  {
   "cell_type": "code",
   "execution_count": 119,
   "metadata": {
    "collapsed": false
   },
   "outputs": [
    {
     "data": {
      "text/plain": [
       "0.49544877"
      ]
     },
     "execution_count": 119,
     "metadata": {},
     "output_type": "execute_result"
    }
   ],
   "source": [
    "np.dot(w2v.f_vecmat[w2v.func_lookup['bar']],\n",
    "       w2v.get_bow_representation('set the color of the bar').T)"
   ]
  },
  {
   "cell_type": "code",
   "execution_count": 120,
   "metadata": {
    "collapsed": false
   },
   "outputs": [
    {
     "data": {
      "text/plain": [
       "0.80199325"
      ]
     },
     "execution_count": 120,
     "metadata": {},
     "output_type": "execute_result"
    }
   ],
   "source": [
    "np.dot(w2v.f_vecmat[w2v.func_lookup['xlim']],\n",
    "       w2v.get_bow_representation('set the color of the bar').T)"
   ]
  },
  {
   "cell_type": "code",
   "execution_count": 124,
   "metadata": {
    "collapsed": false
   },
   "outputs": [
    {
     "data": {
      "text/plain": [
       "[('xlim', 0.80199326185821751),\n",
       " ('xticks', 0.75373183641630837),\n",
       " ('title', 0.71177487726350697),\n",
       " ('set_hatch', 0.69464193441954392),\n",
       " ('set_width', 0.69168423410661128),\n",
       " ('set_label', 0.64250774355492346),\n",
       " ('get_cmap', 0.63853126243112146),\n",
       " ('legend', 0.54945666001272375),\n",
       " ('bar', 0.49544878649104351)]"
      ]
     },
     "execution_count": 124,
     "metadata": {},
     "output_type": "execute_result"
    }
   ],
   "source": [
    "w2v.rank_funcs('set the color of the bar', funcs)"
   ]
  },
  {
   "cell_type": "code",
   "execution_count": 125,
   "metadata": {
    "collapsed": true
   },
   "outputs": [],
   "source": [
    "w2v1g = Word2vecBaseline(\n",
    "                 w2v.model,\n",
    "                 maxngram=1,\n",
    "                 fu_fau=(fu,fau))"
   ]
  },
  {
   "cell_type": "code",
   "execution_count": 126,
   "metadata": {
    "collapsed": false
   },
   "outputs": [
    {
     "data": {
      "text/plain": [
       "[('xlim', 0.78744002689626891),\n",
       " ('xticks', 0.7358038256871624),\n",
       " ('title', 0.7294064693709218),\n",
       " ('set_hatch', 0.69464193441954392),\n",
       " ('set_width', 0.69168423410661128),\n",
       " ('set_label', 0.64250774355492346),\n",
       " ('get_cmap', 0.63853126243112146),\n",
       " ('legend', 0.54945666001272375),\n",
       " ('bar', 0.54218060892628928)]"
      ]
     },
     "execution_count": 126,
     "metadata": {},
     "output_type": "execute_result"
    }
   ],
   "source": [
    "w2v1g.rank_funcs('set the color of the bar', funcs)"
   ]
  },
  {
   "cell_type": "markdown",
   "metadata": {},
   "source": [
    "### query: \"2. add label to the slices\""
   ]
  },
  {
   "cell_type": "code",
   "execution_count": 128,
   "metadata": {
    "collapsed": false
   },
   "outputs": [
    {
     "data": {
      "text/html": [
       "<div>\n",
       "<table border=\"1\" class=\"dataframe\">\n",
       "  <thead>\n",
       "    <tr style=\"text-align: right;\">\n",
       "      <th></th>\n",
       "      <th>code_sample_idx</th>\n",
       "      <th>query</th>\n",
       "      <th>func</th>\n",
       "      <th>baseline</th>\n",
       "      <th>candidate</th>\n",
       "      <th>rank</th>\n",
       "      <th>is_gt</th>\n",
       "      <th>score</th>\n",
       "      <th>num_alt</th>\n",
       "      <th>prank</th>\n",
       "    </tr>\n",
       "  </thead>\n",
       "  <tbody>\n",
       "    <tr>\n",
       "      <th>1606</th>\n",
       "      <td>2</td>\n",
       "      <td>2. add label to the slices</td>\n",
       "      <td>NaN</td>\n",
       "      <td>BM25</td>\n",
       "      <td>pie</td>\n",
       "      <td>1</td>\n",
       "      <td>1</td>\n",
       "      <td>0</td>\n",
       "      <td>4</td>\n",
       "      <td>0.00</td>\n",
       "    </tr>\n",
       "    <tr>\n",
       "      <th>1607</th>\n",
       "      <td>2</td>\n",
       "      <td>2. add label to the slices</td>\n",
       "      <td>NaN</td>\n",
       "      <td>BM25</td>\n",
       "      <td>title</td>\n",
       "      <td>2</td>\n",
       "      <td>0</td>\n",
       "      <td>0</td>\n",
       "      <td>4</td>\n",
       "      <td>0.25</td>\n",
       "    </tr>\n",
       "    <tr>\n",
       "      <th>1608</th>\n",
       "      <td>2</td>\n",
       "      <td>2. add label to the slices</td>\n",
       "      <td>NaN</td>\n",
       "      <td>BM25</td>\n",
       "      <td>set_bbox</td>\n",
       "      <td>3</td>\n",
       "      <td>0</td>\n",
       "      <td>0</td>\n",
       "      <td>4</td>\n",
       "      <td>0.50</td>\n",
       "    </tr>\n",
       "    <tr>\n",
       "      <th>1609</th>\n",
       "      <td>2</td>\n",
       "      <td>2. add label to the slices</td>\n",
       "      <td>NaN</td>\n",
       "      <td>BM25</td>\n",
       "      <td>axis</td>\n",
       "      <td>4</td>\n",
       "      <td>0</td>\n",
       "      <td>0</td>\n",
       "      <td>4</td>\n",
       "      <td>0.75</td>\n",
       "    </tr>\n",
       "  </tbody>\n",
       "</table>\n",
       "</div>"
      ],
      "text/plain": [
       "      code_sample_idx                       query func baseline candidate  \\\n",
       "1606                2  2. add label to the slices  NaN     BM25       pie   \n",
       "1607                2  2. add label to the slices  NaN     BM25     title   \n",
       "1608                2  2. add label to the slices  NaN     BM25  set_bbox   \n",
       "1609                2  2. add label to the slices  NaN     BM25      axis   \n",
       "\n",
       "      rank  is_gt  score  num_alt  prank  \n",
       "1606     1      1      0        4   0.00  \n",
       "1607     2      0      0        4   0.25  \n",
       "1608     3      0      0        4   0.50  \n",
       "1609     4      0      0        4   0.75  "
      ]
     },
     "execution_count": 128,
     "metadata": {},
     "output_type": "execute_result"
    }
   ],
   "source": [
    "df[df.func.isnull() \n",
    "   & (df.baseline=='BM25') \n",
    "   & (df['query'] == '2. add label to the slices')]"
   ]
  },
  {
   "cell_type": "code",
   "execution_count": 127,
   "metadata": {
    "collapsed": false
   },
   "outputs": [
    {
     "data": {
      "text/html": [
       "<div>\n",
       "<table border=\"1\" class=\"dataframe\">\n",
       "  <thead>\n",
       "    <tr style=\"text-align: right;\">\n",
       "      <th></th>\n",
       "      <th>code_sample_idx</th>\n",
       "      <th>query</th>\n",
       "      <th>func</th>\n",
       "      <th>baseline</th>\n",
       "      <th>candidate</th>\n",
       "      <th>rank</th>\n",
       "      <th>is_gt</th>\n",
       "      <th>score</th>\n",
       "      <th>num_alt</th>\n",
       "      <th>prank</th>\n",
       "    </tr>\n",
       "  </thead>\n",
       "  <tbody>\n",
       "    <tr>\n",
       "      <th>1634</th>\n",
       "      <td>2</td>\n",
       "      <td>2. add label to the slices</td>\n",
       "      <td>NaN</td>\n",
       "      <td>vectors-so-text-python-5gram.bin_func_as_seq</td>\n",
       "      <td>axis</td>\n",
       "      <td>1</td>\n",
       "      <td>0</td>\n",
       "      <td>0.563804</td>\n",
       "      <td>4</td>\n",
       "      <td>0.00</td>\n",
       "    </tr>\n",
       "    <tr>\n",
       "      <th>1635</th>\n",
       "      <td>2</td>\n",
       "      <td>2. add label to the slices</td>\n",
       "      <td>NaN</td>\n",
       "      <td>vectors-so-text-python-5gram.bin_func_as_seq</td>\n",
       "      <td>title</td>\n",
       "      <td>2</td>\n",
       "      <td>0</td>\n",
       "      <td>0.545443</td>\n",
       "      <td>4</td>\n",
       "      <td>0.25</td>\n",
       "    </tr>\n",
       "    <tr>\n",
       "      <th>1636</th>\n",
       "      <td>2</td>\n",
       "      <td>2. add label to the slices</td>\n",
       "      <td>NaN</td>\n",
       "      <td>vectors-so-text-python-5gram.bin_func_as_seq</td>\n",
       "      <td>set_bbox</td>\n",
       "      <td>3</td>\n",
       "      <td>0</td>\n",
       "      <td>0.367135</td>\n",
       "      <td>4</td>\n",
       "      <td>0.50</td>\n",
       "    </tr>\n",
       "    <tr>\n",
       "      <th>1637</th>\n",
       "      <td>2</td>\n",
       "      <td>2. add label to the slices</td>\n",
       "      <td>NaN</td>\n",
       "      <td>vectors-so-text-python-5gram.bin_func_as_seq</td>\n",
       "      <td>pie</td>\n",
       "      <td>4</td>\n",
       "      <td>1</td>\n",
       "      <td>0.358241</td>\n",
       "      <td>4</td>\n",
       "      <td>0.75</td>\n",
       "    </tr>\n",
       "  </tbody>\n",
       "</table>\n",
       "</div>"
      ],
      "text/plain": [
       "      code_sample_idx                       query func  \\\n",
       "1634                2  2. add label to the slices  NaN   \n",
       "1635                2  2. add label to the slices  NaN   \n",
       "1636                2  2. add label to the slices  NaN   \n",
       "1637                2  2. add label to the slices  NaN   \n",
       "\n",
       "                                          baseline candidate  rank  is_gt  \\\n",
       "1634  vectors-so-text-python-5gram.bin_func_as_seq      axis     1      0   \n",
       "1635  vectors-so-text-python-5gram.bin_func_as_seq     title     2      0   \n",
       "1636  vectors-so-text-python-5gram.bin_func_as_seq  set_bbox     3      0   \n",
       "1637  vectors-so-text-python-5gram.bin_func_as_seq       pie     4      1   \n",
       "\n",
       "         score  num_alt  prank  \n",
       "1634  0.563804        4   0.00  \n",
       "1635  0.545443        4   0.25  \n",
       "1636  0.367135        4   0.50  \n",
       "1637  0.358241        4   0.75  "
      ]
     },
     "execution_count": 127,
     "metadata": {},
     "output_type": "execute_result"
    }
   ],
   "source": [
    "df[df.func.isnull() \n",
    "   & (df.baseline=='vectors-so-text-python-5gram.bin_func_as_seq') \n",
    "   & (df['query'] == '2. add label to the slices')]"
   ]
  },
  {
   "cell_type": "markdown",
   "metadata": {},
   "source": [
    "### query: \"4. change the line type of the grid lines\""
   ]
  },
  {
   "cell_type": "code",
   "execution_count": 129,
   "metadata": {
    "collapsed": false
   },
   "outputs": [
    {
     "data": {
      "text/html": [
       "<div>\n",
       "<table border=\"1\" class=\"dataframe\">\n",
       "  <thead>\n",
       "    <tr style=\"text-align: right;\">\n",
       "      <th></th>\n",
       "      <th>code_sample_idx</th>\n",
       "      <th>query</th>\n",
       "      <th>func</th>\n",
       "      <th>baseline</th>\n",
       "      <th>candidate</th>\n",
       "      <th>rank</th>\n",
       "      <th>is_gt</th>\n",
       "      <th>score</th>\n",
       "      <th>num_alt</th>\n",
       "      <th>prank</th>\n",
       "    </tr>\n",
       "  </thead>\n",
       "  <tbody>\n",
       "    <tr>\n",
       "      <th>4497</th>\n",
       "      <td>4</td>\n",
       "      <td>4. change the line type of the grid lines</td>\n",
       "      <td>NaN</td>\n",
       "      <td>BM25</td>\n",
       "      <td>grid</td>\n",
       "      <td>1</td>\n",
       "      <td>1</td>\n",
       "      <td>16.669619</td>\n",
       "      <td>26</td>\n",
       "      <td>0.000000</td>\n",
       "    </tr>\n",
       "    <tr>\n",
       "      <th>4498</th>\n",
       "      <td>4</td>\n",
       "      <td>4. change the line type of the grid lines</td>\n",
       "      <td>NaN</td>\n",
       "      <td>BM25</td>\n",
       "      <td>plot</td>\n",
       "      <td>2</td>\n",
       "      <td>0</td>\n",
       "      <td>13.021258</td>\n",
       "      <td>26</td>\n",
       "      <td>0.038462</td>\n",
       "    </tr>\n",
       "    <tr>\n",
       "      <th>4499</th>\n",
       "      <td>4</td>\n",
       "      <td>4. change the line type of the grid lines</td>\n",
       "      <td>NaN</td>\n",
       "      <td>BM25</td>\n",
       "      <td>tick_params</td>\n",
       "      <td>3</td>\n",
       "      <td>0</td>\n",
       "      <td>7.444959</td>\n",
       "      <td>26</td>\n",
       "      <td>0.076923</td>\n",
       "    </tr>\n",
       "    <tr>\n",
       "      <th>4500</th>\n",
       "      <td>4</td>\n",
       "      <td>4. change the line type of the grid lines</td>\n",
       "      <td>NaN</td>\n",
       "      <td>BM25</td>\n",
       "      <td>figure</td>\n",
       "      <td>4</td>\n",
       "      <td>0</td>\n",
       "      <td>0.000000</td>\n",
       "      <td>26</td>\n",
       "      <td>0.115385</td>\n",
       "    </tr>\n",
       "    <tr>\n",
       "      <th>4501</th>\n",
       "      <td>4</td>\n",
       "      <td>4. change the line type of the grid lines</td>\n",
       "      <td>NaN</td>\n",
       "      <td>BM25</td>\n",
       "      <td>plot</td>\n",
       "      <td>5</td>\n",
       "      <td>0</td>\n",
       "      <td>0.000000</td>\n",
       "      <td>26</td>\n",
       "      <td>0.153846</td>\n",
       "    </tr>\n",
       "    <tr>\n",
       "      <th>4502</th>\n",
       "      <td>4</td>\n",
       "      <td>4. change the line type of the grid lines</td>\n",
       "      <td>NaN</td>\n",
       "      <td>BM25</td>\n",
       "      <td>xlabel</td>\n",
       "      <td>6</td>\n",
       "      <td>0</td>\n",
       "      <td>0.000000</td>\n",
       "      <td>26</td>\n",
       "      <td>0.192308</td>\n",
       "    </tr>\n",
       "    <tr>\n",
       "      <th>4503</th>\n",
       "      <td>4</td>\n",
       "      <td>4. change the line type of the grid lines</td>\n",
       "      <td>NaN</td>\n",
       "      <td>BM25</td>\n",
       "      <td>ylabel</td>\n",
       "      <td>7</td>\n",
       "      <td>0</td>\n",
       "      <td>0.000000</td>\n",
       "      <td>26</td>\n",
       "      <td>0.230769</td>\n",
       "    </tr>\n",
       "    <tr>\n",
       "      <th>4504</th>\n",
       "      <td>4</td>\n",
       "      <td>4. change the line type of the grid lines</td>\n",
       "      <td>NaN</td>\n",
       "      <td>BM25</td>\n",
       "      <td>yticks</td>\n",
       "      <td>8</td>\n",
       "      <td>0</td>\n",
       "      <td>0.000000</td>\n",
       "      <td>26</td>\n",
       "      <td>0.269231</td>\n",
       "    </tr>\n",
       "    <tr>\n",
       "      <th>4505</th>\n",
       "      <td>4</td>\n",
       "      <td>4. change the line type of the grid lines</td>\n",
       "      <td>NaN</td>\n",
       "      <td>BM25</td>\n",
       "      <td>xticks</td>\n",
       "      <td>9</td>\n",
       "      <td>0</td>\n",
       "      <td>0.000000</td>\n",
       "      <td>26</td>\n",
       "      <td>0.307692</td>\n",
       "    </tr>\n",
       "    <tr>\n",
       "      <th>4506</th>\n",
       "      <td>4</td>\n",
       "      <td>4. change the line type of the grid lines</td>\n",
       "      <td>NaN</td>\n",
       "      <td>BM25</td>\n",
       "      <td>legend</td>\n",
       "      <td>10</td>\n",
       "      <td>0</td>\n",
       "      <td>0.000000</td>\n",
       "      <td>26</td>\n",
       "      <td>0.346154</td>\n",
       "    </tr>\n",
       "    <tr>\n",
       "      <th>4507</th>\n",
       "      <td>4</td>\n",
       "      <td>4. change the line type of the grid lines</td>\n",
       "      <td>NaN</td>\n",
       "      <td>BM25</td>\n",
       "      <td>get_frame</td>\n",
       "      <td>11</td>\n",
       "      <td>0</td>\n",
       "      <td>0.000000</td>\n",
       "      <td>26</td>\n",
       "      <td>0.384615</td>\n",
       "    </tr>\n",
       "    <tr>\n",
       "      <th>4508</th>\n",
       "      <td>4</td>\n",
       "      <td>4. change the line type of the grid lines</td>\n",
       "      <td>NaN</td>\n",
       "      <td>BM25</td>\n",
       "      <td>set_facecolor</td>\n",
       "      <td>12</td>\n",
       "      <td>0</td>\n",
       "      <td>0.000000</td>\n",
       "      <td>26</td>\n",
       "      <td>0.423077</td>\n",
       "    </tr>\n",
       "    <tr>\n",
       "      <th>4509</th>\n",
       "      <td>4</td>\n",
       "      <td>4. change the line type of the grid lines</td>\n",
       "      <td>NaN</td>\n",
       "      <td>BM25</td>\n",
       "      <td>set_edgecolor</td>\n",
       "      <td>13</td>\n",
       "      <td>0</td>\n",
       "      <td>0.000000</td>\n",
       "      <td>26</td>\n",
       "      <td>0.461538</td>\n",
       "    </tr>\n",
       "    <tr>\n",
       "      <th>4510</th>\n",
       "      <td>4</td>\n",
       "      <td>4. change the line type of the grid lines</td>\n",
       "      <td>NaN</td>\n",
       "      <td>BM25</td>\n",
       "      <td>grid</td>\n",
       "      <td>14</td>\n",
       "      <td>1</td>\n",
       "      <td>0.000000</td>\n",
       "      <td>26</td>\n",
       "      <td>0.500000</td>\n",
       "    </tr>\n",
       "    <tr>\n",
       "      <th>4511</th>\n",
       "      <td>4</td>\n",
       "      <td>4. change the line type of the grid lines</td>\n",
       "      <td>NaN</td>\n",
       "      <td>BM25</td>\n",
       "      <td>xlim</td>\n",
       "      <td>15</td>\n",
       "      <td>0</td>\n",
       "      <td>0.000000</td>\n",
       "      <td>26</td>\n",
       "      <td>0.538462</td>\n",
       "    </tr>\n",
       "    <tr>\n",
       "      <th>4512</th>\n",
       "      <td>4</td>\n",
       "      <td>4. change the line type of the grid lines</td>\n",
       "      <td>NaN</td>\n",
       "      <td>BM25</td>\n",
       "      <td>ylim</td>\n",
       "      <td>16</td>\n",
       "      <td>0</td>\n",
       "      <td>0.000000</td>\n",
       "      <td>26</td>\n",
       "      <td>0.576923</td>\n",
       "    </tr>\n",
       "    <tr>\n",
       "      <th>4513</th>\n",
       "      <td>4</td>\n",
       "      <td>4. change the line type of the grid lines</td>\n",
       "      <td>NaN</td>\n",
       "      <td>BM25</td>\n",
       "      <td>set_visible</td>\n",
       "      <td>17</td>\n",
       "      <td>0</td>\n",
       "      <td>0.000000</td>\n",
       "      <td>26</td>\n",
       "      <td>0.615385</td>\n",
       "    </tr>\n",
       "    <tr>\n",
       "      <th>4514</th>\n",
       "      <td>4</td>\n",
       "      <td>4. change the line type of the grid lines</td>\n",
       "      <td>NaN</td>\n",
       "      <td>BM25</td>\n",
       "      <td>set_visible</td>\n",
       "      <td>18</td>\n",
       "      <td>0</td>\n",
       "      <td>0.000000</td>\n",
       "      <td>26</td>\n",
       "      <td>0.653846</td>\n",
       "    </tr>\n",
       "    <tr>\n",
       "      <th>4515</th>\n",
       "      <td>4</td>\n",
       "      <td>4. change the line type of the grid lines</td>\n",
       "      <td>NaN</td>\n",
       "      <td>BM25</td>\n",
       "      <td>tick_bottom</td>\n",
       "      <td>19</td>\n",
       "      <td>0</td>\n",
       "      <td>0.000000</td>\n",
       "      <td>26</td>\n",
       "      <td>0.692308</td>\n",
       "    </tr>\n",
       "    <tr>\n",
       "      <th>4516</th>\n",
       "      <td>4</td>\n",
       "      <td>4. change the line type of the grid lines</td>\n",
       "      <td>NaN</td>\n",
       "      <td>BM25</td>\n",
       "      <td>tick_left</td>\n",
       "      <td>20</td>\n",
       "      <td>0</td>\n",
       "      <td>0.000000</td>\n",
       "      <td>26</td>\n",
       "      <td>0.730769</td>\n",
       "    </tr>\n",
       "    <tr>\n",
       "      <th>4517</th>\n",
       "      <td>4</td>\n",
       "      <td>4. change the line type of the grid lines</td>\n",
       "      <td>NaN</td>\n",
       "      <td>BM25</td>\n",
       "      <td>get_major_ticks</td>\n",
       "      <td>21</td>\n",
       "      <td>0</td>\n",
       "      <td>0.000000</td>\n",
       "      <td>26</td>\n",
       "      <td>0.769231</td>\n",
       "    </tr>\n",
       "    <tr>\n",
       "      <th>4518</th>\n",
       "      <td>4</td>\n",
       "      <td>4. change the line type of the grid lines</td>\n",
       "      <td>NaN</td>\n",
       "      <td>BM25</td>\n",
       "      <td>set_linewidth</td>\n",
       "      <td>22</td>\n",
       "      <td>0</td>\n",
       "      <td>0.000000</td>\n",
       "      <td>26</td>\n",
       "      <td>0.807692</td>\n",
       "    </tr>\n",
       "    <tr>\n",
       "      <th>4519</th>\n",
       "      <td>4</td>\n",
       "      <td>4. change the line type of the grid lines</td>\n",
       "      <td>NaN</td>\n",
       "      <td>BM25</td>\n",
       "      <td>set_color</td>\n",
       "      <td>23</td>\n",
       "      <td>0</td>\n",
       "      <td>0.000000</td>\n",
       "      <td>26</td>\n",
       "      <td>0.846154</td>\n",
       "    </tr>\n",
       "    <tr>\n",
       "      <th>4520</th>\n",
       "      <td>4</td>\n",
       "      <td>4. change the line type of the grid lines</td>\n",
       "      <td>NaN</td>\n",
       "      <td>BM25</td>\n",
       "      <td>set_linewidth</td>\n",
       "      <td>24</td>\n",
       "      <td>0</td>\n",
       "      <td>0.000000</td>\n",
       "      <td>26</td>\n",
       "      <td>0.884615</td>\n",
       "    </tr>\n",
       "    <tr>\n",
       "      <th>4521</th>\n",
       "      <td>4</td>\n",
       "      <td>4. change the line type of the grid lines</td>\n",
       "      <td>NaN</td>\n",
       "      <td>BM25</td>\n",
       "      <td>set_color</td>\n",
       "      <td>25</td>\n",
       "      <td>0</td>\n",
       "      <td>0.000000</td>\n",
       "      <td>26</td>\n",
       "      <td>0.923077</td>\n",
       "    </tr>\n",
       "    <tr>\n",
       "      <th>4522</th>\n",
       "      <td>4</td>\n",
       "      <td>4. change the line type of the grid lines</td>\n",
       "      <td>NaN</td>\n",
       "      <td>BM25</td>\n",
       "      <td>set_tick_params</td>\n",
       "      <td>26</td>\n",
       "      <td>0</td>\n",
       "      <td>0.000000</td>\n",
       "      <td>26</td>\n",
       "      <td>0.961538</td>\n",
       "    </tr>\n",
       "  </tbody>\n",
       "</table>\n",
       "</div>"
      ],
      "text/plain": [
       "      code_sample_idx                                      query func  \\\n",
       "4497                4  4. change the line type of the grid lines  NaN   \n",
       "4498                4  4. change the line type of the grid lines  NaN   \n",
       "4499                4  4. change the line type of the grid lines  NaN   \n",
       "4500                4  4. change the line type of the grid lines  NaN   \n",
       "4501                4  4. change the line type of the grid lines  NaN   \n",
       "4502                4  4. change the line type of the grid lines  NaN   \n",
       "4503                4  4. change the line type of the grid lines  NaN   \n",
       "4504                4  4. change the line type of the grid lines  NaN   \n",
       "4505                4  4. change the line type of the grid lines  NaN   \n",
       "4506                4  4. change the line type of the grid lines  NaN   \n",
       "4507                4  4. change the line type of the grid lines  NaN   \n",
       "4508                4  4. change the line type of the grid lines  NaN   \n",
       "4509                4  4. change the line type of the grid lines  NaN   \n",
       "4510                4  4. change the line type of the grid lines  NaN   \n",
       "4511                4  4. change the line type of the grid lines  NaN   \n",
       "4512                4  4. change the line type of the grid lines  NaN   \n",
       "4513                4  4. change the line type of the grid lines  NaN   \n",
       "4514                4  4. change the line type of the grid lines  NaN   \n",
       "4515                4  4. change the line type of the grid lines  NaN   \n",
       "4516                4  4. change the line type of the grid lines  NaN   \n",
       "4517                4  4. change the line type of the grid lines  NaN   \n",
       "4518                4  4. change the line type of the grid lines  NaN   \n",
       "4519                4  4. change the line type of the grid lines  NaN   \n",
       "4520                4  4. change the line type of the grid lines  NaN   \n",
       "4521                4  4. change the line type of the grid lines  NaN   \n",
       "4522                4  4. change the line type of the grid lines  NaN   \n",
       "\n",
       "     baseline        candidate  rank  is_gt      score  num_alt     prank  \n",
       "4497     BM25             grid     1      1  16.669619       26  0.000000  \n",
       "4498     BM25             plot     2      0  13.021258       26  0.038462  \n",
       "4499     BM25      tick_params     3      0   7.444959       26  0.076923  \n",
       "4500     BM25           figure     4      0   0.000000       26  0.115385  \n",
       "4501     BM25             plot     5      0   0.000000       26  0.153846  \n",
       "4502     BM25           xlabel     6      0   0.000000       26  0.192308  \n",
       "4503     BM25           ylabel     7      0   0.000000       26  0.230769  \n",
       "4504     BM25           yticks     8      0   0.000000       26  0.269231  \n",
       "4505     BM25           xticks     9      0   0.000000       26  0.307692  \n",
       "4506     BM25           legend    10      0   0.000000       26  0.346154  \n",
       "4507     BM25        get_frame    11      0   0.000000       26  0.384615  \n",
       "4508     BM25    set_facecolor    12      0   0.000000       26  0.423077  \n",
       "4509     BM25    set_edgecolor    13      0   0.000000       26  0.461538  \n",
       "4510     BM25             grid    14      1   0.000000       26  0.500000  \n",
       "4511     BM25             xlim    15      0   0.000000       26  0.538462  \n",
       "4512     BM25             ylim    16      0   0.000000       26  0.576923  \n",
       "4513     BM25      set_visible    17      0   0.000000       26  0.615385  \n",
       "4514     BM25      set_visible    18      0   0.000000       26  0.653846  \n",
       "4515     BM25      tick_bottom    19      0   0.000000       26  0.692308  \n",
       "4516     BM25        tick_left    20      0   0.000000       26  0.730769  \n",
       "4517     BM25  get_major_ticks    21      0   0.000000       26  0.769231  \n",
       "4518     BM25    set_linewidth    22      0   0.000000       26  0.807692  \n",
       "4519     BM25        set_color    23      0   0.000000       26  0.846154  \n",
       "4520     BM25    set_linewidth    24      0   0.000000       26  0.884615  \n",
       "4521     BM25        set_color    25      0   0.000000       26  0.923077  \n",
       "4522     BM25  set_tick_params    26      0   0.000000       26  0.961538  "
      ]
     },
     "execution_count": 129,
     "metadata": {},
     "output_type": "execute_result"
    }
   ],
   "source": [
    "df[df.func.isnull() \n",
    "   & (df.baseline=='BM25') \n",
    "   & (df['query'] == '4. change the line type of the grid lines')]"
   ]
  },
  {
   "cell_type": "code",
   "execution_count": 132,
   "metadata": {
    "collapsed": false
   },
   "outputs": [
    {
     "data": {
      "text/html": [
       "<div>\n",
       "<table border=\"1\" class=\"dataframe\">\n",
       "  <thead>\n",
       "    <tr style=\"text-align: right;\">\n",
       "      <th></th>\n",
       "      <th>candidate</th>\n",
       "      <th>rank</th>\n",
       "      <th>score</th>\n",
       "      <th>is_gt</th>\n",
       "    </tr>\n",
       "  </thead>\n",
       "  <tbody>\n",
       "    <tr>\n",
       "      <th>4679</th>\n",
       "      <td>ylabel</td>\n",
       "      <td>1</td>\n",
       "      <td>0.692657</td>\n",
       "      <td>0</td>\n",
       "    </tr>\n",
       "    <tr>\n",
       "      <th>4680</th>\n",
       "      <td>xlabel</td>\n",
       "      <td>2</td>\n",
       "      <td>0.683854</td>\n",
       "      <td>0</td>\n",
       "    </tr>\n",
       "    <tr>\n",
       "      <th>4681</th>\n",
       "      <td>set_facecolor</td>\n",
       "      <td>3</td>\n",
       "      <td>0.682159</td>\n",
       "      <td>0</td>\n",
       "    </tr>\n",
       "    <tr>\n",
       "      <th>4682</th>\n",
       "      <td>set_edgecolor</td>\n",
       "      <td>4</td>\n",
       "      <td>0.682159</td>\n",
       "      <td>0</td>\n",
       "    </tr>\n",
       "    <tr>\n",
       "      <th>4683</th>\n",
       "      <td>set_color</td>\n",
       "      <td>5</td>\n",
       "      <td>0.668132</td>\n",
       "      <td>0</td>\n",
       "    </tr>\n",
       "    <tr>\n",
       "      <th>4684</th>\n",
       "      <td>set_color</td>\n",
       "      <td>6</td>\n",
       "      <td>0.668132</td>\n",
       "      <td>0</td>\n",
       "    </tr>\n",
       "    <tr>\n",
       "      <th>4685</th>\n",
       "      <td>get_frame</td>\n",
       "      <td>7</td>\n",
       "      <td>0.662700</td>\n",
       "      <td>0</td>\n",
       "    </tr>\n",
       "    <tr>\n",
       "      <th>4686</th>\n",
       "      <td>xlim</td>\n",
       "      <td>8</td>\n",
       "      <td>0.662556</td>\n",
       "      <td>0</td>\n",
       "    </tr>\n",
       "    <tr>\n",
       "      <th>4687</th>\n",
       "      <td>plot</td>\n",
       "      <td>9</td>\n",
       "      <td>0.642130</td>\n",
       "      <td>0</td>\n",
       "    </tr>\n",
       "    <tr>\n",
       "      <th>4688</th>\n",
       "      <td>plot</td>\n",
       "      <td>10</td>\n",
       "      <td>0.642130</td>\n",
       "      <td>0</td>\n",
       "    </tr>\n",
       "    <tr>\n",
       "      <th>4689</th>\n",
       "      <td>tick_params</td>\n",
       "      <td>11</td>\n",
       "      <td>0.638997</td>\n",
       "      <td>0</td>\n",
       "    </tr>\n",
       "    <tr>\n",
       "      <th>4690</th>\n",
       "      <td>ylim</td>\n",
       "      <td>12</td>\n",
       "      <td>0.635259</td>\n",
       "      <td>0</td>\n",
       "    </tr>\n",
       "    <tr>\n",
       "      <th>4691</th>\n",
       "      <td>yticks</td>\n",
       "      <td>13</td>\n",
       "      <td>0.622061</td>\n",
       "      <td>0</td>\n",
       "    </tr>\n",
       "    <tr>\n",
       "      <th>4692</th>\n",
       "      <td>xticks</td>\n",
       "      <td>14</td>\n",
       "      <td>0.614575</td>\n",
       "      <td>0</td>\n",
       "    </tr>\n",
       "    <tr>\n",
       "      <th>4693</th>\n",
       "      <td>set_visible</td>\n",
       "      <td>15</td>\n",
       "      <td>0.600805</td>\n",
       "      <td>0</td>\n",
       "    </tr>\n",
       "    <tr>\n",
       "      <th>4694</th>\n",
       "      <td>set_visible</td>\n",
       "      <td>16</td>\n",
       "      <td>0.600805</td>\n",
       "      <td>0</td>\n",
       "    </tr>\n",
       "    <tr>\n",
       "      <th>4695</th>\n",
       "      <td>set_linewidth</td>\n",
       "      <td>17</td>\n",
       "      <td>0.571858</td>\n",
       "      <td>0</td>\n",
       "    </tr>\n",
       "    <tr>\n",
       "      <th>4696</th>\n",
       "      <td>set_linewidth</td>\n",
       "      <td>18</td>\n",
       "      <td>0.571858</td>\n",
       "      <td>0</td>\n",
       "    </tr>\n",
       "    <tr>\n",
       "      <th>4697</th>\n",
       "      <td>legend</td>\n",
       "      <td>19</td>\n",
       "      <td>0.567531</td>\n",
       "      <td>0</td>\n",
       "    </tr>\n",
       "    <tr>\n",
       "      <th>4698</th>\n",
       "      <td>grid</td>\n",
       "      <td>20</td>\n",
       "      <td>0.487357</td>\n",
       "      <td>1</td>\n",
       "    </tr>\n",
       "    <tr>\n",
       "      <th>4699</th>\n",
       "      <td>grid</td>\n",
       "      <td>21</td>\n",
       "      <td>0.487357</td>\n",
       "      <td>1</td>\n",
       "    </tr>\n",
       "    <tr>\n",
       "      <th>4700</th>\n",
       "      <td>get_major_ticks</td>\n",
       "      <td>22</td>\n",
       "      <td>0.437795</td>\n",
       "      <td>0</td>\n",
       "    </tr>\n",
       "    <tr>\n",
       "      <th>4701</th>\n",
       "      <td>set_tick_params</td>\n",
       "      <td>23</td>\n",
       "      <td>0.377062</td>\n",
       "      <td>0</td>\n",
       "    </tr>\n",
       "    <tr>\n",
       "      <th>4702</th>\n",
       "      <td>figure</td>\n",
       "      <td>24</td>\n",
       "      <td>0.354035</td>\n",
       "      <td>0</td>\n",
       "    </tr>\n",
       "    <tr>\n",
       "      <th>4703</th>\n",
       "      <td>tick_bottom</td>\n",
       "      <td>25</td>\n",
       "      <td>0.342970</td>\n",
       "      <td>0</td>\n",
       "    </tr>\n",
       "    <tr>\n",
       "      <th>4704</th>\n",
       "      <td>tick_left</td>\n",
       "      <td>26</td>\n",
       "      <td>0.329154</td>\n",
       "      <td>0</td>\n",
       "    </tr>\n",
       "  </tbody>\n",
       "</table>\n",
       "</div>"
      ],
      "text/plain": [
       "            candidate  rank     score  is_gt\n",
       "4679           ylabel     1  0.692657      0\n",
       "4680           xlabel     2  0.683854      0\n",
       "4681    set_facecolor     3  0.682159      0\n",
       "4682    set_edgecolor     4  0.682159      0\n",
       "4683        set_color     5  0.668132      0\n",
       "4684        set_color     6  0.668132      0\n",
       "4685        get_frame     7  0.662700      0\n",
       "4686             xlim     8  0.662556      0\n",
       "4687             plot     9  0.642130      0\n",
       "4688             plot    10  0.642130      0\n",
       "4689      tick_params    11  0.638997      0\n",
       "4690             ylim    12  0.635259      0\n",
       "4691           yticks    13  0.622061      0\n",
       "4692           xticks    14  0.614575      0\n",
       "4693      set_visible    15  0.600805      0\n",
       "4694      set_visible    16  0.600805      0\n",
       "4695    set_linewidth    17  0.571858      0\n",
       "4696    set_linewidth    18  0.571858      0\n",
       "4697           legend    19  0.567531      0\n",
       "4698             grid    20  0.487357      1\n",
       "4699             grid    21  0.487357      1\n",
       "4700  get_major_ticks    22  0.437795      0\n",
       "4701  set_tick_params    23  0.377062      0\n",
       "4702           figure    24  0.354035      0\n",
       "4703      tick_bottom    25  0.342970      0\n",
       "4704        tick_left    26  0.329154      0"
      ]
     },
     "execution_count": 132,
     "metadata": {},
     "output_type": "execute_result"
    }
   ],
   "source": [
    "df[df.func.isnull() \n",
    "   & (df.baseline=='vectors-so-text-python-5gram.bin_func_as_seq') \n",
    "   & (df['query'] == '4. change the line type of the grid lines')][['candidate','rank','score','is_gt']]"
   ]
  },
  {
   "cell_type": "code",
   "execution_count": 134,
   "metadata": {
    "collapsed": false
   },
   "outputs": [
    {
     "data": {
      "text/plain": [
       "['set', 'the', 'y_axis', 'label', 'of', 'the', 'current_axis', '.']"
      ]
     },
     "execution_count": 134,
     "metadata": {},
     "output_type": "execute_result"
    }
   ],
   "source": [
    "[w2v.model.index2word[x] for x in w2v.get_word_indexes(fu['ylabel'])]"
   ]
  },
  {
   "cell_type": "code",
   "execution_count": 135,
   "metadata": {
    "collapsed": false
   },
   "outputs": [
    {
     "data": {
      "text/plain": [
       "['turn', 'the', 'axes', 'grids', 'on', 'or', 'off', '.']"
      ]
     },
     "execution_count": 135,
     "metadata": {},
     "output_type": "execute_result"
    }
   ],
   "source": [
    "[w2v.model.index2word[x] for x in w2v.get_word_indexes(fu['grid'])]"
   ]
  },
  {
   "cell_type": "code",
   "execution_count": 136,
   "metadata": {
    "collapsed": false
   },
   "outputs": [
    {
     "data": {
      "text/plain": [
       "['change', 'the', 'line', 'type_of', 'the', 'grid_lines']"
      ]
     },
     "execution_count": 136,
     "metadata": {},
     "output_type": "execute_result"
    }
   ],
   "source": [
    "[w2v.model.index2word[x] for x in w2v.get_word_indexes(\n",
    "        'change the line type of the grid lines')]"
   ]
  },
  {
   "cell_type": "code",
   "execution_count": 137,
   "metadata": {
    "collapsed": false
   },
   "outputs": [
    {
     "data": {
      "text/plain": [
       "['change', 'the', 'line', 'type', 'of', 'the', 'grid', 'lines']"
      ]
     },
     "execution_count": 137,
     "metadata": {},
     "output_type": "execute_result"
    }
   ],
   "source": [
    "[w2v1g.model.index2word[x] for x in w2v1g.get_word_indexes(\n",
    "        'change the line type of the grid lines')]"
   ]
  },
  {
   "cell_type": "code",
   "execution_count": 138,
   "metadata": {
    "collapsed": false
   },
   "outputs": [
    {
     "data": {
      "text/plain": [
       "0.44803807"
      ]
     },
     "execution_count": 138,
     "metadata": {},
     "output_type": "execute_result"
    }
   ],
   "source": [
    "np.dot(w2v.f_vecmat[w2v.func_lookup['grid']],\n",
    "       w2v.get_bow_representation('change the line type of the grid lines').T)"
   ]
  },
  {
   "cell_type": "code",
   "execution_count": 139,
   "metadata": {
    "collapsed": false
   },
   "outputs": [
    {
     "data": {
      "text/plain": [
       "0.75544059"
      ]
     },
     "execution_count": 139,
     "metadata": {},
     "output_type": "execute_result"
    }
   ],
   "source": [
    "np.dot(w2v.f_vecmat[w2v.func_lookup['ylabel']],\n",
    "       w2v.get_bow_representation('change the line type of the grid lines').T)"
   ]
  },
  {
   "cell_type": "code",
   "execution_count": 278,
   "metadata": {
    "collapsed": true
   },
   "outputs": [],
   "source": [
    "from collections import defaultdict\n",
    "import numpy as np\n",
    "from __future__ import division\n",
    "def get_idf(w2vb, documents):\n",
    "    \"\"\"\n",
    "    Get inverse document frequency based on a given vocabulary and a given\n",
    "    corpus (`documents`). For words in the vocabulary that are unseen in the\n",
    "    given corpus, assign an IDF of 5.\n",
    "    \n",
    "    w2vb: Word2vecBaseline\n",
    "    documents: a list of strings.\n",
    "\n",
    "    Returns a list of docfreqs. Indexed by word index.\n",
    "    \n",
    "    \"\"\"\n",
    "    counts = [0] * len(w2vb.model.index2word)\n",
    "    num_doc = len(documents)\n",
    "    for doc in documents:\n",
    "        word_idxs = set(w2vb.get_word_indexes(doc))\n",
    "        for wi in word_idxs:\n",
    "            counts[wi] += 1\n",
    "    idfs = []\n",
    "    for i in xrange(len(counts)):\n",
    "        if counts[i] > 0:\n",
    "            idfs.append(np.log(num_doc / counts[i]))\n",
    "        else:\n",
    "            # tricky !!!\n",
    "            idfs.append(5)\n",
    "    return idfs"
   ]
  },
  {
   "cell_type": "code",
   "execution_count": 279,
   "metadata": {
    "collapsed": false
   },
   "outputs": [],
   "source": [
    "fu_idf = get_idf(w2v, fu.values())"
   ]
  },
  {
   "cell_type": "code",
   "execution_count": 280,
   "metadata": {
    "collapsed": false
   },
   "outputs": [
    {
     "data": {
      "text/plain": [
       "0.41059332447508384"
      ]
     },
     "execution_count": 280,
     "metadata": {},
     "output_type": "execute_result"
    }
   ],
   "source": [
    "fu_idf[w2v.model.vocab['the'].index]"
   ]
  },
  {
   "cell_type": "code",
   "execution_count": 281,
   "metadata": {
    "collapsed": false
   },
   "outputs": [
    {
     "data": {
      "text/plain": [
       "4.8700952713172558"
      ]
     },
     "execution_count": 281,
     "metadata": {},
     "output_type": "execute_result"
    }
   ],
   "source": [
    "fu_idf[w2v.model.vocab['grid'].index]"
   ]
  },
  {
   "cell_type": "code",
   "execution_count": 282,
   "metadata": {
    "collapsed": false
   },
   "outputs": [
    {
     "data": {
      "text/plain": [
       "7.0673198486534758"
      ]
     },
     "execution_count": 282,
     "metadata": {},
     "output_type": "execute_result"
    }
   ],
   "source": [
    "fu_idf[w2v.model.vocab['grids'].index]"
   ]
  },
  {
   "cell_type": "code",
   "execution_count": 327,
   "metadata": {
    "collapsed": true
   },
   "outputs": [],
   "source": [
    "from gensim import matutils\n",
    "from numpy import float32 as REAL\n",
    "def get_wbow_representation(w2vb, query, idfs):\n",
    "    \"\"\"\n",
    "    Get weighted bag-of-word representation.\n",
    "    \"\"\"\n",
    "    idxs = w2vb.get_word_indexes(query)    \n",
    "    \n",
    "    # tricky !!!\n",
    "    idxs = list(set(idxs))\n",
    "    \n",
    "    idf_weights = [idfs[x] for x in idxs]\n",
    "\n",
    "    # tricky !!!\n",
    "    idf_weights = map(lambda x: x if x > 2 else 0, idf_weights)\n",
    "        \n",
    "    idf_weights = np.array(idf_weights).reshape((1,-1))\n",
    "    raw_vecs = w2vb.model.syn0norm[idxs]\n",
    "    weighted_sum = np.dot(idf_weights, raw_vecs)\n",
    "    \n",
    "    weighted_average = (weighted_sum / len(idxs))[0]\n",
    "    return matutils.unitvec(weighted_average).astype(REAL)"
   ]
  },
  {
   "cell_type": "code",
   "execution_count": 328,
   "metadata": {
    "collapsed": false
   },
   "outputs": [
    {
     "data": {
      "text/plain": [
       "0.35707831"
      ]
     },
     "execution_count": 328,
     "metadata": {},
     "output_type": "execute_result"
    }
   ],
   "source": [
    "np.dot(get_wbow_representation(w2v1g, fu['grid'] + ' grid', fu_idf),\n",
    "       get_wbow_representation(w2v1g, 'change the line type of the grids lines', fu_idf).T)"
   ]
  },
  {
   "cell_type": "code",
   "execution_count": 329,
   "metadata": {
    "collapsed": false
   },
   "outputs": [
    {
     "data": {
      "text/plain": [
       "0.30755258"
      ]
     },
     "execution_count": 329,
     "metadata": {},
     "output_type": "execute_result"
    }
   ],
   "source": [
    "np.dot(get_wbow_representation(w2v1g, fu['ylabel'] + 'ylabel', fu_idf),\n",
    "       get_wbow_representation(w2v1g, 'change the line type of the grid lines', fu_idf).T)"
   ]
  },
  {
   "cell_type": "code",
   "execution_count": 330,
   "metadata": {
    "collapsed": false
   },
   "outputs": [
    {
     "data": {
      "text/plain": [
       "0.71447825"
      ]
     },
     "execution_count": 330,
     "metadata": {},
     "output_type": "execute_result"
    }
   ],
   "source": [
    "np.dot(get_wbow_representation(w2v1g, fu['bar'] + ' bar', fu_idf),\n",
    "       get_wbow_representation(w2v1g, 'set the color of the bar', fu_idf).T)"
   ]
  },
  {
   "cell_type": "code",
   "execution_count": 331,
   "metadata": {
    "collapsed": false
   },
   "outputs": [
    {
     "data": {
      "text/plain": [
       "0.27947184"
      ]
     },
     "execution_count": 331,
     "metadata": {},
     "output_type": "execute_result"
    }
   ],
   "source": [
    "np.dot(get_wbow_representation(w2v1g, fu['xlim'] + ' xlim', fu_idf),\n",
    "       get_wbow_representation(w2v1g, 'set the color of the bar', fu_idf).T)"
   ]
  },
  {
   "cell_type": "code",
   "execution_count": 332,
   "metadata": {
    "collapsed": false
   },
   "outputs": [
    {
     "data": {
      "text/plain": [
       "0.68353224"
      ]
     },
     "execution_count": 332,
     "metadata": {},
     "output_type": "execute_result"
    }
   ],
   "source": [
    "np.dot(get_wbow_representation(w2v1g, fu['xlim'] + ' xlim', fu_idf),\n",
    "       get_wbow_representation(w2v1g, 'set limit of the x axis', fu_idf).T)"
   ]
  },
  {
   "cell_type": "code",
   "execution_count": 333,
   "metadata": {
    "collapsed": true
   },
   "outputs": [],
   "source": [
    "def rank_funcs(self, query, funcs, idfs, parent=None):\n",
    "    query = query.lower()\n",
    "    self.model.init_sims()\n",
    "    q_vec = get_wbow_representation(self, query, idfs)\n",
    "    func_vecmat = np.zeros((len(funcs), self.model.vector_size))\n",
    "    for i, func in enumerate(funcs):\n",
    "      if self.bow:\n",
    "        if func in self.func_lookup:\n",
    "            func_idx = self.func_lookup[func]\n",
    "            # func_vecmat[i] += self.f_vecmat[func_idx]\n",
    "            # just a hack for now !!\n",
    "            func_vecmat[i] += get_wbow_representation(self, fu[func] + ' ' + func, idfs)            \n",
    "      else:\n",
    "        if func in self.model.vocab:\n",
    "          func_idx = self.model.vocab[func].index\n",
    "          func_vecmat[i] += self.model.syn0norm[func_idx]\n",
    "    scores = np.dot(q_vec, func_vecmat.T)\n",
    "    sorted_funcs = sorted(zip(funcs, scores), key=lambda x:x[1], reverse=True)\n",
    "    return sorted_funcs"
   ]
  },
  {
   "cell_type": "code",
   "execution_count": 335,
   "metadata": {
    "collapsed": false
   },
   "outputs": [
    {
     "data": {
      "text/plain": [
       "[('bar', 0.71447826364391664),\n",
       " ('get_cmap', 0.39936678608537962),\n",
       " ('set_hatch', 0.30898994330988427),\n",
       " ('set_width', 0.30643947060577925),\n",
       " ('xlim', 0.2794718537902971),\n",
       " ('set_label', 0.25195645835866876),\n",
       " ('xticks', 0.24134524387616996),\n",
       " ('legend', 0.19034130906618946),\n",
       " ('title', 0.14762024748808866)]"
      ]
     },
     "execution_count": 335,
     "metadata": {},
     "output_type": "execute_result"
    }
   ],
   "source": [
    "rank_funcs(w2v1g, 'set the color of the bar', funcs, fu_idf)"
   ]
  },
  {
   "cell_type": "code",
   "execution_count": 336,
   "metadata": {
    "collapsed": false
   },
   "outputs": [
    {
     "data": {
      "text/plain": [
       "['ylabel',\n",
       " 'xlabel',\n",
       " 'set_facecolor',\n",
       " 'set_edgecolor',\n",
       " 'set_color',\n",
       " 'set_color',\n",
       " 'get_frame',\n",
       " 'xlim',\n",
       " 'plot',\n",
       " 'plot',\n",
       " 'tick_params',\n",
       " 'ylim',\n",
       " 'yticks',\n",
       " 'xticks',\n",
       " 'set_visible',\n",
       " 'set_visible',\n",
       " 'set_linewidth',\n",
       " 'set_linewidth',\n",
       " 'legend',\n",
       " 'grid',\n",
       " 'grid',\n",
       " 'get_major_ticks',\n",
       " 'set_tick_params',\n",
       " 'figure',\n",
       " 'tick_bottom',\n",
       " 'tick_left']"
      ]
     },
     "execution_count": 336,
     "metadata": {},
     "output_type": "execute_result"
    }
   ],
   "source": [
    "funcs2 = \\\n",
    "df[df.func.isnull() \n",
    "   & (df.baseline=='vectors-so-text-python-5gram.bin_func_as_seq') \n",
    "   & (df['query'] == '4. change the line type of the grid lines')].candidate.tolist()\n",
    "funcs2"
   ]
  },
  {
   "cell_type": "code",
   "execution_count": 342,
   "metadata": {
    "collapsed": false,
    "scrolled": false
   },
   "outputs": [
    {
     "data": {
      "text/plain": [
       "[('grid', 0.57137202715809043),\n",
       " ('grid', 0.57137202715809043),\n",
       " ('tick_params', 0.47393493532999931),\n",
       " ('plot', 0.35056293127860066),\n",
       " ('plot', 0.35056293127860066),\n",
       " ('yticks', 0.34948199292200871),\n",
       " ('ylabel', 0.32424611090492689),\n",
       " ('xlim', 0.31669246779172988),\n",
       " ('set_tick_params', 0.31562792870824641),\n",
       " ('set_color', 0.31159913345524942),\n",
       " ('set_color', 0.31159913345524942),\n",
       " ('xticks', 0.31135721308500797),\n",
       " ('xlabel', 0.30599665067096427),\n",
       " ('legend', 0.27253563456304458),\n",
       " ('tick_left', 0.26955031641372623),\n",
       " ('tick_bottom', 0.26424612065660863),\n",
       " ('ylim', 0.26356709270313328),\n",
       " ('get_frame', 0.1709388094644303),\n",
       " ('figure', 0.14614811842902958),\n",
       " ('get_major_ticks', 0.084275152931388694),\n",
       " ('set_visible', 0.017256266856496727),\n",
       " ('set_visible', 0.017256266856496727),\n",
       " ('set_facecolor', -0.047732372848420815),\n",
       " ('set_edgecolor', -0.047732372848420815),\n",
       " ('set_linewidth', -0.068463525759748109),\n",
       " ('set_linewidth', -0.068463525759748109)]"
      ]
     },
     "execution_count": 342,
     "metadata": {},
     "output_type": "execute_result"
    }
   ],
   "source": [
    "rank_funcs(w2v1g, 'change the grids', funcs2, fu_idf)"
   ]
  }
 ],
 "metadata": {
  "kernelspec": {
   "display_name": "Python 2",
   "language": "python",
   "name": "python2"
  },
  "language_info": {
   "codemirror_mode": {
    "name": "ipython",
    "version": 2
   },
   "file_extension": ".py",
   "mimetype": "text/x-python",
   "name": "python",
   "nbconvert_exporter": "python",
   "pygments_lexer": "ipython2",
   "version": "2.7.11"
  }
 },
 "nbformat": 4,
 "nbformat_minor": 0
}

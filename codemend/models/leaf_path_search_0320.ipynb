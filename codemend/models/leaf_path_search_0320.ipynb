{
 "cells": [
  {
   "cell_type": "markdown",
   "metadata": {},
   "source": [
    "# NL-to-Leaf-Path Search\n",
    "Treating each root-to-leaf path on AST as a unit. Make these units searchable (by converting them to vectors)."
   ]
  },
  {
   "cell_type": "code",
   "execution_count": 1,
   "metadata": {
    "collapsed": true
   },
   "outputs": [],
   "source": [
    "from codemend import BackupHandler, relative_path\n",
    "from codemend.models.annotate_code_with_api import get_fu_fau"
   ]
  },
  {
   "cell_type": "code",
   "execution_count": 2,
   "metadata": {
    "collapsed": true
   },
   "outputs": [],
   "source": [
    "fu,fau = get_fu_fau()"
   ]
  },
  {
   "cell_type": "code",
   "execution_count": 3,
   "metadata": {
    "collapsed": false
   },
   "outputs": [
    {
     "name": "stdout",
     "output_type": "stream",
     "text": [
      "Restored from /Users/ronxin/Dropbox/git/codemend/codemend/demo/data/element_index.pickle\n"
     ]
    }
   ],
   "source": [
    "bh2 = BackupHandler(relative_path('demo/data'))\n",
    "element_index = bh2.load('element_index')"
   ]
  },
  {
   "cell_type": "code",
   "execution_count": 4,
   "metadata": {
    "collapsed": false
   },
   "outputs": [
    {
     "data": {
      "text/plain": [
       "9060"
      ]
     },
     "execution_count": 4,
     "metadata": {},
     "output_type": "execute_result"
    }
   ],
   "source": [
    "len(element_index)"
   ]
  },
  {
   "cell_type": "code",
   "execution_count": 5,
   "metadata": {
    "collapsed": false
   },
   "outputs": [
    {
     "data": {
      "text/plain": [
       "3628"
      ]
     },
     "execution_count": 5,
     "metadata": {},
     "output_type": "execute_result"
    }
   ],
   "source": [
    "fav_keys = filter(lambda x:len(x) == 3, element_index.keys())\n",
    "len(fav_keys)"
   ]
  },
  {
   "cell_type": "markdown",
   "metadata": {},
   "source": [
    "### Generate Text Representation for Each Root-to-Leaf Path\n",
    "\n",
    "Naive strategy: simply concatenating docstrings (and repr strings of values)\n",
    "\n",
    "**Alternative**: just use `fa` instead of `fav`  (but still based on real usage)"
   ]
  },
  {
   "cell_type": "code",
   "execution_count": 6,
   "metadata": {
    "collapsed": false
   },
   "outputs": [],
   "source": [
    "favu = []  # (f,a,v,u)\n",
    "for f,a,v in fav_keys:\n",
    "    u_f = fu[f] if f in fu else ''\n",
    "    u_a = fau[f,a] if (f,a) in fau else ''\n",
    "    assert isinstance(v, basestring)\n",
    "    u_v = v\n",
    "    u_cat = ' '.join((u_f, u_a, u_v))\n",
    "    favu.append((f,a,v,u_cat))"
   ]
  },
  {
   "cell_type": "code",
   "execution_count": 7,
   "metadata": {
    "collapsed": false
   },
   "outputs": [
    {
     "data": {
      "text/plain": [
       "3628"
      ]
     },
     "execution_count": 7,
     "metadata": {},
     "output_type": "execute_result"
    }
   ],
   "source": [
    "len(favu)"
   ]
  },
  {
   "cell_type": "code",
   "execution_count": 8,
   "metadata": {
    "collapsed": true
   },
   "outputs": [],
   "source": [
    "allelems_u = fu.items()+fau.items()+favu"
   ]
  },
  {
   "cell_type": "code",
   "execution_count": 9,
   "metadata": {
    "collapsed": false
   },
   "outputs": [
    {
     "data": {
      "text/plain": [
       "9056"
      ]
     },
     "execution_count": 9,
     "metadata": {},
     "output_type": "execute_result"
    }
   ],
   "source": [
    "len(allelems_u)"
   ]
  },
  {
   "cell_type": "code",
   "execution_count": 10,
   "metadata": {
    "collapsed": true
   },
   "outputs": [],
   "source": [
    "f_u = {}\n",
    "for f in fu:\n",
    "    f_u[f] = fu[f] + ' ' + f"
   ]
  },
  {
   "cell_type": "code",
   "execution_count": 11,
   "metadata": {
    "collapsed": true
   },
   "outputs": [],
   "source": [
    "fa_catu = {}\n",
    "for f,a in fau:\n",
    "    if f in fu:\n",
    "        fa_catu[f,a] = fu[f] + ' ' + fau[f,a] + ' ' + f + ' ' + a\n",
    "    else:\n",
    "        fa_catu[f,a] = fau[f,a] + ' ' + f + ' ' + a"
   ]
  },
  {
   "cell_type": "code",
   "execution_count": 12,
   "metadata": {
    "collapsed": false
   },
   "outputs": [
    {
     "data": {
      "text/plain": [
       "5428"
      ]
     },
     "execution_count": 12,
     "metadata": {},
     "output_type": "execute_result"
    }
   ],
   "source": [
    "twoelems_u = f_u.items() + [(x,y,z) for (x,y),z in fa_catu.items()]\n",
    "len(twoelems_u)"
   ]
  },
  {
   "cell_type": "markdown",
   "metadata": {},
   "source": [
    "Build vector representations of these strings"
   ]
  },
  {
   "cell_type": "code",
   "execution_count": 35,
   "metadata": {
    "collapsed": true
   },
   "outputs": [],
   "source": [
    "from __future__ import division\n",
    "from collections import defaultdict\n",
    "from gensim import matutils\n",
    "from gensim.models.word2vec import Word2Vec\n",
    "from numpy import float32 as REAL\n",
    "import numpy as np\n",
    "import pattern.en\n",
    "import pattern.vector\n",
    "import math\n",
    "import gensim\n",
    "from codemend.models.word2vec_util import load_gensim_from_binary_file\n",
    "from codemend.models.ngram_util import ngram_partition"
   ]
  },
  {
   "cell_type": "code",
   "execution_count": 17,
   "metadata": {
    "collapsed": false
   },
   "outputs": [
    {
     "name": "stderr",
     "output_type": "stream",
     "text": [
      "WARNING:gensim.models.word2vec:consider setting layer size to a multiple of 4 for greater performance\n"
     ]
    }
   ],
   "source": [
    "w2v_model = load_gensim_from_binary_file(relative_path('demo/data/vectors-flat-mpl-0205.bin'))"
   ]
  },
  {
   "cell_type": "code",
   "execution_count": 140,
   "metadata": {
    "collapsed": false
   },
   "outputs": [
    {
     "name": "stdout",
     "output_type": "stream",
     "text": [
      "Model intialized.\n"
     ]
    }
   ],
   "source": [
    "class PathVector:\n",
    "    def __init__(self, w2v_model, element_index, maxngram=1, any_u=None, use_lemma=False, dbg_ref=None):\n",
    "        self.maxngram = maxngram\n",
    "        self.use_lemma = use_lemma\n",
    "        self.element_index = element_index\n",
    "\n",
    "        if isinstance(w2v_model, basestring):\n",
    "            # it is a file name\n",
    "            self.model = load_gensim_from_binary_file(w2v_model)\n",
    "            self.model.filename = w2v_model.split('/')[-1]\n",
    "        else:\n",
    "            assert isinstance(w2v_model, gensim.models.word2vec.Word2Vec)\n",
    "            self.model = w2v_model\n",
    "\n",
    "        self.model.init_sims()  # normalize the vectors\n",
    "\n",
    "        if dbg_ref:\n",
    "            attrs = ['idfs', 'elems', 'elem_lookup', 'elem_u', 'elem_vecmat']\n",
    "            for att in attrs:\n",
    "                setattr(self, att, getattr(dbg_ref, att))\n",
    "        else:\n",
    "            print 'building any-utterance indexes...'\n",
    "\n",
    "            assert isinstance(any_u, list)\n",
    "\n",
    "            self.idfs = self.get_idf([x[-1] for x in any_u])\n",
    "            self.elems = [x[:-1] for x in any_u]\n",
    "            self.elem_lookup = dict((y,x) for (x,y) in enumerate(self.elems))\n",
    "            self.elem_u = dict((x[:-1],x[-1]) for x in any_u)\n",
    "\n",
    "            elem_vecs = []\n",
    "            for x in any_u:\n",
    "                elem = x[:-1]\n",
    "                u = x[-1]\n",
    "                v = self.get_bow_representation(' '.join(elem) + ' ' + u)\n",
    "                elem_vecs.append(v)\n",
    "            self.elem_vecmat = np.array(elem_vecs)\n",
    "            assert self.elem_vecmat.shape == (len(self.elems), self.model.vector_size)\n",
    "\n",
    "            print 'Finished building indexes.'\n",
    "\n",
    "        print 'Model intialized.'\n",
    "\n",
    "    def get_idf(self, documents):\n",
    "        \"\"\"\n",
    "        Get inverse document frequency based on a given vocabulary and a given\n",
    "        corpus (`documents`). For words in the vocabulary that are unseen in the\n",
    "        given corpus, assign an IDF of 5.\n",
    "\n",
    "        documents: a list of strings.\n",
    "\n",
    "        Returns a list of docfreqs. Indexed by word index.\n",
    "\n",
    "        \"\"\"\n",
    "        counts = [0] * len(self.model.index2word)\n",
    "        num_doc = len(documents)\n",
    "        for doc in documents:\n",
    "            word_idxs = set(self.get_word_indexes(doc))\n",
    "            for wi in word_idxs:\n",
    "                counts[wi] += 1\n",
    "        idfs = []\n",
    "        for i in xrange(len(counts)):\n",
    "            if counts[i] > 0:\n",
    "                idfs.append(np.log(num_doc / counts[i]))\n",
    "            else:\n",
    "                # tricky !!!\n",
    "                idfs.append(5)\n",
    "        return idfs\n",
    "    \n",
    "    def get_word_indexes(self, query):\n",
    "        \"\"\"\n",
    "        Input will be tokenized and matched against the given vocabulary.\n",
    "\n",
    "        If `maxngram` > 1, then n-gram partition is performed prior to matching.\n",
    "\n",
    "        TODO: considers removing stop words. The `ngram_partition` function\n",
    "        already supports this.\n",
    "        \"\"\"\n",
    "        tokens = tokenize(query)\n",
    "        if self.use_lemma:\n",
    "            tokens = map(lemma, tokens)\n",
    "        if self.maxngram > 1:\n",
    "            tokens_ngrams = ngram_partition(' '.join(tokens), self.model.vocab)\n",
    "            tokens = list(set(tokens) | set(tokens_ngrams))\n",
    "        idxs = [self.model.vocab[w].index for w in tokens if w in self.model.vocab]\n",
    "        if not idxs:\n",
    "            idxs.append(0)  # the null word\n",
    "        return idxs\n",
    "\n",
    "    def get_bow_representation(self, query):\n",
    "        \"\"\"\n",
    "        Returns the mean vector.\n",
    "\n",
    "        Vectors are weighted by inverse document frequency.\n",
    "\n",
    "        \"\"\"\n",
    "        idxs = self.get_word_indexes(query)\n",
    "\n",
    "        if hasattr(self, 'idfs'):\n",
    "            idf_weights = [self.idfs[x] for x in idxs]\n",
    "\n",
    "            # tricky !!!  intention: stop word removal\n",
    "            idf_weights = map(lambda x: x if x > 2 else 0, idf_weights)\n",
    "        else:\n",
    "            assert not self.bow\n",
    "            idf_weights = [1] * len(idxs)\n",
    "\n",
    "        idf_weights = np.array(idf_weights).reshape((1,-1))\n",
    "        raw_vecs = self.model.syn0norm[idxs]\n",
    "        weighted_sum = np.dot(idf_weights, raw_vecs)\n",
    "\n",
    "        weighted_average = (weighted_sum / len(idxs))[0]\n",
    "        return matutils.unitvec(weighted_average).astype(REAL)\n",
    "\n",
    "    def find_nearest_favu(self, query, N=10):\n",
    "        query = query.lower()\n",
    "        q_vec = self.get_bow_representation(query)\n",
    "\n",
    "        scores = np.dot(q_vec, self.elem_vecmat.T)\n",
    "        sorted_elems = sorted(zip(self.elems, scores), key=lambda x:x[1], reverse=True)\n",
    "        return sorted_elems[:N]\n",
    "    \n",
    "    def find_nearest_favu_with_history(self, query, called_funcs, N=10, level=None, particular=None):\n",
    "        query = query.lower()\n",
    "        q_vec = self.get_bow_representation(query)\n",
    "\n",
    "        scores = np.dot(q_vec, self.elem_vecmat.T)\n",
    "        for i, e in enumerate(self.elems):\n",
    "            if level and len(e) != level:\n",
    "                scores[i] = 0\n",
    "            if e[0] in called_funcs:\n",
    "                scores[i] *= 1.5\n",
    "            e_key = e[0] if len(e)==1 else e\n",
    "            if e_key in self.element_index:\n",
    "                scores[i] *= math.log(self.element_index[e_key].count + 10)\n",
    "\n",
    "        sorted_elems = sorted(zip(self.elems, scores), key=lambda x:x[1], reverse=True)\n",
    "        if particular:\n",
    "            for x,y in sorted_elems:\n",
    "                if x == particular:\n",
    "                    print 'Particular Example:', x, y\n",
    "        \n",
    "        return sorted_elems[:N]\n",
    "    \n",
    "    def eval_sim(self, query, elem):\n",
    "        query = query.lower()\n",
    "        q_vec = self.get_bow_representation(query)\n",
    "\n",
    "        assert elem in self.elem_lookup\n",
    "        return np.dot(q_vec, self.elem_vecmat[self.elem_lookup[elem],:].T)\n",
    "    \n",
    "def tokenize(s):\n",
    "    return ' '.join(pattern.en.tokenize(s)).split()\n",
    "\n",
    "def lemma(token):\n",
    "    return pattern.vector.stem(token, stemmer=pattern.vector.LEMMA)\n",
    "\n",
    "# test\n",
    "pv = PathVector(w2v_model, element_index, any_u=twoelems_u, use_lemma=True, dbg_ref=pv)"
   ]
  },
  {
   "cell_type": "code",
   "execution_count": 91,
   "metadata": {
    "collapsed": false
   },
   "outputs": [
    {
     "data": {
      "text/plain": [
       "[(('bar', 'color'), 6.8199506),\n",
       " (('bar',), 6.2778654),\n",
       " (('bar', 'width'), 5.5286312),\n",
       " (('plot', 'color'), 4.2947183),\n",
       " (('bar', 'bottom'), 4.1417375),\n",
       " (('bar', 'yerr'), 3.066117),\n",
       " (('tick_params',), 3.0513346),\n",
       " (('bar', 'linewidth'), 3.0113461),\n",
       " (('bar', 'edgecolor'), 2.9614539),\n",
       " (('colorbar',), 2.7744157)]"
      ]
     },
     "execution_count": 91,
     "metadata": {},
     "output_type": "execute_result"
    }
   ],
   "source": [
    "pv.find_nearest_favu_with_history(\"change the color of bar\", ['bar','title','gca'], level=None)"
   ]
  },
  {
   "cell_type": "code",
   "execution_count": 167,
   "metadata": {
    "collapsed": false
   },
   "outputs": [
    {
     "data": {
      "text/plain": [
       "[(('bar', 'color'), 4.9586401),\n",
       " (('plot', 'color'), 4.0374556),\n",
       " (('bar', 'width'), 3.8815238),\n",
       " (('bar',), 3.2502491),\n",
       " (('tick_params',), 3.0480475),\n",
       " (('bar', 'linewidth'), 2.887253),\n",
       " (('bar', 'ecolor'), 2.7672811),\n",
       " (('plot',), 2.6812239),\n",
       " (('gca',), 2.632405),\n",
       " (('scatter', 'c'), 2.5525353)]"
      ]
     },
     "execution_count": 167,
     "metadata": {},
     "output_type": "execute_result"
    }
   ],
   "source": [
    "pv.find_nearest_favu_with_history(\"change the color\", ['bar','title','gca'], level=None)"
   ]
  },
  {
   "cell_type": "code",
   "execution_count": 89,
   "metadata": {
    "collapsed": false,
    "scrolled": true
   },
   "outputs": [
    {
     "data": {
      "text/plain": [
       "[(('bar',), 6.2778654),\n",
       " (('tick_params',), 3.0513346),\n",
       " (('colorbar',), 2.7744157),\n",
       " (('plot',), 2.7485089),\n",
       " (('title',), 2.5615344),\n",
       " (('scatter',), 2.1229429),\n",
       " (('gca',), 2.0433226),\n",
       " (('pie',), 1.9941124),\n",
       " (('legend',), 1.9623019),\n",
       " (('set_title',), 1.9434626)]"
      ]
     },
     "execution_count": 89,
     "metadata": {},
     "output_type": "execute_result"
    }
   ],
   "source": [
    "pv.find_nearest_favu_with_history(\"change the color of bar\", ['bar','title','gca'], level=1)"
   ]
  },
  {
   "cell_type": "code",
   "execution_count": 90,
   "metadata": {
    "collapsed": false
   },
   "outputs": [
    {
     "data": {
      "text/plain": [
       "[(('bar', 'color'), 6.8199506),\n",
       " (('bar', 'width'), 5.5286312),\n",
       " (('plot', 'color'), 4.2947183),\n",
       " (('bar', 'bottom'), 4.1417375),\n",
       " (('bar', 'yerr'), 3.066117),\n",
       " (('bar', 'linewidth'), 3.0113461),\n",
       " (('bar', 'edgecolor'), 2.9614539),\n",
       " (('bar', 'ecolor'), 2.744487),\n",
       " (('axhline', 'color'), 2.7029259),\n",
       " (('bar', 'align'), 2.6506591)]"
      ]
     },
     "execution_count": 90,
     "metadata": {},
     "output_type": "execute_result"
    }
   ],
   "source": [
    "pv.find_nearest_favu_with_history(\"change the color of bar\", ['bar','title','gca'], level=2)"
   ]
  },
  {
   "cell_type": "code",
   "execution_count": 75,
   "metadata": {
    "collapsed": false
   },
   "outputs": [
    {
     "data": {
      "text/plain": [
       "[(('bar', 'ecolor'), 1.0792642),\n",
       " (('bar', 'capsize'), 1.078748),\n",
       " (('bar', 'color'), 1.0319688),\n",
       " (('bar', 'tick_label'), 1.0238355),\n",
       " (('bar', 'width'), 0.99080426),\n",
       " (('bar', 'yerr'), 0.98589897),\n",
       " (('bar', 'edgecolor'), 0.94784379),\n",
       " (('bar', 'xerr'), 0.91548765),\n",
       " (('bar', 'bottom'), 0.89567578),\n",
       " (('bar', 'linewidth'), 0.84561592)]"
      ]
     },
     "execution_count": 75,
     "metadata": {},
     "output_type": "execute_result"
    }
   ],
   "source": [
    "pv.find_nearest_favu_with_history(\"change the color of error bar\", ['bar','title','gca'], level=2)"
   ]
  },
  {
   "cell_type": "code",
   "execution_count": 76,
   "metadata": {
    "collapsed": false
   },
   "outputs": [
    {
     "data": {
      "text/plain": [
       "'make a bar plot . determines the length in points of the error bar caps default : none , which will take the value from the errorbar.capsize rcparam . bar capsize'"
      ]
     },
     "execution_count": 76,
     "metadata": {},
     "output_type": "execute_result"
    }
   ],
   "source": [
    "pv.elem_u['bar', 'capsize']"
   ]
  },
  {
   "cell_type": "code",
   "execution_count": 93,
   "metadata": {
    "collapsed": false
   },
   "outputs": [
    {
     "data": {
      "text/plain": [
       "[(('bar',), 5.3597655),\n",
       " (('bar', 'color'), 3.8867948),\n",
       " (('bar', 'width'), 3.3611932),\n",
       " (('pie',), 3.3467035),\n",
       " (('bar', 'bottom'), 3.2608292),\n",
       " (('barh',), 3.2043087),\n",
       " (('pie', 'labels'), 2.7181654),\n",
       " (('bar', 'yerr'), 2.51087),\n",
       " (('pie', 'colors'), 2.2094915),\n",
       " (('barh', 'color'), 2.1676953)]"
      ]
     },
     "execution_count": 93,
     "metadata": {},
     "output_type": "execute_result"
    }
   ],
   "source": [
    "pv.find_nearest_favu_with_history('bar chart', [])"
   ]
  },
  {
   "cell_type": "code",
   "execution_count": 94,
   "metadata": {
    "collapsed": false
   },
   "outputs": [
    {
     "data": {
      "text/plain": [
       "[(('legend',), 6.0455313),\n",
       " (('legend', 'loc'), 4.8694849),\n",
       " (('plot', 'label'), 4.4699159),\n",
       " (('set_title',), 4.2849402),\n",
       " (('title',), 4.177937),\n",
       " (('set_ylabel',), 3.8466082),\n",
       " (('set_xlabel',), 3.7347579),\n",
       " (('plot',), 3.2389994),\n",
       " (('legend', 'ncol'), 3.2349129),\n",
       " (('legend', 'numpoints'), 3.2005026)]"
      ]
     },
     "execution_count": 94,
     "metadata": {},
     "output_type": "execute_result"
    }
   ],
   "source": [
    "pv.find_nearest_favu_with_history('add a legend', ['bar','title','gca'])"
   ]
  },
  {
   "cell_type": "code",
   "execution_count": 107,
   "metadata": {
    "collapsed": false
   },
   "outputs": [
    {
     "data": {
      "text/plain": [
       "[(('set_ylabel',), 5.9215784),\n",
       " (('set_xlabel',), 5.749393),\n",
       " (('plot', 'label'), 5.2198696),\n",
       " (('title',), 5.1264553),\n",
       " (('set_xticklabels',), 4.6034708),\n",
       " (('legend',), 4.4691153),\n",
       " (('set_yticklabels',), 4.1659832),\n",
       " (('set_title',), 4.0020509),\n",
       " (('legend', 'loc'), 3.8035519),\n",
       " (('clabel',), 3.6635616),\n",
       " (('xticks',), 3.6516464),\n",
       " (('set_xticks',), 3.5326865),\n",
       " (('ylabel',), 3.4802456),\n",
       " (('set_ticklabels',), 3.4652359),\n",
       " (('set_yticks',), 3.3189418),\n",
       " (('xlabel',), 3.0925903),\n",
       " (('annotate',), 2.9764721),\n",
       " (('get_xticklabels',), 2.9295442),\n",
       " (('text',), 2.8735266),\n",
       " (('tick_params',), 2.8572853)]"
      ]
     },
     "execution_count": 107,
     "metadata": {},
     "output_type": "execute_result"
    }
   ],
   "source": [
    "pv.find_nearest_favu_with_history('add label to axis', ['bar','title','gca'], N=20)"
   ]
  },
  {
   "cell_type": "code",
   "execution_count": 114,
   "metadata": {
    "collapsed": false
   },
   "outputs": [
    {
     "data": {
      "text/plain": [
       "[(('set_ylabel',), 5.9215784),\n",
       " (('set_xlabel',), 5.749393),\n",
       " (('plot', 'label'), 5.2198696),\n",
       " (('title',), 5.1264553),\n",
       " (('set_xticklabels',), 4.6034708),\n",
       " (('legend',), 4.4691153),\n",
       " (('set_yticklabels',), 4.1659832),\n",
       " (('set_title',), 4.0020509),\n",
       " (('legend', 'loc'), 3.8035519),\n",
       " (('clabel',), 3.6635616)]"
      ]
     },
     "execution_count": 114,
     "metadata": {},
     "output_type": "execute_result"
    }
   ],
   "source": [
    "pv.find_nearest_favu_with_history('label', ['bar','title','gca'])"
   ]
  },
  {
   "cell_type": "code",
   "execution_count": 162,
   "metadata": {
    "collapsed": false
   },
   "outputs": [
    {
     "data": {
      "text/plain": [
       "[(('bar',), 5.1364307),\n",
       " (('set_ylabel',), 4.4863582),\n",
       " (('title',), 4.3627024),\n",
       " (('set_xlabel',), 4.3597617),\n",
       " (('barh',), 4.3539686),\n",
       " (('plot', 'label'), 4.2438855),\n",
       " (('bar', 'color'), 3.9847426),\n",
       " (('barh', 'label'), 3.72363),\n",
       " (('barh', 'align'), 3.6429608),\n",
       " (('legend',), 3.6261966)]"
      ]
     },
     "execution_count": 162,
     "metadata": {},
     "output_type": "execute_result"
    }
   ],
   "source": [
    "pv.find_nearest_favu_with_history('add label to bar', ['barh','title','gca'])"
   ]
  },
  {
   "cell_type": "code",
   "execution_count": 108,
   "metadata": {
    "collapsed": false
   },
   "outputs": [
    {
     "data": {
      "text/plain": [
       "274"
      ]
     },
     "execution_count": 108,
     "metadata": {},
     "output_type": "execute_result"
    }
   ],
   "source": [
    "pv.element_index['xlabel'].count"
   ]
  },
  {
   "cell_type": "code",
   "execution_count": 109,
   "metadata": {
    "collapsed": false
   },
   "outputs": [
    {
     "data": {
      "text/plain": [
       "313"
      ]
     },
     "execution_count": 109,
     "metadata": {},
     "output_type": "execute_result"
    }
   ],
   "source": [
    "pv.element_index['set_xlabel'].count"
   ]
  },
  {
   "cell_type": "code",
   "execution_count": 112,
   "metadata": {
    "collapsed": false
   },
   "outputs": [
    {
     "data": {
      "text/plain": [
       "372"
      ]
     },
     "execution_count": 112,
     "metadata": {},
     "output_type": "execute_result"
    }
   ],
   "source": [
    "pv.element_index['set_ylabel'].count"
   ]
  },
  {
   "cell_type": "code",
   "execution_count": 111,
   "metadata": {
    "collapsed": false
   },
   "outputs": [
    {
     "data": {
      "text/plain": [
       "1.8766962260993116"
      ]
     },
     "execution_count": 111,
     "metadata": {},
     "output_type": "execute_result"
    }
   ],
   "source": [
    "pv.idfs[pv.model.vocab['x'].index]"
   ]
  },
  {
   "cell_type": "code",
   "execution_count": 163,
   "metadata": {
    "collapsed": false
   },
   "outputs": [
    {
     "data": {
      "text/plain": [
       "[(('title',), 5.7267838),\n",
       " (('set_title',), 5.4599924),\n",
       " (('set_ylabel',), 3.6360991),\n",
       " (('set_xlabel',), 3.5334954),\n",
       " (('figure',), 3.3880913),\n",
       " (('ylabel',), 3.3253629),\n",
       " (('plot', 'label'), 3.3251779),\n",
       " (('xlabel',), 3.1879299),\n",
       " (('legend',), 3.1693764),\n",
       " (('suptitle',), 3.1600735)]"
      ]
     },
     "execution_count": 163,
     "metadata": {},
     "output_type": "execute_result"
    }
   ],
   "source": [
    "pv.find_nearest_favu_with_history('add title', ['bar'])"
   ]
  },
  {
   "cell_type": "code",
   "execution_count": 170,
   "metadata": {
    "collapsed": false
   },
   "outputs": [
    {
     "data": {
      "text/plain": [
       "[(('plot',), 3.0003369),\n",
       " (('plot', 'linestyle'), 2.6804135),\n",
       " (('use',), 2.450583),\n",
       " (('plot', 'alpha'), 2.2735984),\n",
       " (('set_color',), 2.1326993),\n",
       " (('set_hatch',), 2.1158412),\n",
       " (('barh', 'alpha'), 2.0963635),\n",
       " (('plot', 'marker'), 2.0929823),\n",
       " (('figure', 'figsize'), 1.9898123),\n",
       " (('add_patch',), 1.9872736),\n",
       " (('plot', 'color'), 1.9526453),\n",
       " (('plot', 'linewidth'), 1.8575439),\n",
       " (('scatter', 'alpha'), 1.8561339),\n",
       " (('barh', 'color'), 1.8245343),\n",
       " (('plot', 'markersize'), 1.7813454),\n",
       " (('scatter', 'marker'), 1.7598672),\n",
       " (('plot', 'label'), 1.7513134),\n",
       " (('set_alpha',), 1.7428889),\n",
       " (('barh', 'hatch'), 1.7377423),\n",
       " (('barh', 'ecolor'), 1.7346425),\n",
       " (('plot', 'zorder'), 1.7045667),\n",
       " (('barh', 'rasterized'), 1.6843882),\n",
       " (('get_hatch',), 1.6644897),\n",
       " (('grid', 'linestyle'), 1.6404513),\n",
       " (('plot', 'markerfacecolor'), 1.5937103),\n",
       " (('axhline', 'linestyle'), 1.5898454),\n",
       " (('tick_params',), 1.5878882),\n",
       " (('axis',), 1.578981),\n",
       " (('subplots_adjust',), 1.5780613),\n",
       " (('subplots', 'figsize'), 1.5410643)]"
      ]
     },
     "execution_count": 170,
     "metadata": {},
     "output_type": "execute_result"
    }
   ],
   "source": [
    "pv.find_nearest_favu_with_history('hatching',['barh'],N=30)"
   ]
  },
  {
   "cell_type": "code",
   "execution_count": 142,
   "metadata": {
    "collapsed": false
   },
   "outputs": [
    {
     "data": {
      "text/plain": [
       "(0, 33)"
      ]
     },
     "execution_count": 142,
     "metadata": {},
     "output_type": "execute_result"
    }
   ],
   "source": [
    "pv.element_index['barh','hatch'].count, pv.element_index['barh','color'].count"
   ]
  },
  {
   "cell_type": "code",
   "execution_count": 144,
   "metadata": {
    "collapsed": false
   },
   "outputs": [
    {
     "data": {
      "text/plain": [
       "[(('plot',), 2.0971491),\n",
       " (('spy',), 2.0067892),\n",
       " (('set_hatch',), 1.9396838),\n",
       " (('set_fontconfig_pattern', 'pattern'), 1.8075762),\n",
       " (('plot', 'color'), 1.7272801),\n",
       " (('barh', 'hatch'), 1.5883023),\n",
       " (('subplot',), 1.5775084),\n",
       " (('imshow', 'extent'), 1.5291213),\n",
       " (('barbs', 'hatch'), 1.5160178),\n",
       " (('pcolormesh', 'hatch'), 1.4493353)]"
      ]
     },
     "execution_count": 144,
     "metadata": {},
     "output_type": "execute_result"
    }
   ],
   "source": [
    "pv.find_nearest_favu_with_history('add pattern',['barh'])"
   ]
  },
  {
   "cell_type": "code",
   "execution_count": 145,
   "metadata": {
    "collapsed": false
   },
   "outputs": [
    {
     "data": {
      "text/plain": [
       "[(('legend',), 4.5363936),\n",
       " (('legend', 'loc'), 3.5968735),\n",
       " (('plot', 'label'), 3.3333888),\n",
       " (('legend', 'shadow'), 2.7488227),\n",
       " (('plot',), 2.7461987),\n",
       " (('set_title',), 2.6677158),\n",
       " (('set_ylabel',), 2.4933481),\n",
       " (('legend', 'prop'), 2.4445868),\n",
       " (('legend', 'ncol'), 2.4395103),\n",
       " (('legend', 'bbox_to_anchor'), 2.4271677)]"
      ]
     },
     "execution_count": 145,
     "metadata": {},
     "output_type": "execute_result"
    }
   ],
   "source": [
    "pv.find_nearest_favu_with_history('add shadow to legend', ['barh'])"
   ]
  },
  {
   "cell_type": "code",
   "execution_count": 147,
   "metadata": {
    "collapsed": false,
    "scrolled": true
   },
   "outputs": [
    {
     "data": {
      "text/plain": [
       "22"
      ]
     },
     "execution_count": 147,
     "metadata": {},
     "output_type": "execute_result"
    }
   ],
   "source": [
    "pv.element_index['legend','shadow'].count"
   ]
  },
  {
   "cell_type": "code",
   "execution_count": 149,
   "metadata": {
    "collapsed": false
   },
   "outputs": [
    {
     "data": {
      "text/plain": [
       "12"
      ]
     },
     "execution_count": 149,
     "metadata": {},
     "output_type": "execute_result"
    }
   ],
   "source": [
    "pv.element_index['pie','explode'].count"
   ]
  },
  {
   "cell_type": "code",
   "execution_count": 164,
   "metadata": {
    "collapsed": false
   },
   "outputs": [
    {
     "data": {
      "text/plain": [
       "[(('errorbar', 'color'), 3.1700554),\n",
       " (('bar', 'color'), 3.0637844),\n",
       " (('errorbar', 'yerr'), 2.7081172),\n",
       " (('errorbar', 'elinewidth'), 2.6738045),\n",
       " (('errorbar', 'marker'), 2.5789244),\n",
       " (('errorbar', 'label'), 2.5593166),\n",
       " (('bar', 'yerr'), 2.5365443),\n",
       " (('plot', 'color'), 2.4367342),\n",
       " (('errorbar', 'ecolor'), 2.4015684),\n",
       " (('plot', 'label'), 2.39098)]"
      ]
     },
     "execution_count": 164,
     "metadata": {},
     "output_type": "execute_result"
    }
   ],
   "source": [
    "pv.find_nearest_favu_with_history('add error bar', ['bar'], level=2)"
   ]
  },
  {
   "cell_type": "code",
   "execution_count": 155,
   "metadata": {
    "collapsed": false
   },
   "outputs": [
    {
     "data": {
      "text/plain": [
       "[(('bar', 'width'), 6.2909636),\n",
       " (('bar', 'color'), 5.5728292),\n",
       " (('bar', 'bottom'), 4.5272994),\n",
       " (('bar', 'linewidth'), 3.8438463),\n",
       " (('bar', 'align'), 3.6277189),\n",
       " (('bar', 'edgecolor'), 3.4315317),\n",
       " (('bar', 'height'), 3.2594993),\n",
       " (('bar', 'ecolor'), 3.1723094),\n",
       " (('plot', 'linewidth'), 3.1693923),\n",
       " (('bar', 'yerr'), 3.101994)]"
      ]
     },
     "execution_count": 155,
     "metadata": {},
     "output_type": "execute_result"
    }
   ],
   "source": [
    "pv.find_nearest_favu_with_history('change width of the bar', ['bar'], level=2)"
   ]
  },
  {
   "cell_type": "code",
   "execution_count": 156,
   "metadata": {
    "collapsed": false
   },
   "outputs": [
    {
     "data": {
      "text/plain": [
       "'make a bar plot . if not none , will be used to generate errorbar(s ) on the bar chart default : none bar yerr'"
      ]
     },
     "execution_count": 156,
     "metadata": {},
     "output_type": "execute_result"
    }
   ],
   "source": [
    "pv.elem_u['bar','yerr']"
   ]
  },
  {
   "cell_type": "code",
   "execution_count": 160,
   "metadata": {
    "collapsed": false
   },
   "outputs": [
    {
     "data": {
      "text/plain": [
       "[(('errorbar', 'color'), 3.1700554),\n",
       " (('bar', 'color'), 3.0637844),\n",
       " (('errorbar', 'yerr'), 2.7081172),\n",
       " (('errorbar', 'elinewidth'), 2.6738045),\n",
       " (('errorbar', 'marker'), 2.5789244),\n",
       " (('errorbar', 'label'), 2.5593166),\n",
       " (('bar', 'yerr'), 2.5365443),\n",
       " (('plot', 'color'), 2.4367342),\n",
       " (('errorbar', 'ecolor'), 2.4015684),\n",
       " (('plot', 'label'), 2.39098)]"
      ]
     },
     "execution_count": 160,
     "metadata": {},
     "output_type": "execute_result"
    }
   ],
   "source": [
    "pv.find_nearest_favu_with_history('errorbar',['bar'], level=2)"
   ]
  }
 ],
 "metadata": {
  "kernelspec": {
   "display_name": "Python 2",
   "language": "python",
   "name": "python2"
  },
  "language_info": {
   "codemirror_mode": {
    "name": "ipython",
    "version": 2
   },
   "file_extension": ".py",
   "mimetype": "text/x-python",
   "name": "python",
   "nbconvert_exporter": "python",
   "pygments_lexer": "ipython2",
   "version": "2.7.11"
  }
 },
 "nbformat": 4,
 "nbformat_minor": 0
}
